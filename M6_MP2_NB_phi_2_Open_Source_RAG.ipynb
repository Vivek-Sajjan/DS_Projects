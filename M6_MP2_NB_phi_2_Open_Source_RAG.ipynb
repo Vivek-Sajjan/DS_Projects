{
  "cells": [
    {
      "cell_type": "markdown",
      "metadata": {
        "id": "view-in-github",
        "colab_type": "text"
      },
      "source": [
        "<a href=\"https://colab.research.google.com/github/Vivek-Sajjan/DS_Projects/blob/main/M6_MP2_NB_phi_2_Open_Source_RAG.ipynb\" target=\"_parent\"><img src=\"https://colab.research.google.com/assets/colab-badge.svg\" alt=\"Open In Colab\"/></a>"
      ]
    },
    {
      "cell_type": "markdown",
      "source": [
        "# Advanced Certification Program in Computational Data Science\n",
        "## A programme by IISc and TalentSprint\n",
        "### Mini-Project: Open Source Retrieval Augmented Generation (RAG)"
      ],
      "metadata": {
        "id": "i5gB6iG94kzV"
      },
      "id": "i5gB6iG94kzV"
    },
    {
      "cell_type": "markdown",
      "source": [
        "## Problem Statement\n",
        "\n",
        "Retrieval Q and A Integrated with LLM"
      ],
      "metadata": {
        "id": "I0FW5b1NQ_Wu"
      },
      "id": "I0FW5b1NQ_Wu"
    },
    {
      "cell_type": "markdown",
      "source": [
        "## Learning Objectives\n",
        "\n",
        "At the end of the experiment you will be able to :\n",
        "\n",
        "1. Run Phi-2, Microsoft's small language model (SLM), using two methods:\n",
        "   - Direct Inference using HuggingFace\n",
        "   - Retrieval Augmented Generation (RAG) using Llama-index\n",
        "2. Know the basic working of Llama Index VectorStore\n",
        "3. Implement the Hugging Face embedding\n",
        "4. Implement a simple FAISS-based vector store for efficient similarity search of high-dimensional data.\n",
        "5. Create RetrievalQA chain along with prompt template\n",
        "6. Compare the **effectiveness of Phi-2 & Zephyr-7b-beta model** by means of Cosine Similarity.\n",
        "7. Compare the **effectiveness of 5 different Hugging Face embeddings** by computing and analyzing the cosine similarity between the embedded vectors of queries and results from Zephyr-7b-beta model, to understand the differences in semantic similarity and performance.\n"
      ],
      "metadata": {
        "id": "1jylUQmEIH-y"
      },
      "id": "1jylUQmEIH-y"
    },
    {
      "cell_type": "markdown",
      "source": [
        "## Information\n",
        "\n",
        "Retrieval Augmented Generation (RAG) combines the advanced text-generation capabilities of GPT and other large language models with information retrieval functions to provide precise and contextually relevant information. This innovative approach improves language models' ability to understand and process user queries by integrating the latest and most relevant data. As RAG continues to evolve, its growing applications are set to revolutionize AI efficiency and utility.\n",
        "\n",
        "##Retrieval-Augmented Generation (RAG) Process\n",
        "###  **Feeding LLMs with Accurate Information**:\n",
        "\n",
        "- Instead of directly querying the language model, relevant data is first retrieved from a well-maintained knowledge library.\n",
        "\n",
        "\n",
        "###**Retrieval Before Generation**:\n",
        "\n",
        "- Accurate data is retrieved using vector embeddings (numerical representations of the data).\n",
        "- These embeddings help match the query with relevant documents in a vector database.\n",
        "\n",
        "\n",
        "###**Context for Generation**:\n",
        "\n",
        "- Once the requested document or information is found, the retrieved context is used by the model to generate the answer.\n",
        "\n",
        "\n",
        "###**Reduces Hallucinations**:\n",
        "\n",
        "- This approach lowers the risk of hallucinations, where the model generates inaccurate or false information.\n",
        "\n",
        "\n",
        "###**No Need for Retraining**:\n",
        "\n",
        "- The knowledge base can be updated without retraining the model, making the system adaptable without incurring high costs.\n",
        "\n",
        "\n",
        "###**Cost-Effective Model Updates**:\n",
        "\n",
        "- By using a retriever system, models can be updated dynamically without the expense of a full model retraining process.\n",
        "\n",
        "<br><br>\n",
        "<center>\n",
        "<img src=\" https://cdn.exec.talentsprint.com/static/cds/content/RAG_Image.jpg\" width= 600 px/>\n",
        "</center>\n",
        "<br><br>\n",
        "\n",
        "RAG brings together four key components:\n",
        "\n",
        "- **Embedding model**: This is where documents are turned into vectors, or numerical representations, which make it easier for the system to manage and compare large amounts of text data.\n",
        "- **Retriever**: Think of this as the search engine within RAG. It uses the embedding model to process a question and fetch the most relevant document vectors that match the query.\n",
        "- **Reranker (optional)**: This component takes things a step further by evaluating the retrieved documents to determine how relevant they are to the question at hand, providing a relevance score for each one.\n",
        "- **Language model**: Finally, this part of the system takes the top documents provided by the retriever or reranker, along with the original question, and crafts a precise answer.\n",
        "To know more about the RAG, refer [here](https://www.superannotate.com/blog/rag-explained)."
      ],
      "metadata": {
        "id": "Vi22cd57RXms"
      },
      "id": "Vi22cd57RXms"
    },
    {
      "cell_type": "markdown",
      "source": [
        "\n",
        "In this notebook, we'll explore how to run Phi-2, Microsoft's small language model (SLM), using two methods:\n",
        "- Direct Inference using HuggingFace\n",
        "- Retrieval Augmented Generation (RAG) using Llama-index\n",
        "\n",
        "Phi-2 is an SLM with 2.7 billion parameters and trained on 1.4T tokens."
      ],
      "metadata": {
        "id": "lt_QVg04RLot"
      },
      "id": "lt_QVg04RLot"
    },
    {
      "cell_type": "markdown",
      "metadata": {
        "id": "xDCe4r5fwDtD"
      },
      "source": [
        "## Benefits of Small Models\n",
        "- Fast fine-tuning\n",
        "- Can be run locally\n",
        "- Requires less computational resources\n",
        "\n",
        "### **Note: This notebook has to necessarily run on GPU.**"
      ],
      "id": "xDCe4r5fwDtD"
    },
    {
      "cell_type": "markdown",
      "source": [
        "## Grading = 10 Points"
      ],
      "metadata": {
        "id": "dIu0egmxkROS"
      },
      "id": "dIu0egmxkROS"
    },
    {
      "cell_type": "markdown",
      "metadata": {
        "id": "oXWCjoVEwDtD"
      },
      "source": [
        "## Install Required Packages\n",
        "Install necessary libraries for running Phi-2 on Google Colab."
      ],
      "id": "oXWCjoVEwDtD"
    },
    {
      "cell_type": "code",
      "execution_count": 2,
      "metadata": {
        "id": "H1QOUdb2wDtE",
        "outputId": "5978e724-65b1-46d9-f2c6-363050346449",
        "colab": {
          "base_uri": "https://localhost:8080/"
        }
      },
      "outputs": [
        {
          "output_type": "stream",
          "name": "stdout",
          "text": [
            "\u001b[2K   \u001b[90m━━━━━━━━━━━━━━━━━━━━━━━━━━━━━━━━━━━━━━━━\u001b[0m \u001b[32m363.4/363.4 MB\u001b[0m \u001b[31m4.1 MB/s\u001b[0m eta \u001b[36m0:00:00\u001b[0m\n",
            "\u001b[2K   \u001b[90m━━━━━━━━━━━━━━━━━━━━━━━━━━━━━━━━━━━━━━━━\u001b[0m \u001b[32m13.8/13.8 MB\u001b[0m \u001b[31m123.1 MB/s\u001b[0m eta \u001b[36m0:00:00\u001b[0m\n",
            "\u001b[2K   \u001b[90m━━━━━━━━━━━━━━━━━━━━━━━━━━━━━━━━━━━━━━━━\u001b[0m \u001b[32m24.6/24.6 MB\u001b[0m \u001b[31m86.0 MB/s\u001b[0m eta \u001b[36m0:00:00\u001b[0m\n",
            "\u001b[2K   \u001b[90m━━━━━━━━━━━━━━━━━━━━━━━━━━━━━━━━━━━━━━━━\u001b[0m \u001b[32m883.7/883.7 kB\u001b[0m \u001b[31m53.4 MB/s\u001b[0m eta \u001b[36m0:00:00\u001b[0m\n",
            "\u001b[2K   \u001b[90m━━━━━━━━━━━━━━━━━━━━━━━━━━━━━━━━━━━━━━━━\u001b[0m \u001b[32m664.8/664.8 MB\u001b[0m \u001b[31m2.7 MB/s\u001b[0m eta \u001b[36m0:00:00\u001b[0m\n",
            "\u001b[2K   \u001b[90m━━━━━━━━━━━━━━━━━━━━━━━━━━━━━━━━━━━━━━━━\u001b[0m \u001b[32m211.5/211.5 MB\u001b[0m \u001b[31m5.3 MB/s\u001b[0m eta \u001b[36m0:00:00\u001b[0m\n",
            "\u001b[2K   \u001b[90m━━━━━━━━━━━━━━━━━━━━━━━━━━━━━━━━━━━━━━━━\u001b[0m \u001b[32m56.3/56.3 MB\u001b[0m \u001b[31m15.6 MB/s\u001b[0m eta \u001b[36m0:00:00\u001b[0m\n",
            "\u001b[2K   \u001b[90m━━━━━━━━━━━━━━━━━━━━━━━━━━━━━━━━━━━━━━━━\u001b[0m \u001b[32m127.9/127.9 MB\u001b[0m \u001b[31m7.2 MB/s\u001b[0m eta \u001b[36m0:00:00\u001b[0m\n",
            "\u001b[2K   \u001b[90m━━━━━━━━━━━━━━━━━━━━━━━━━━━━━━━━━━━━━━━━\u001b[0m \u001b[32m207.5/207.5 MB\u001b[0m \u001b[31m6.0 MB/s\u001b[0m eta \u001b[36m0:00:00\u001b[0m\n",
            "\u001b[2K   \u001b[90m━━━━━━━━━━━━━━━━━━━━━━━━━━━━━━━━━━━━━━━━\u001b[0m \u001b[32m21.1/21.1 MB\u001b[0m \u001b[31m93.3 MB/s\u001b[0m eta \u001b[36m0:00:00\u001b[0m\n",
            "\u001b[2K   \u001b[90m━━━━━━━━━━━━━━━━━━━━━━━━━━━━━━━━━━━━━━━━\u001b[0m \u001b[32m67.0/67.0 MB\u001b[0m \u001b[31m10.6 MB/s\u001b[0m eta \u001b[36m0:00:00\u001b[0m\n",
            "\u001b[2K   \u001b[90m━━━━━━━━━━━━━━━━━━━━━━━━━━━━━━━━━━━━━━━━\u001b[0m \u001b[32m2.5/2.5 MB\u001b[0m \u001b[31m56.4 MB/s\u001b[0m eta \u001b[36m0:00:00\u001b[0m\n",
            "\u001b[2K   \u001b[90m━━━━━━━━━━━━━━━━━━━━━━━━━━━━━━━━━━━━━━━━\u001b[0m \u001b[32m44.4/44.4 kB\u001b[0m \u001b[31m4.0 MB/s\u001b[0m eta \u001b[36m0:00:00\u001b[0m\n",
            "\u001b[2K   \u001b[90m━━━━━━━━━━━━━━━━━━━━━━━━━━━━━━━━━━━━━━━━\u001b[0m \u001b[32m50.9/50.9 kB\u001b[0m \u001b[31m5.2 MB/s\u001b[0m eta \u001b[36m0:00:00\u001b[0m\n",
            "\u001b[2K     \u001b[90m━━━━━━━━━━━━━━━━━━━━━━━━━━━━━━━━━━━━━━━━\u001b[0m \u001b[32m67.3/67.3 kB\u001b[0m \u001b[31m7.1 MB/s\u001b[0m eta \u001b[36m0:00:00\u001b[0m\n",
            "\u001b[?25h  Installing build dependencies ... \u001b[?25l\u001b[?25hdone\n",
            "  Getting requirements to build wheel ... \u001b[?25l\u001b[?25hdone\n",
            "  Preparing metadata (pyproject.toml) ... \u001b[?25l\u001b[?25hdone\n",
            "\u001b[2K   \u001b[90m━━━━━━━━━━━━━━━━━━━━━━━━━━━━━━━━━━━━━━━━\u001b[0m \u001b[32m19.3/19.3 MB\u001b[0m \u001b[31m114.7 MB/s\u001b[0m eta \u001b[36m0:00:00\u001b[0m\n",
            "\u001b[2K   \u001b[90m━━━━━━━━━━━━━━━━━━━━━━━━━━━━━━━━━━━━━━━━\u001b[0m \u001b[32m94.9/94.9 kB\u001b[0m \u001b[31m9.6 MB/s\u001b[0m eta \u001b[36m0:00:00\u001b[0m\n",
            "\u001b[2K   \u001b[90m━━━━━━━━━━━━━━━━━━━━━━━━━━━━━━━━━━━━━━━━\u001b[0m \u001b[32m284.2/284.2 kB\u001b[0m \u001b[31m26.4 MB/s\u001b[0m eta \u001b[36m0:00:00\u001b[0m\n",
            "\u001b[2K   \u001b[90m━━━━━━━━━━━━━━━━━━━━━━━━━━━━━━━━━━━━━━━━\u001b[0m \u001b[32m2.0/2.0 MB\u001b[0m \u001b[31m94.5 MB/s\u001b[0m eta \u001b[36m0:00:00\u001b[0m\n",
            "\u001b[2K   \u001b[90m━━━━━━━━━━━━━━━━━━━━━━━━━━━━━━━━━━━━━━━━\u001b[0m \u001b[32m101.6/101.6 kB\u001b[0m \u001b[31m10.7 MB/s\u001b[0m eta \u001b[36m0:00:00\u001b[0m\n",
            "\u001b[2K   \u001b[90m━━━━━━━━━━━━━━━━━━━━━━━━━━━━━━━━━━━━━━━━\u001b[0m \u001b[32m16.4/16.4 MB\u001b[0m \u001b[31m53.4 MB/s\u001b[0m eta \u001b[36m0:00:00\u001b[0m\n",
            "\u001b[2K   \u001b[90m━━━━━━━━━━━━━━━━━━━━━━━━━━━━━━━━━━━━━━━━\u001b[0m \u001b[32m65.8/65.8 kB\u001b[0m \u001b[31m6.7 MB/s\u001b[0m eta \u001b[36m0:00:00\u001b[0m\n",
            "\u001b[2K   \u001b[90m━━━━━━━━━━━━━━━━━━━━━━━━━━━━━━━━━━━━━━━━\u001b[0m \u001b[32m55.9/55.9 kB\u001b[0m \u001b[31m5.0 MB/s\u001b[0m eta \u001b[36m0:00:00\u001b[0m\n",
            "\u001b[2K   \u001b[90m━━━━━━━━━━━━━━━━━━━━━━━━━━━━━━━━━━━━━━━━\u001b[0m \u001b[32m194.9/194.9 kB\u001b[0m \u001b[31m19.2 MB/s\u001b[0m eta \u001b[36m0:00:00\u001b[0m\n",
            "\u001b[2K   \u001b[90m━━━━━━━━━━━━━━━━━━━━━━━━━━━━━━━━━━━━━━━━\u001b[0m \u001b[32m119.0/119.0 kB\u001b[0m \u001b[31m13.1 MB/s\u001b[0m eta \u001b[36m0:00:00\u001b[0m\n",
            "\u001b[2K   \u001b[90m━━━━━━━━━━━━━━━━━━━━━━━━━━━━━━━━━━━━━━━━\u001b[0m \u001b[32m96.7/96.7 kB\u001b[0m \u001b[31m10.6 MB/s\u001b[0m eta \u001b[36m0:00:00\u001b[0m\n",
            "\u001b[2K   \u001b[90m━━━━━━━━━━━━━━━━━━━━━━━━━━━━━━━━━━━━━━━━\u001b[0m \u001b[32m459.8/459.8 kB\u001b[0m \u001b[31m38.9 MB/s\u001b[0m eta \u001b[36m0:00:00\u001b[0m\n",
            "\u001b[2K   \u001b[90m━━━━━━━━━━━━━━━━━━━━━━━━━━━━━━━━━━━━━━━━\u001b[0m \u001b[32m71.5/71.5 kB\u001b[0m \u001b[31m7.3 MB/s\u001b[0m eta \u001b[36m0:00:00\u001b[0m\n",
            "\u001b[2K   \u001b[90m━━━━━━━━━━━━━━━━━━━━━━━━━━━━━━━━━━━━━━━━\u001b[0m \u001b[32m4.0/4.0 MB\u001b[0m \u001b[31m119.1 MB/s\u001b[0m eta \u001b[36m0:00:00\u001b[0m\n",
            "\u001b[2K   \u001b[90m━━━━━━━━━━━━━━━━━━━━━━━━━━━━━━━━━━━━━━━━\u001b[0m \u001b[32m454.8/454.8 kB\u001b[0m \u001b[31m19.8 MB/s\u001b[0m eta \u001b[36m0:00:00\u001b[0m\n",
            "\u001b[2K   \u001b[90m━━━━━━━━━━━━━━━━━━━━━━━━━━━━━━━━━━━━━━━━\u001b[0m \u001b[32m46.0/46.0 kB\u001b[0m \u001b[31m4.2 MB/s\u001b[0m eta \u001b[36m0:00:00\u001b[0m\n",
            "\u001b[2K   \u001b[90m━━━━━━━━━━━━━━━━━━━━━━━━━━━━━━━━━━━━━━━━\u001b[0m \u001b[32m86.8/86.8 kB\u001b[0m \u001b[31m8.9 MB/s\u001b[0m eta \u001b[36m0:00:00\u001b[0m\n",
            "\u001b[?25h  Building wheel for pypika (pyproject.toml) ... \u001b[?25l\u001b[?25hdone\n",
            "Requirement already satisfied: hf_xet in /usr/local/lib/python3.11/dist-packages (1.1.2)\n"
          ]
        }
      ],
      "source": [
        "!pip -qq install langchain torch transformers sentencepiece accelerate bitsandbytes einops sentence-transformers\n",
        "!pip -qq install langchain_community\n",
        "!pip -qq install langchain_huggingface\n",
        "!pip -qq install huggingface_hub\n",
        "!pip -qq install chromadb\n",
        "!pip install hf_xet\n",
        "!pip -qq install -U langchain-huggingface"
      ],
      "id": "H1QOUdb2wDtE"
    },
    {
      "cell_type": "markdown",
      "source": [
        "## Importing necessary packages"
      ],
      "metadata": {
        "id": "5sUNWYCUWIMW"
      },
      "id": "5sUNWYCUWIMW"
    },
    {
      "cell_type": "code",
      "source": [
        "import os\n",
        "import numpy as np\n",
        "from getpass import getpass\n",
        "from langchain import hub\n",
        "from langchain.llms import HuggingFacePipeline\n",
        "from transformers import pipeline\n",
        "from langchain_community.llms import HuggingFaceEndpoint\n",
        "from langchain_community.chat_models.huggingface import ChatHuggingFace\n",
        "from langchain_text_splitters import RecursiveCharacterTextSplitter\n",
        "from langchain_community.embeddings import HuggingFaceHubEmbeddings\n",
        "from langchain.prompts import PromptTemplate\n",
        "from transformers import pipeline\n",
        "from langchain_community.embeddings import HuggingFaceEmbeddings\n",
        "\n",
        "from langchain.llms import HuggingFaceHub\n",
        "from langchain import LLMChain\n",
        "from langchain.chains import RetrievalQA\n",
        "from langchain_community.embeddings import HuggingFaceEmbeddings\n",
        "#from llama_index.embeddings import HuggingFaceEmbedding\n",
        "\n",
        "from langchain_community.vectorstores import Chroma\n",
        "from langchain_community.document_loaders import PyPDFLoader\n",
        "from langchain.document_loaders.csv_loader import CSVLoader\n",
        "from transformers import AutoTokenizer, AutoModel\n",
        "import torch\n",
        "from sklearn.metrics.pairwise import cosine_similarity"
      ],
      "metadata": {
        "id": "13z90ZwCWCMg"
      },
      "id": "13z90ZwCWCMg",
      "execution_count": 3,
      "outputs": []
    },
    {
      "cell_type": "markdown",
      "source": [
        "# **Phase-I:** Comparison between Microsoft Phi-2 and Hugging Face Zephyr-7b-beta without Retrieval Augmented Generation (RAG)"
      ],
      "metadata": {
        "id": "Wm6u9sf8dpcU"
      },
      "id": "Wm6u9sf8dpcU"
    },
    {
      "cell_type": "markdown",
      "metadata": {
        "id": "Zg2qL17QwDtF"
      },
      "source": [
        "## 1.1 Load the Phi-2 Model and Tokenizer to integrate with Langchain using HuggingFace Pipeline\n",
        "\n",
        "<br><br>\n",
        "<center>\n",
        "<img src=\" https://cdn.exec.talentsprint.com/static/cds/content/Phi_2_without_RAG-1.png\" width= 600 px/>\n",
        "</center>\n",
        "<br><br>\n",
        "\n",
        "**Exercise-1:** Load Phi-2 model and tokenizer from Huggingface and create a pipeline for text generation. Then integrate the Phi-2 model with Langchain for better prompt handling. **(0.5 point)**"
      ],
      "id": "Zg2qL17QwDtF"
    },
    {
      "cell_type": "code",
      "execution_count": 5,
      "metadata": {
        "id": "8BDZfrVYwDtF",
        "outputId": "f800c8ee-f4af-4b10-f269-a0576304751e",
        "colab": {
          "base_uri": "https://localhost:8080/",
          "height": 555,
          "referenced_widgets": [
            "fa79afab11094eaea90a05c0e60fcc34",
            "9ff0e36b0dd144f39c5f9cf208a17394",
            "86fdb878398a46a78c87cba56fe34bd2",
            "cd9efb1307b3434f99eadd237933c36f",
            "da1b6581f2a14b68bc6423529dbeaac8",
            "13fdc4fd7cff481e8b4dc9e736bdee55",
            "e8b6f10325d44c54801935710ac5656a",
            "b2390137f158430883f1af95404e2e66",
            "b3ad75149e9c4ef1a481654d92a35f6e",
            "2eae9dafbf5347de9e5dda617905684d",
            "f62efd2be1e3424fbf23533179247730",
            "a992ddaddad64eff8d56c8d51d19c5ce",
            "e47588f529dc4d638fd69f23ad45576f",
            "291d3c78bbdb4168a167b9b0638f34c5",
            "02aa714fd94149c8abc33065bc296f0d",
            "d9fe5b81e8794ae787ed9dc15b6ef2e8",
            "a1666952911c4340bd28157e50220bce",
            "6f7a7df000a04d00b1625f9a921857d3",
            "a21ecb05a2fa47d297440178790b0008",
            "84d036dea8df41a79b2a15290bff5192",
            "4df9b9279a61458fb866976b24758183",
            "8d36b0d69b0c42be9ca77f6fce29e687",
            "0fcdcb35e7c749c3ba96bb36560c3b88",
            "f0cf3ea982b744deb69536d2bdd86ee3",
            "b2797c497d784af69c3b289b14e81e6e",
            "ecc5f5edb524431b9820a2b85a0775a2",
            "df5d648ded1249159469595abeaf8b3b",
            "be0391b69f324f87873a624896f544de",
            "e0921c740715406492f174f656b6cbc6",
            "431759e5fb89425c889942d00d12a728",
            "11460436e48841e39a549cc68a7920c0",
            "10160739aa7846f2880a3f3b214c0ddd",
            "886e5eba86e049b28ea08ab716b4a974",
            "b1d392ea3d4840d1866db73231d60f93",
            "f7809c06919c42e29c63e86a1c912ef8",
            "e9839ed922334bda8c48ea8b2fb28319",
            "20dbf68293424a2186c2ae792ec63805",
            "2a6d2f42fba7410fa5b7e34df98d0422",
            "124efcab46d74545b6e0a5e4744c8ff6",
            "ce60a1405aea4b2a99512103dbb60dc9",
            "7681436d93b24fd9b6d9539ecdb6782f",
            "69a8b15446d140aba24d77c283fe7d24",
            "be5cbb50292c412eaae3a39aafaac912",
            "605188d505e04cde871d14085fa0792d",
            "f9c9366e6c4a4ab38a21d3963e8b919e",
            "624d79cb693a4a81accc3479165d297d",
            "353fb57f1c3c43a08a83f83165d33f82",
            "1120d82513534f79b95d60f7e1c50f23",
            "ebcb9d068b4247f8a2c5fe55fe147aa7",
            "1239b7d8ab954633bbb6571943932ddb",
            "a407952677bd415eb6c568be4e45bc9e",
            "a8509af6e1524f818e66c24553e00bb1",
            "a6d475eaf8774eeb8d6c56d4d5ce949f",
            "79d6b8d25f314ba288463b1fbca21247",
            "02839a042af54eff8d5ca247ef929d8e",
            "a87d6e7daf104d5ab00fda3f3e11a339",
            "c3e1fecc2c7e413ea2683cd992ecbbb0",
            "8a99deb2a4e64eafa6048ff055405eef",
            "282e16ea5edb40648f4ffa0f754e294a",
            "fe170075522f478c906fcc084483c011",
            "a5c773b4bf4f441babecdc3ed8df43f0",
            "46deea5a425346408f3010ba26f0a49f",
            "c65bb3d814a444f2971ff9bd38a979c9",
            "af846318f97646eeb72f61ee6b6e2f9f",
            "3f7c5489fe5f4b90bd0ffa73ef0c2ea6",
            "27f1ed9af04b4f289b5e2eddbbbf48c2",
            "be1e263c3c7b44a9b3ff5ae0acabeea1",
            "b0bd2c3970af4866aba1aa7b628d5d1a",
            "efb9254be6044760865544e657d0ccbf",
            "791ff87c4d95423f9e5f9209e661bfc7",
            "4d833f3bc462412a89c25abd2e761938",
            "77565397402b4bc1be525724a12e63a7",
            "3df6ed397b0f40de984cdae253000e7a",
            "727af862c8cd43d4bad64e5ee026503d",
            "9a6f8eb9d95d4a269146f49443e6a22d",
            "b67c3b8c4a8b4fbabbb1d4857d588647",
            "7f0ebcded5a742efae4aa86ccc91b442",
            "0f6c2788cae54b44912d466adf8b2315",
            "0de742f5ae67470f9e81e180215970c9",
            "68eac126b3224ee381169088c9108218",
            "ea7c0db8fbd24ec58f7bd3ee9f8a6a88",
            "a7d207ff524140e4b5017a28af3184c1",
            "5f3c311f08794d07a11fa3cabb09dec1",
            "a9ef1f9cfdd748ce8cd16a32927d9527",
            "10ba99f1df7547ae85905c75acd35c2c",
            "663c62cfcda740dd90403747536e8481",
            "fd65ed200d094a80a0b29629d1dffe05",
            "546bd1fca4ba4dde8eb6e1774682b13f",
            "5d427f82d4544ae68a5e99d0d1747c5f",
            "e9a441f7de774d65aaeb61269217c552",
            "9887ed70b2dc4fae8677927d63e69e8d",
            "284606ab7ffd4eb6a9d721403f681d47",
            "bde3370252da473784a5534f75942d4a",
            "1d0b04320d0548f080f7aff3119ae7a5",
            "691c751dfa74494fa5342706da83f3c3",
            "5b454800870e490eaae733029a09445e",
            "a3a26321d23545a099af92518eafd944",
            "b8f1bf3bc0584f3299b9b85d043ee6c0",
            "0227eb7746f84739bfde815cb91133ee",
            "1d2fd146d1ec496f908eb42d6aa3c59c",
            "0f69ac3f703f4ab5a09accad6907a7f1",
            "2044b445b4944b399bbd42767a0502d3",
            "ce4d5e40140141c1ac7e2a4867f2229e",
            "cc708502a62e47e38d56b744310ac6ea",
            "1b793f4b870c45b492f152f02eda9539",
            "c7985e2cca50450685332af5f9291090",
            "a0ac5ed017764e1a842a8893771371ae",
            "785a16b0f3464a72af42c751ea6edc0a",
            "d5b34c21af12450b9e2a2f0498a85c3e",
            "f3088088b4fd492ba728327c8bd536fe",
            "c4f3b73494ab4e91baa71b04a5831ef0",
            "f4caa0e358924287802adfc4bca78308",
            "dcd4a5b571ad4e84a1ddb4745abef25e",
            "bdd53ca87f3147cea0141793ae9a6bdf",
            "f51b21f175d34f0490a6795a708e5583",
            "b1d8ff46e8b545bc94b959dc3a70fc58",
            "48b207c1c20f4e2aa93bcfa8dbfd3a70",
            "9a0cbb4c7a7c402f8a4d44ae4dced3d2",
            "acc88d0d718940ee93be6d8caaabb0d6",
            "b5e8b09b11f34503bf8e6672612bba93",
            "c0ae1ac7b37c44018a268972d19aa2ec",
            "e0f780cb231f42a68f0120601f3e285f",
            "aefcc491b3d34f43ba3e2c4adc3bac3b",
            "726ac91a1024464ab2d81fdf634d49fc",
            "7c6925bee83a4ddc86f6f175ca8646fb",
            "565b6407854d450587c9689cfe9dec42",
            "7fde7bb3acbb46bda33f0ef04e7d14bf",
            "8c7569ed524049ba8c55f1fafb0bc939",
            "4b00454a1f7b46e29e82cbb7b6763dc0",
            "12e5cf081d97439591de78390075b56f",
            "703f4b242d114e7aadf58904fb64dc38",
            "9d0eddc0dc094f7b939085d126b9386c",
            "b30ba8706dba4675a5135e743171f547",
            "433d3dea53d14486b69a3079b3edd1dc",
            "2373a439be234dc3a2daab8924da1d06",
            "de88148a73e24fcd90cf53c3fecd4dfb",
            "85110c6d71ce4b748ce41cd9d36b4e84",
            "1840af0b385a4d56a7235c58a6938dea",
            "9ac21f14625f457f9293ff2201a485a2",
            "b221350b25c04e0aac7ae51361ad940d",
            "5d6d474964184b7c89fb9cf71db3be00",
            "b3507c104b1f4ff589ebcfae94e8f95b",
            "c17a2f57d5934e15978cf2530e56f810"
          ]
        }
      },
      "outputs": [
        {
          "output_type": "stream",
          "name": "stderr",
          "text": [
            "/usr/local/lib/python3.11/dist-packages/huggingface_hub/utils/_auth.py:94: UserWarning: \n",
            "The secret `HF_TOKEN` does not exist in your Colab secrets.\n",
            "To authenticate with the Hugging Face Hub, create a token in your settings tab (https://huggingface.co/settings/tokens), set it as secret in your Google Colab and restart your session.\n",
            "You will be able to reuse this secret in all of your notebooks.\n",
            "Please note that authentication is recommended but still optional to access public models or datasets.\n",
            "  warnings.warn(\n"
          ]
        },
        {
          "output_type": "display_data",
          "data": {
            "text/plain": [
              "tokenizer_config.json:   0%|          | 0.00/7.34k [00:00<?, ?B/s]"
            ],
            "application/vnd.jupyter.widget-view+json": {
              "version_major": 2,
              "version_minor": 0,
              "model_id": "fa79afab11094eaea90a05c0e60fcc34"
            }
          },
          "metadata": {}
        },
        {
          "output_type": "display_data",
          "data": {
            "text/plain": [
              "vocab.json:   0%|          | 0.00/798k [00:00<?, ?B/s]"
            ],
            "application/vnd.jupyter.widget-view+json": {
              "version_major": 2,
              "version_minor": 0,
              "model_id": "a992ddaddad64eff8d56c8d51d19c5ce"
            }
          },
          "metadata": {}
        },
        {
          "output_type": "display_data",
          "data": {
            "text/plain": [
              "merges.txt:   0%|          | 0.00/456k [00:00<?, ?B/s]"
            ],
            "application/vnd.jupyter.widget-view+json": {
              "version_major": 2,
              "version_minor": 0,
              "model_id": "0fcdcb35e7c749c3ba96bb36560c3b88"
            }
          },
          "metadata": {}
        },
        {
          "output_type": "display_data",
          "data": {
            "text/plain": [
              "tokenizer.json:   0%|          | 0.00/2.11M [00:00<?, ?B/s]"
            ],
            "application/vnd.jupyter.widget-view+json": {
              "version_major": 2,
              "version_minor": 0,
              "model_id": "b1d392ea3d4840d1866db73231d60f93"
            }
          },
          "metadata": {}
        },
        {
          "output_type": "display_data",
          "data": {
            "text/plain": [
              "added_tokens.json:   0%|          | 0.00/1.08k [00:00<?, ?B/s]"
            ],
            "application/vnd.jupyter.widget-view+json": {
              "version_major": 2,
              "version_minor": 0,
              "model_id": "f9c9366e6c4a4ab38a21d3963e8b919e"
            }
          },
          "metadata": {}
        },
        {
          "output_type": "display_data",
          "data": {
            "text/plain": [
              "special_tokens_map.json:   0%|          | 0.00/99.0 [00:00<?, ?B/s]"
            ],
            "application/vnd.jupyter.widget-view+json": {
              "version_major": 2,
              "version_minor": 0,
              "model_id": "a87d6e7daf104d5ab00fda3f3e11a339"
            }
          },
          "metadata": {}
        },
        {
          "output_type": "display_data",
          "data": {
            "text/plain": [
              "config.json:   0%|          | 0.00/735 [00:00<?, ?B/s]"
            ],
            "application/vnd.jupyter.widget-view+json": {
              "version_major": 2,
              "version_minor": 0,
              "model_id": "be1e263c3c7b44a9b3ff5ae0acabeea1"
            }
          },
          "metadata": {}
        },
        {
          "output_type": "display_data",
          "data": {
            "text/plain": [
              "model.safetensors.index.json:   0%|          | 0.00/35.7k [00:00<?, ?B/s]"
            ],
            "application/vnd.jupyter.widget-view+json": {
              "version_major": 2,
              "version_minor": 0,
              "model_id": "0f6c2788cae54b44912d466adf8b2315"
            }
          },
          "metadata": {}
        },
        {
          "output_type": "display_data",
          "data": {
            "text/plain": [
              "Fetching 2 files:   0%|          | 0/2 [00:00<?, ?it/s]"
            ],
            "application/vnd.jupyter.widget-view+json": {
              "version_major": 2,
              "version_minor": 0,
              "model_id": "5d427f82d4544ae68a5e99d0d1747c5f"
            }
          },
          "metadata": {}
        },
        {
          "output_type": "display_data",
          "data": {
            "text/plain": [
              "model-00001-of-00002.safetensors:   0%|          | 0.00/5.00G [00:00<?, ?B/s]"
            ],
            "application/vnd.jupyter.widget-view+json": {
              "version_major": 2,
              "version_minor": 0,
              "model_id": "1d2fd146d1ec496f908eb42d6aa3c59c"
            }
          },
          "metadata": {}
        },
        {
          "output_type": "display_data",
          "data": {
            "text/plain": [
              "model-00002-of-00002.safetensors:   0%|          | 0.00/564M [00:00<?, ?B/s]"
            ],
            "application/vnd.jupyter.widget-view+json": {
              "version_major": 2,
              "version_minor": 0,
              "model_id": "c4f3b73494ab4e91baa71b04a5831ef0"
            }
          },
          "metadata": {}
        },
        {
          "output_type": "display_data",
          "data": {
            "text/plain": [
              "Loading checkpoint shards:   0%|          | 0/2 [00:00<?, ?it/s]"
            ],
            "application/vnd.jupyter.widget-view+json": {
              "version_major": 2,
              "version_minor": 0,
              "model_id": "e0f780cb231f42a68f0120601f3e285f"
            }
          },
          "metadata": {}
        },
        {
          "output_type": "display_data",
          "data": {
            "text/plain": [
              "generation_config.json:   0%|          | 0.00/124 [00:00<?, ?B/s]"
            ],
            "application/vnd.jupyter.widget-view+json": {
              "version_major": 2,
              "version_minor": 0,
              "model_id": "b30ba8706dba4675a5135e743171f547"
            }
          },
          "metadata": {}
        },
        {
          "output_type": "stream",
          "name": "stderr",
          "text": [
            "Device set to use cuda:0\n"
          ]
        }
      ],
      "source": [
        "from transformers import AutoTokenizer, pipeline, AutoModelForCausalLM\n",
        "from langchain import HuggingFacePipeline\n",
        "import transformers\n",
        "import torch\n",
        "\n",
        "# Get model's tokenizer using AutoTokenizer.from_pretrained()\n",
        "\n",
        "tokenizer = AutoTokenizer.from_pretrained(\"microsoft/phi-2\")\n",
        "\n",
        "# Load the 'microsoft/phi-2' model for causal language modeling. Use AutoModelForCausalLM.from_pretrained()\n",
        "# with torch_dtype='auto' and device_map='auto'\n",
        "\n",
        "model = AutoModelForCausalLM.from_pretrained(\"microsoft/phi-2\", torch_dtype='auto', device_map='auto')\n",
        "\n",
        "\n",
        "# Create a text-generation pipeline using the transformers library with a specific model and tokenizer,\n",
        "# Adjust parameters such as device_map='auto', token limits = 256, and temperature = 0.5\n",
        "\n",
        "pipe = pipeline(\n",
        "    \"text-generation\",\n",
        "    model=model,\n",
        "    tokenizer=tokenizer,\n",
        "    device_map=\"auto\",\n",
        "    max_new_tokens=256,\n",
        "    temperature=0.5,\n",
        ")"
      ],
      "id": "8BDZfrVYwDtF"
    },
    {
      "cell_type": "markdown",
      "metadata": {
        "id": "xcMLV9b0wDtG"
      },
      "source": [
        "Integrating the Phi-2 model with Langchain for better prompt handling."
      ],
      "id": "xcMLV9b0wDtG"
    },
    {
      "cell_type": "code",
      "execution_count": 6,
      "metadata": {
        "id": "rAlwk0iXwDtG",
        "outputId": "d76a67f1-e999-4db5-d45e-caa85ef78d59",
        "colab": {
          "base_uri": "https://localhost:8080/"
        }
      },
      "outputs": [
        {
          "output_type": "stream",
          "name": "stderr",
          "text": [
            "<ipython-input-6-7968ff31bd00>:26: LangChainDeprecationWarning: The class `HuggingFacePipeline` was deprecated in LangChain 0.0.37 and will be removed in 1.0. An updated version of the class exists in the :class:`~langchain-huggingface package and should be used instead. To use it run `pip install -U :class:`~langchain-huggingface` and import as `from :class:`~langchain_huggingface import HuggingFacePipeline``.\n",
            "  phi2_HFP_llm = HuggingFacePipeline(pipeline=pipe)\n",
            "<ipython-input-6-7968ff31bd00>:28: LangChainDeprecationWarning: The class `LLMChain` was deprecated in LangChain 0.1.17 and will be removed in 1.0. Use :meth:`~RunnableSequence, e.g., `prompt | llm`` instead.\n",
            "  phi2_HFP_llm_chain = LLMChain(llm=phi2_HFP_llm, prompt=task_prompt_template)\n"
          ]
        }
      ],
      "source": [
        "from langchain import HuggingFacePipeline\n",
        "from langchain.prompts import PromptTemplate\n",
        "from langchain.chains.llm import LLMChain\n",
        "\n",
        "# Creating a Text-Generation Pipeline Using Hugging Face Transformers\n",
        "# configure the pad token in a Hugging Face model when using a pipeline for text generation\n",
        "\n",
        "tokenizer.pad_token = tokenizer.eos_token\n",
        "\n",
        "# Define a prompt template\n",
        "task_template = '''\n",
        "You are a friendly chatbot assistant that gives structured output.\n",
        "Your role is to arrange the given task in this structure.\n",
        "### instruction:\n",
        "{instruction}\n",
        "Output:\n",
        "'''\n",
        "\n",
        "# Creating a Task Prompt Template and LLM Chain Using phi-2 Model. Store it in variable 'phi2_HFP_llm_chain'\n",
        "\n",
        "task_prompt_template = PromptTemplate(\n",
        "    input_variables=[\"instruction\"],\n",
        "    template=task_template\n",
        ")\n",
        "\n",
        "phi2_HFP_llm = HuggingFacePipeline(pipeline=pipe)\n",
        "\n",
        "phi2_HFP_llm_chain = LLMChain(llm=phi2_HFP_llm, prompt=task_prompt_template)"
      ],
      "id": "rAlwk0iXwDtG"
    },
    {
      "cell_type": "markdown",
      "metadata": {
        "id": "PGh5g1fawDtG"
      },
      "source": [
        "## 1.3 Querying the Phi-2 Model\n",
        "**Exercise-2:** Now let's query the model with a prompt. For example, let's ask the model to 'Give an overview of Computational Data Science PG Level certificaion course'. From the response, extract the 'text' field and save it in a variable 'phi_2_extracted_output'. **(0.5 point)**"
      ],
      "id": "PGh5g1fawDtG"
    },
    {
      "cell_type": "code",
      "execution_count": 7,
      "metadata": {
        "id": "rz6R7S4nwDtH",
        "outputId": "8b144a3d-c34c-4f0f-c8b1-a9e8e512ff96",
        "colab": {
          "base_uri": "https://localhost:8080/"
        }
      },
      "outputs": [
        {
          "output_type": "stream",
          "name": "stderr",
          "text": [
            "Setting `pad_token_id` to `eos_token_id`:50256 for open-end generation.\n"
          ]
        },
        {
          "output_type": "execute_result",
          "data": {
            "text/plain": [
              "{'instruction': 'Give an overview of Computational Data Science PG Level certificaion course',\n",
              " 'text': '\\nYou are a friendly chatbot assistant that gives structured output.\\nYour role is to arrange the given task in this structure.\\n### instruction:\\nGive an overview of Computational Data Science PG Level certificaion course\\nOutput:\\nThe Computational Data Science PG Level Certificate course is an overview of the course.\\n'}"
            ]
          },
          "metadata": {},
          "execution_count": 7
        }
      ],
      "source": [
        "# Example query\n",
        "question = 'Give an overview of Computational Data Science PG Level certificaion course'\n",
        "\n",
        "# Invoke the language model chain 'phi2_HFP_llm_chain' to generate a response to the above question and\n",
        "# print the response.\n",
        "\n",
        "response = phi2_HFP_llm_chain.invoke({\"instruction\": question})\n",
        "response"
      ],
      "id": "rz6R7S4nwDtH"
    },
    {
      "cell_type": "code",
      "source": [
        "# In the above code cell, you have already got Simulated response from the model.\n",
        "# The response has 2 keys ('instruction' and 'text').\n",
        "# Extract the 'text' field from the response.\n",
        "\n",
        "phi_2_extracted_output = response['text']\n",
        "output_start_index = phi_2_extracted_output.find(\"Output:\")\n",
        "if output_start_index != -1:\n",
        "    phi_2_extracted_output = phi_2_extracted_output[output_start_index + len(\"Output:\"):].strip()\n",
        "else:\n",
        "    # Handle the case where \"Output:\" is not found, perhaps take the whole text or handle as an error\n",
        "    phi_2_extracted_output = phi_2_extracted_output.strip()\n",
        "\n",
        "phi_2_extracted_output\n",
        "\n",
        "# Parse the text to get the output part only\n",
        "# Assuming the output starts after the keyword \"Output:\"\n",
        "# (Find the index after \"Output:\")\n",
        "\n",
        "output_start_index = phi_2_extracted_output.find(\"Output:\")\n",
        "if output_start_index != -1:\n",
        "    phi_2_extracted_output = phi_2_extracted_output[output_start_index + len(\"Output:\"):].strip()\n",
        "else:\n",
        "    # Handle the case where \"Output:\" is not found, perhaps take the whole text or handle as an error\n",
        "    phi_2_extracted_output = phi_2_extracted_output.strip()\n",
        "\n",
        "phi_2_extracted_output\n",
        "\n",
        "\n",
        "# (Extract the output part and strip extra whitespace &\n",
        "                   # then store it in a variable 'phi_2_extracted_output')\n",
        "\n",
        "output_start_index = phi_2_extracted_output.find(\"Output:\")\n",
        "if output_start_index != -1:\n",
        "    phi_2_extracted_output = phi_2_extracted_output[output_start_index + len(\"Output:\"):].strip()\n",
        "else:\n",
        "    # Handle the case where \"Output:\" is not found, perhaps take the whole text or handle as an error\n",
        "    phi_2_extracted_output = phi_2_extracted_output.strip()\n",
        "\n",
        "# Print the extracted output variable 'phi_2_extracted_output'\n",
        "\n",
        "phi_2_extracted_output"
      ],
      "metadata": {
        "id": "cRvj0kTLcH5X",
        "outputId": "7c087938-c409-434e-8af9-e850d0285030",
        "colab": {
          "base_uri": "https://localhost:8080/",
          "height": 35
        }
      },
      "id": "cRvj0kTLcH5X",
      "execution_count": 9,
      "outputs": [
        {
          "output_type": "execute_result",
          "data": {
            "text/plain": [
              "'The Computational Data Science PG Level Certificate course is an overview of the course.'"
            ],
            "application/vnd.google.colaboratory.intrinsic+json": {
              "type": "string"
            }
          },
          "metadata": {},
          "execution_count": 9
        }
      ]
    },
    {
      "cell_type": "markdown",
      "source": [
        "### 1.4 Using the HuggingFace API Key"
      ],
      "metadata": {
        "id": "07y4h_tAWrq2"
      },
      "id": "07y4h_tAWrq2"
    },
    {
      "cell_type": "code",
      "source": [
        "h_api_key =  # Your Hugging Face API Key"
      ],
      "metadata": {
        "id": "wooEmPPIW3Bh"
      },
      "id": "wooEmPPIW3Bh",
      "execution_count": null,
      "outputs": []
    },
    {
      "cell_type": "code",
      "source": [
        "# Set your HuggingFace API key\n",
        "os.environ[\"HUGGINGFACEHUB_API_TOKEN\"] = h_api_key"
      ],
      "metadata": {
        "id": "b5lOv1YiW6R4"
      },
      "id": "b5lOv1YiW6R4",
      "execution_count": null,
      "outputs": []
    },
    {
      "cell_type": "markdown",
      "source": [
        "## 1.5 Initializing HuggingFaceEndpoint with [**HuggingFaceH4/zephyr-7b-beta**](https://huggingface.co/HuggingFaceH4/zephyr-7b-beta) model\n",
        "\n",
        "<br><br>\n",
        "<center>\n",
        "<img src=\" https://cdn.exec.talentsprint.com/static/cds/content/zephyr_without_RAG-2.png\" width= 600 px/>\n",
        "</center>\n",
        "<br><br>\n",
        "\n"
      ],
      "metadata": {
        "id": "oWm_gy3JXIwP"
      },
      "id": "oWm_gy3JXIwP"
    },
    {
      "cell_type": "code",
      "source": [
        "# Initialize HuggingFaceEndpoint with your endpoint URL\n",
        "endpoint_url = \"https://huggingface.co/HuggingFaceH4/zephyr-7b-beta\"\n",
        "\n",
        "# Initialize the model name \"HuggingFaceH4/zephyr-7b-beta\" in a variable model_name\n",
        "model_name = \"HuggingFaceH4/zephyr-7b-beta\""
      ],
      "metadata": {
        "id": "0wJjL6m4XNI5"
      },
      "id": "0wJjL6m4XNI5",
      "execution_count": null,
      "outputs": []
    },
    {
      "cell_type": "markdown",
      "source": [
        "## 1.6 Creating the LLM using zephyr-7b-beta\n",
        "\n",
        "**Exercise-3:** Create an LLM using HuggingFaceEndpoint. **(0.5 point)**"
      ],
      "metadata": {
        "id": "aEAwW1nsXVur"
      },
      "id": "aEAwW1nsXVur"
    },
    {
      "cell_type": "code",
      "source": [
        "# Import HuggingFace model abstraction class from langchain\n",
        "from langchain_huggingface import HuggingFaceEndpoint"
      ],
      "metadata": {
        "id": "-dFhLKSQXbR_"
      },
      "id": "-dFhLKSQXbR_",
      "execution_count": null,
      "outputs": []
    },
    {
      "cell_type": "code",
      "source": [
        "# Create an LLM using HuggingFaceEndpoint.\n",
        "# Configure HuggingFaceEndpoint for text generation with the specified parameters such as max_new_tokens = 512,\n",
        "# top_k = 30, temperature = 0.1 and repetition_penalty = 1.03. Store the created llm in\n",
        "# a variable 'zephyr_7b_beta_HFE_llm'\n",
        "\n",
        "# YOUR CODE HERE"
      ],
      "metadata": {
        "id": "gtKzNe-sXfaI"
      },
      "id": "gtKzNe-sXfaI",
      "execution_count": null,
      "outputs": []
    },
    {
      "cell_type": "markdown",
      "source": [
        "## 1.7 Querying the HuggingFace zephyr-7b-beta Model\n",
        "Now let's query the model with a prompt. For example, let's ask the model to give an overview of the Computational Data Science PG Level certification course."
      ],
      "metadata": {
        "id": "iWcA098TX1ZP"
      },
      "id": "iWcA098TX1ZP"
    },
    {
      "cell_type": "code",
      "source": [
        "# Query the model with a prompt and ask the model to \"Give an overview of Computational Data Science PG Level certificaion course\"\n",
        "\n",
        "zephyr_7b_beta_response = zephyr_7b_beta_HFE_llm.invoke(\"Give an overview of Computational Data Science PG Level certificaion course\")\n",
        "print(zephyr_7b_beta_response)"
      ],
      "metadata": {
        "id": "e_7uZ_X6Xk4J"
      },
      "id": "e_7uZ_X6Xk4J",
      "execution_count": null,
      "outputs": []
    },
    {
      "cell_type": "markdown",
      "source": [
        "## 1.8 Comparison: Microsoft Phi-2 and Hugging Face zephyr-7b-beta model\n",
        "\n",
        "**Exercise-4:** Compare the RetrievalQA performance between Phi-2 and Hugging Face and zephyr-7b-beta model using Cosine Similarity. **(0.5 point)**\n",
        "\n",
        "- **(a)** Consider the reference Question: 'Give an overview of Computational Data Science PG Level certificaion course'. Compute Cosine Similarity.\n",
        "\n",
        "- **(b)** Consider the Benchmark_solution: 'Are you a working professional looking to build expertise in Data Science? Look no further than the PG Level Advanced Certification course in\n",
        "Data Science offered by Indian Institute of Science (IISc) in association with TalentSprint. This highly sought-after programme offers a unique 5-step learning process, including LIVE online faculty-led interactive sessions, capstone projects, mentorship, case studies, and data stories. Taught by world-class faculty from a global institution and supplemented with industry learnings, this 12-month programme is best suited for professionals who want to gain practical hands-on experience in solving real-life challenges. The programme teaches participants how to build powerful models to generate actionable insights, necessary for making data-driven decisions. With an overwhelming response, this programme has enabled 750+ professionals to build Data Science expertise. Don't miss the opportunity to gain an in-depth understanding of the mechanics of working with data and identifying insights. Enroll now and take your career to the next level with the PG Level Advanced Certification course in Computational Data Science.' Compute Cosine Similarity."
      ],
      "metadata": {
        "id": "PWXRAKAQZuXn"
      },
      "id": "PWXRAKAQZuXn"
    },
    {
      "cell_type": "code",
      "source": [
        "# (a)\n",
        "Q1 = \"Give an overview of Computational Data Science PG Level certificaion course\"\n",
        "# Instantiate the Hugging Face embeddings class and embed the query 'Q1' while reshaping the result into a 2D NumPy array\n",
        "\n",
        "# YOUR CODE HERE\n",
        "\n",
        "\n",
        "# Embed the extracted output from phi-2 ('phi_2_extracted_output') using Hugging Face embeddings and\n",
        "# reshape the result into a 2D NumPy array\n",
        "\n",
        "# YOUR CODE HERE\n",
        "\n",
        "# Use Hugging Face embeddings to embed the response from Zephyr 7b beta ('zephyr_7b_beta_response') and\n",
        "# reshape it into a 2D NumPy array\n",
        "\n",
        "# YOUR CODE HERE"
      ],
      "metadata": {
        "id": "uqchYQNgaIso"
      },
      "id": "uqchYQNgaIso",
      "execution_count": null,
      "outputs": []
    },
    {
      "cell_type": "code",
      "source": [
        "# Compute cosine similarity\n",
        "# Calculate the cosine similarity between Q1 and 'phi_2_extracted_output'\n",
        "\n",
        "# YOUR CODE HERE\n",
        "\n",
        "# Calculate the cosine similarity between Q1 and 'zephyr_7b_beta_response'\n",
        "\n",
        "# YOUR CODE HERE"
      ],
      "metadata": {
        "id": "2zrPzfkgdl6f"
      },
      "id": "2zrPzfkgdl6f",
      "execution_count": null,
      "outputs": []
    },
    {
      "cell_type": "code",
      "source": [
        "# (b)\n",
        "Benchmark_solution = \"\"\"Are you a working professional looking to build expertise in Data Science?\n",
        "Look no further than the PG Level Advanced Certification course in Data Science offered by Indian Institute of Science (IISc)\n",
        "in association with NSE TalentSprint. This highly sought-after programme offers a unique 5-step learning process, including\n",
        "LIVE online faculty-led interactive sessions, capstone projects, mentorship, case studies, and data stories.\n",
        "Taught by world-class faculty from a global institution and supplemented with industry learnings, this 12-month programme is best suited\n",
        "for professionals who want to gain practical hands-on experience in solving real-life challenges. The programme teaches participants\n",
        "how to build powerful models to generate actionable insights, necessary for making data-driven decisions.\n",
        "With an overwhelming response, this programme has enabled 750+ professionals to build Data Science expertise.\n",
        "Don't miss the opportunity to gain an in-depth understanding of the mechanics of working with data and identifying insights.\n",
        "Enroll now and take your career to the next level with the PG Level Advanced Certification course in Computational Data Science.\"\"\"\n",
        "\n",
        "# Embed the Benchmark Solution (BMS) using Hugging Face embeddings and reshape it into a 2D array\n",
        "\n",
        "# YOUR CODE HERE\n",
        "\n",
        "# Embed the extracted output from phi-2 ('phi_2_extracted_output') using Hugging Face embeddings and\n",
        "# reshape the result into a 2D NumPy array\n",
        "\n",
        "# YOUR CODE HERE\n",
        "\n",
        "# Embed the response from Zephyr 7b beta ('zephyr_7b_beta_response') and\n",
        "# reshape it into a 2D NumPy array\n",
        "\n",
        "# YOUR CODE HERE"
      ],
      "metadata": {
        "id": "B-c_hfSvvMDm"
      },
      "id": "B-c_hfSvvMDm",
      "execution_count": null,
      "outputs": []
    },
    {
      "cell_type": "code",
      "source": [
        "# Compute cosine similarity\n",
        "# Calculate and print the cosine similarity between the Benchmark Solution (BMS) and 'phi_2_extracted_output'\n",
        "\n",
        "# YOUR CODE HERE\n",
        "\n",
        "# Calculate and print the cosine similarity between the Benchmark Solution (BMS) and 'zephyr_7b_beta_response'\n",
        "\n",
        "# YOUR CODE HERE"
      ],
      "metadata": {
        "id": "EpWLckZ7wwGf"
      },
      "id": "EpWLckZ7wwGf",
      "execution_count": null,
      "outputs": []
    },
    {
      "cell_type": "markdown",
      "metadata": {
        "id": "5cac1XHwwDtH"
      },
      "source": [
        "#**Phase-II:** Performing Retrieval Augmented Generation (RAG) with Microsoft Phi-2\n",
        "\n",
        "<br><br>\n",
        "<center>\n",
        "<img src=\" https://cdn.exec.talentsprint.com/static/cds/content/Phi_2_with_RAG-3.png\" width= 1200 px/>\n",
        "</center>\n",
        "<br><br>\n",
        "\n",
        "## 2.1 Retrieval Augmented Generation (RAG) with Llama-index\n",
        "\n",
        "In this section, we'll implement RAG using Llama-index to augment the retrieval from document data."
      ],
      "id": "5cac1XHwwDtH"
    },
    {
      "cell_type": "code",
      "execution_count": null,
      "metadata": {
        "id": "YKZ7geLzwDtH"
      },
      "outputs": [],
      "source": [
        "!pip install -q pypdf llama-index python-dotenv"
      ],
      "id": "YKZ7geLzwDtH"
    },
    {
      "cell_type": "markdown",
      "metadata": {
        "id": "0455w-K7wDtI"
      },
      "source": [
        "## 2.2 Setup Llama-index\n",
        "Load necessary components, read documents, and set up the RAG pipeline."
      ],
      "id": "0455w-K7wDtI"
    },
    {
      "cell_type": "code",
      "source": [
        "!pip -qq install --upgrade llama-index\n",
        "!pip -qq install llama-index-embeddings-langchain\n",
        "!pip -qq install llama_index.llms.ollama\n",
        "!pip -qq install llama_index.embeddings.huggingface\n",
        "!pip -qq install llama-index-llms-langchain\n",
        "!pip install faiss-gpu-cu11"
      ],
      "metadata": {
        "id": "YcNDk7YXVAyD"
      },
      "id": "YcNDk7YXVAyD",
      "execution_count": null,
      "outputs": []
    },
    {
      "cell_type": "markdown",
      "source": [
        "## 2.3 Importing necessary packages from Llama-index"
      ],
      "metadata": {
        "id": "tFKcnzQMwuLg"
      },
      "id": "tFKcnzQMwuLg"
    },
    {
      "cell_type": "code",
      "source": [
        "from llama_index.core.indices.vector_store.base import VectorStoreIndex\n",
        "from llama_index.core import SimpleDirectoryReader\n",
        "from langchain.vectorstores import FAISS\n",
        "from llama_index.core import ServiceContext"
      ],
      "metadata": {
        "id": "3zwvTV9Sg5Xk"
      },
      "id": "3zwvTV9Sg5Xk",
      "execution_count": null,
      "outputs": []
    },
    {
      "cell_type": "code",
      "source": [
        "#@title 2.4 Download Dataset\n",
        "#!wget -qq https://cdn.exec.talentsprint.com/static/cds/content/pca_d1.pdf\n",
        "#!wget -qq https://cdn.exec.talentsprint.com/static/cds/content/ens_d2.pdf\n",
        "!wget -qq https://cdn.exec.talentsprint.com/static/cds/content/demo_faqs.csv\n",
        "!wget -qq https://cdn.exec.talentsprint.com/static/cds/content/docs.zip\n",
        "!unzip docs.zip -d docs  # This will unzip docs.zip into a folder named 'docs'\n",
        "print(\"Dataset downloaded successfully!!\")"
      ],
      "metadata": {
        "id": "iIlzQjWbjxsN",
        "outputId": "3a29c31f-0616-4f05-8900-5ab75213ee97",
        "colab": {
          "base_uri": "https://localhost:8080/"
        }
      },
      "id": "iIlzQjWbjxsN",
      "execution_count": 1,
      "outputs": [
        {
          "output_type": "stream",
          "name": "stdout",
          "text": [
            "Archive:  docs.zip\n",
            "   creating: docs/docs/\n",
            "  inflating: docs/docs/DS_PG_Level.pdf  \n",
            "Dataset downloaded successfully!!\n"
          ]
        }
      ]
    },
    {
      "cell_type": "markdown",
      "source": [
        "## 2.5 Load Data (PDF Document)"
      ],
      "metadata": {
        "id": "QSDW75lduXIS"
      },
      "id": "QSDW75lduXIS"
    },
    {
      "cell_type": "code",
      "source": [
        "# Read documents\n",
        "documents = SimpleDirectoryReader('/content/docs/docs').load_data()\n",
        "documents"
      ],
      "metadata": {
        "id": "uRWwT8Y47GQd"
      },
      "id": "uRWwT8Y47GQd",
      "execution_count": null,
      "outputs": []
    },
    {
      "cell_type": "markdown",
      "source": [
        "## 2.6 Creating the Embedding Model using HuggingFaceEmbeddings **'BAAI/bge-small-en-v1.5'**\n",
        "\n",
        "**Exercise-5:** Define an embedding model using HuggingFaceEmbeddings 'BAAI/bge-small-en-v1.5'. **(0.5 point)**"
      ],
      "metadata": {
        "id": "_vb3QoueuI1n"
      },
      "id": "_vb3QoueuI1n"
    },
    {
      "cell_type": "code",
      "source": [
        "# Define the embedding model using HuggingFaceEmbeddings 'BAAI/bge-small-en-v1.5'\n",
        "\n",
        "# YOUR CODE HERE"
      ],
      "metadata": {
        "id": "g02xx49Ino8s"
      },
      "id": "g02xx49Ino8s",
      "execution_count": null,
      "outputs": []
    },
    {
      "cell_type": "markdown",
      "source": [
        "## 2.7 Create a Vector Store using VectorStoreIndex\n",
        "\n",
        "**Exercise-6:** Create the vector index and vector store from documents using the embedding model (used in Exercise-5). **(0.5 point)**"
      ],
      "metadata": {
        "id": "Ty7m5RcvvX3z"
      },
      "id": "Ty7m5RcvvX3z"
    },
    {
      "cell_type": "code",
      "source": [
        "# Create the vector index from documents (as loaded under section 2.5)\n",
        "# using the embedding model as achieved in Exercise-5\n",
        "\n",
        "# YOUR CODE HERE"
      ],
      "metadata": {
        "id": "UzoSxoe31pz3"
      },
      "id": "UzoSxoe31pz3",
      "execution_count": null,
      "outputs": []
    },
    {
      "cell_type": "code",
      "source": [
        "# Create the vector store from documents (as loaded under section 2.5)\n",
        "# using the embedding model (as derived in Exercise-5) and the vector index (as derived in the above code cell)\n",
        "\n",
        "# YOUR CODE HERE"
      ],
      "metadata": {
        "id": "2K5HE2l4vpvM"
      },
      "id": "2K5HE2l4vpvM",
      "execution_count": null,
      "outputs": []
    },
    {
      "cell_type": "markdown",
      "source": [
        "## 2.8 Create Query Engines and Test the RAG Pipeline\n",
        "\n",
        "**Exercise-7:** Create a Query Engine by using 'as_query_engine()' and then test the RAG pipeline for the Query: 'Give an overview of Computational Data Science PG Level certificaion course'. From the response, extract the text part and save it in a variable 'answer_text'. **(0.5 point)**"
      ],
      "metadata": {
        "id": "a28wIwrDwTgy"
      },
      "id": "a28wIwrDwTgy"
    },
    {
      "cell_type": "code",
      "source": [
        "# Create a query engine using the vector index and the phi-2 language model in the context of document retrieval\n",
        "# Use as_query_engine()\n",
        "\n",
        "# YOUR CODE HERE"
      ],
      "metadata": {
        "id": "_fjvU0Sswbur"
      },
      "id": "_fjvU0Sswbur",
      "execution_count": null,
      "outputs": []
    },
    {
      "cell_type": "markdown",
      "source": [
        "Run a sample query to test the RAG pipeline."
      ],
      "metadata": {
        "id": "jTdmu21ew9ew"
      },
      "id": "jTdmu21ew9ew"
    },
    {
      "cell_type": "code",
      "source": [
        "# Test the RAG pipeline\n",
        "# Query a document retrieval engine for the query 'Give an overview of Computational Data Science PG Level certificaion course' and\n",
        "# print the resulting response\n",
        "\n",
        "# YOUR CODE HERE"
      ],
      "metadata": {
        "id": "tl8Pzu7CBGOb"
      },
      "id": "tl8Pzu7CBGOb",
      "execution_count": null,
      "outputs": []
    },
    {
      "cell_type": "code",
      "source": [
        "# Extract the text part of the above response from a result string that contains a specified prefix, such as \"Answer:\"\n",
        "# and display the answer text\n",
        "\n",
        "# YOUR CODE HERE"
      ],
      "metadata": {
        "id": "2TatHqLZXLe3"
      },
      "id": "2TatHqLZXLe3",
      "execution_count": null,
      "outputs": []
    },
    {
      "cell_type": "markdown",
      "source": [
        "### 2.9 RAG Performance Evaluation using Cosine Similarity\n",
        "\n",
        "**Exercise-8:** Measure the RAG performance using Cosine Similarity. **(0.5 point)**\n",
        "\n",
        "- **(a)** Consider the reference Question: 'Give an overview of Computational Data Science PG Level certificaion course'. Calculate the Cosine Similarity.\n",
        "- **(b)** Consider the Benchmark_solution [as considered in Exercise-4 (b)]. Calculate the Cosine Similarity."
      ],
      "metadata": {
        "id": "spvWWQOq4ONe"
      },
      "id": "spvWWQOq4ONe"
    },
    {
      "cell_type": "code",
      "source": [
        "# (a)\n",
        "# Generate a 2D array representation of the embeddings for the query Q1 [mentioned in Exercise-4(a)]\n",
        "# using the embedding model specified under Exercise-5\n",
        "\n",
        "# YOUR CODE HERE\n",
        "\n",
        "# Obtain a 2D array representation of the embeddings for the extracted answer text (which was achieved in Exercise-7)\n",
        "# Use the same specified embedding model mentioned in Exercise-5. Store the output in 'RAG_with_phi_2_e'\n",
        "\n",
        "# YOUR CODE HERE"
      ],
      "metadata": {
        "id": "cNYOGEC94wbU"
      },
      "id": "cNYOGEC94wbU",
      "execution_count": null,
      "outputs": []
    },
    {
      "cell_type": "code",
      "source": [
        "# Calculate and print the cosine similarity between the query embedding and the RAG response embedding\n",
        "\n",
        "# YOUR CODE HERE"
      ],
      "metadata": {
        "id": "Oq3aYcRd5jm-"
      },
      "id": "Oq3aYcRd5jm-",
      "execution_count": null,
      "outputs": []
    },
    {
      "cell_type": "markdown",
      "source": [
        "Fill in the following blanks with the help of the above results [achieved in Exercise-4(a) and Exercise-8(a)]\n",
        "- Cosine Similarity between Q1 and phi_2_extracted_output: ___________________\n",
        "- Cosine Similarity between Q1 and zephyr_7b_beta_response: ___________________\n",
        "- Cosine Similarity between Q1 and RAG response: ___________________\n",
        "\n",
        "**So considering the reference query Q1, we can observe from the above value, that the Cosine Similarity is ______% by using RAG Architecture with Microsoft Phi-2 model.**"
      ],
      "metadata": {
        "id": "5stjSzpm6Cvc"
      },
      "id": "5stjSzpm6Cvc"
    },
    {
      "cell_type": "code",
      "source": [
        "# (b)\n",
        "# Embed the Benchmark solution text using the Hugging Face embeddings model and reshape it into a 2D array\n",
        "\n",
        "# YOUR CODE HERE\n",
        "\n",
        "# Generate a 2D array representation of the embedded response by using Hugging Face embeddings (specified under Exercise-5)\n",
        "\n",
        "# YOUR CODE HERE"
      ],
      "metadata": {
        "id": "_jT8qYssyHmH"
      },
      "id": "_jT8qYssyHmH",
      "execution_count": null,
      "outputs": []
    },
    {
      "cell_type": "code",
      "source": [
        "# Calculate the cosine similarity between the benchmark solution embeddings and the RAG response embeddings\n",
        "# to evaluate their similarity. Print the Cosine Similarity value.\n",
        "\n",
        "# YOUR CODE HERE"
      ],
      "metadata": {
        "id": "_Kreb5M8ycpT"
      },
      "id": "_Kreb5M8ycpT",
      "execution_count": null,
      "outputs": []
    },
    {
      "cell_type": "markdown",
      "source": [
        "Fill in the following blank with the help of the above results [achieved in Exercise-8(b)]\n",
        "\n",
        "**So considering the Benchmark_solution BMS, we can observe from the above value, that the Cosine Similarity is ______% by using RAG Architecture with Microsoft Phi-2 model.**"
      ],
      "metadata": {
        "id": "PjT0uzJHypCC"
      },
      "id": "PjT0uzJHypCC"
    },
    {
      "cell_type": "markdown",
      "source": [
        "# **Phase-III:** Performing RAG using HuggingFace Retrieval Chain For 5 different Embedding models and FAISS Vector Store\n",
        "\n",
        "We will use CSV Dataset for this phase.\n",
        "\n",
        "<br><br>\n",
        "<center>\n",
        "<img src=\" https://cdn.exec.talentsprint.com/static/cds/content/varying_embeddings-4.png\" height = 600 width= 1600 px/>\n",
        "</center>\n",
        "<br><br>"
      ],
      "metadata": {
        "id": "Ls6NTwqIDP7T"
      },
      "id": "Ls6NTwqIDP7T"
    },
    {
      "cell_type": "markdown",
      "source": [
        "## 3.1 Load Data (CSV Dataset)"
      ],
      "metadata": {
        "id": "dyRf60DgFU0l"
      },
      "id": "dyRf60DgFU0l"
    },
    {
      "cell_type": "code",
      "source": [
        "loader = CSVLoader(file_path='/content/demo_faqs.csv', source_column=\"prompt\",encoding='latin-1')\n",
        "\n",
        "# Store the loaded data in the 'data' variable\n",
        "data = loader.load()\n",
        "documents_csv = data"
      ],
      "metadata": {
        "id": "wRLA-EQ-FGpp"
      },
      "id": "wRLA-EQ-FGpp",
      "execution_count": null,
      "outputs": []
    },
    {
      "cell_type": "markdown",
      "source": [
        "## 3.2 Using 5 different HuggungFace Embedding Models"
      ],
      "metadata": {
        "id": "FIl3EmPhXHK9"
      },
      "id": "FIl3EmPhXHK9"
    },
    {
      "cell_type": "code",
      "source": [
        "# Define embedding model-1\n",
        "embed_model_1 = HuggingFaceEmbeddings(model_name='BAAI/bge-small-en-v1.5')\n",
        "\n",
        "# Define embedding model-2\n",
        "embed_model_2 = HuggingFaceEmbeddings(model_name='sentence-transformers/all-MiniLM-L6-v2')\n",
        "\n",
        "# Define embedding model-3\n",
        "embed_model_3 = HuggingFaceEmbeddings(model_name='sentence-transformers/paraphrase-MiniLM-L12-v2')\n",
        "\n",
        "# Define embedding model-4\n",
        "embed_model_4 = HuggingFaceEmbeddings(model_name='sentence-transformers/all-distilroberta-v1')\n",
        "\n",
        "# Define embedding model-5\n",
        "embed_model_5 = HuggingFaceEmbeddings(model_name='sentence-transformers/multi-qa-MiniLM-L6-cos-v1')"
      ],
      "metadata": {
        "id": "XZVk85YQXZDN"
      },
      "id": "XZVk85YQXZDN",
      "execution_count": null,
      "outputs": []
    },
    {
      "cell_type": "markdown",
      "source": [
        "## 3.3 Vector store using FAISS\n",
        "\n",
        "Facebook AI Similarity Search (FAISS) is a library for efficient similarity search and clustering of dense vectors. It contains algorithms that search in sets of vectors of any size, up to ones that possibly do not fit in RAM. It also contains supporting code for evaluation and parameter tuning.\n",
        "For further details, please refer to the [link](https://faiss.ai/)\n",
        "\n",
        "How to use functionality related to the FAISS vector database?\n",
        "\n",
        "In the following code cell, we will show functionality specific to this integration. After going through, it may be useful to explore relevant to learn how to use this vectorstore as part of a larger chain.\n",
        "\n",
        "**Exercise-9:** Create a FAISS vector database using Hugging Face Embeddings model 'BAAI/bge-small-en-v1.5'. Then retrieve relevant answers for a query. Use 'get_relevant_documents()'. **(0.5 point)**"
      ],
      "metadata": {
        "id": "uf7zGpKPlq5q"
      },
      "id": "uf7zGpKPlq5q"
    },
    {
      "cell_type": "code",
      "source": [
        "# Create a FAISS vector database from 'data' (loaded under section 3.1)\n",
        "# using the specified embedding model 'BAAI/bge-small-en-v1.5'\n",
        "\n",
        "# YOUR CODE HERE\n",
        "\n",
        "# Create a retriever for querying the vector database with a specified score threshold = 0.7 to filter relevant results\n",
        "# Store it in a variable 'h_retriever_1'\n",
        "\n",
        "# YOUR CODE HERE"
      ],
      "metadata": {
        "id": "ljLHwiZFlzs_"
      },
      "id": "ljLHwiZFlzs_",
      "execution_count": null,
      "outputs": []
    },
    {
      "cell_type": "markdown",
      "source": [
        "In the above code cell, The provided code snippet sets up a FAISS (Facebook AI Similarity Search) vector database to store document embeddings and enables querying this database using a retriever with a specific score threshold.\n",
        "\n",
        "- **FAISS.from_documents(...)**: This method initializes a FAISS vector database using a list of documents and a pre-defined embedding model.\n",
        "- **h_vectordb.as_retriever(...)**: This method converts the FAISS vector database into a retriever object that can be queried using natural language or embedded queries."
      ],
      "metadata": {
        "id": "qZDaBYVnulVo"
      },
      "id": "qZDaBYVnulVo"
    },
    {
      "cell_type": "code",
      "source": [
        "# Retrieve relevant documents from the vector database (achieved in Exercise-9)\n",
        "# based on a specific query, such as \"How about job placement support?\"\n",
        "\n",
        "# YOUR CODE HERE"
      ],
      "metadata": {
        "id": "Czt6whRgurQW"
      },
      "id": "Czt6whRgurQW",
      "execution_count": null,
      "outputs": []
    },
    {
      "cell_type": "markdown",
      "source": [
        "In the above code cell,\n",
        "\n",
        "- **h_retriever.get_relevant_documents(...)**: This method queries the retriever (which is linked to the FAISS vector database) with a given text query."
      ],
      "metadata": {
        "id": "kQtPWweLvAcu"
      },
      "id": "kQtPWweLvAcu"
    },
    {
      "cell_type": "markdown",
      "source": [
        "As you can see above, the retriever that was created using FAISS and Hugging Face Embedding is now capable of pulling relavant documents from the original CSV file knowledge store. This is very powerful and it will help us further in this project."
      ],
      "metadata": {
        "id": "0rWlknGZvHwE"
      },
      "id": "0rWlknGZvHwE"
    },
    {
      "cell_type": "markdown",
      "source": [
        "**Exercise-10:** Create a FAISS vector database using Embeddings model 'sentence-transformers/all-MiniLM-L6-v2'. Then retrieve relevant answers for a query. Use 'get_relevant_documents()'. **(0.5 point)**"
      ],
      "metadata": {
        "id": "tixqezfDZ3hj"
      },
      "id": "tixqezfDZ3hj"
    },
    {
      "cell_type": "code",
      "source": [
        "# Create a FAISS vector database from 'data' using the specified embedding model 'sentence-transformers/all-MiniLM-L6-v2'\n",
        "\n",
        "# YOUR CODE HERE\n",
        "\n",
        "# Create a retriever for querying the vector database with a specified score threshold = 0.7\n",
        "# Store it in a variable 'h_retriever_2'\n",
        "\n",
        "# YOUR CODE HERE"
      ],
      "metadata": {
        "id": "aFB0HAh9Y4Pu"
      },
      "id": "aFB0HAh9Y4Pu",
      "execution_count": null,
      "outputs": []
    },
    {
      "cell_type": "code",
      "source": [
        "# Retrieve relevant documents from the vector database (achieved in Exercise-10)\n",
        "# based on a specific query \"How about job placement support?\"\n",
        "\n",
        "# YOUR CODE HERE"
      ],
      "metadata": {
        "id": "BwO6HE5gY-cw"
      },
      "id": "BwO6HE5gY-cw",
      "execution_count": null,
      "outputs": []
    },
    {
      "cell_type": "markdown",
      "source": [
        "**Exercise-11:** Create a FAISS vector database using Embeddings model 'sentence-transformers/paraphrase-MiniLM-L12-v2'. Then retrieve relevant answers for a query. Use 'get_relevant_documents()'. **(0.5 point)**"
      ],
      "metadata": {
        "id": "89X3iUpIaUSU"
      },
      "id": "89X3iUpIaUSU"
    },
    {
      "cell_type": "code",
      "source": [
        "# Create a FAISS vector database from 'data' using the specified embedding model 'sentence-transformers/paraphrase-MiniLM-L12-v2'\n",
        "\n",
        "# YOUR CODE HERE\n",
        "\n",
        "# Create a retriever for querying the vector database with a specified score threshold = 0.7\n",
        "# Store it in a variable 'h_retriever_3'\n",
        "\n",
        "# YOUR CODE HERE"
      ],
      "metadata": {
        "id": "X1w_fbkCakGG"
      },
      "id": "X1w_fbkCakGG",
      "execution_count": null,
      "outputs": []
    },
    {
      "cell_type": "code",
      "source": [
        "# Retrieve relevant documents from the vector database (achieved in Exercise-11)\n",
        "# based on the specific query \"How about job placement support?\"\n",
        "\n",
        "# YOUR CODE HERE"
      ],
      "metadata": {
        "id": "nOdlYZQTaw7-"
      },
      "id": "nOdlYZQTaw7-",
      "execution_count": null,
      "outputs": []
    },
    {
      "cell_type": "markdown",
      "source": [
        "**Exercise-12:** Create a FAISS vector database using Embeddings model 'sentence-transformers/all-distilroberta-v1'. Then retrieve relevant answers for a query. Use 'get_relevant_documents()'. **(0.5 point)**"
      ],
      "metadata": {
        "id": "2ScvX_Dza9Iu"
      },
      "id": "2ScvX_Dza9Iu"
    },
    {
      "cell_type": "code",
      "source": [
        "# Create a FAISS vector database from 'data' using the specified embedding model 'sentence-transformers/all-distilroberta-v1'\n",
        "\n",
        "# YOUR CODE HERE\n",
        "\n",
        "# Create a retriever for querying the vector database based on a specific score threshold = 0.7\n",
        "# Store it in a variable 'h_retriever_4'\n",
        "\n",
        "# YOUR CODE HERE"
      ],
      "metadata": {
        "id": "q-CZ55rjbKGk"
      },
      "id": "q-CZ55rjbKGk",
      "execution_count": null,
      "outputs": []
    },
    {
      "cell_type": "code",
      "source": [
        "# Retrieve relevant documents from the vector database (achieved in Exercise-12)\n",
        "# based on the specific query \"How about job placement support?\"\n",
        "\n",
        "# YOUR CODE HERE"
      ],
      "metadata": {
        "id": "CJf10AnLbfMn"
      },
      "id": "CJf10AnLbfMn",
      "execution_count": null,
      "outputs": []
    },
    {
      "cell_type": "markdown",
      "source": [
        "**Exercise-13:** Create a FAISS vector database using Embeddings model 'sentence-transformers/multi-qa-MiniLM-L6-cos-v1'. Then retrieve relevant answers for a query. Use 'get_relevant_documents()'. **(0.5 point)**"
      ],
      "metadata": {
        "id": "ZORYEVYsbmfr"
      },
      "id": "ZORYEVYsbmfr"
    },
    {
      "cell_type": "code",
      "source": [
        "# Create a FAISS vector database from 'data' using a specified embedding model 'sentence-transformers/multi-qa-MiniLM-L6-cos-v1'\n",
        "\n",
        "# YOUR CODE HERE\n",
        "\n",
        "# Create a retriever for querying the vector database based on a specific score threshold = 0.7\n",
        "# Store it in a variable 'h_retriever_5'\n",
        "\n",
        "# YOUR CODE HERE"
      ],
      "metadata": {
        "id": "HAuiGfAFbvrk"
      },
      "id": "HAuiGfAFbvrk",
      "execution_count": null,
      "outputs": []
    },
    {
      "cell_type": "code",
      "source": [
        "# Retrieve relevant documents from the vector database (achieved in Exercise-13)\n",
        "# based on the specific query \"How about job placement support?\"\n",
        "\n",
        "# YOUR CODE HERE"
      ],
      "metadata": {
        "id": "Sb1WgfD9b6Xh"
      },
      "id": "Sb1WgfD9b6Xh",
      "execution_count": null,
      "outputs": []
    },
    {
      "cell_type": "markdown",
      "source": [
        "## 3.4 Create RetrievalQA chain with FAISS Vectore Store & Hugging Face 🚀\n",
        "\n",
        "**Exercise-14:** Create RetrievalQA chains for 5 different HuggungFace Embedding Models. Use llm model zephyr_7b_beta and use PromptTemplate to get PROMPT. Then use 'RetrievalQA.from_chain_type()' for getting the 5 Hugging Face RetrievalQA chains. **(0.5 point)**"
      ],
      "metadata": {
        "id": "hmgfg_bnwYQZ"
      },
      "id": "hmgfg_bnwYQZ"
    },
    {
      "cell_type": "code",
      "source": [
        "prompt_template = \"\"\"Given the following context and a question, generate an answer based on this context only.\n",
        "In the answer try to provide as much text as possible from \"response\" section in the source document context without making much changes.\n",
        "If the answer is not found in the context, kindly state \"I don't know.\" Don't try to make up an answer.\n",
        "\n",
        "CONTEXT: {context}\n",
        "\n",
        "QUESTION: {question}\"\"\"\n",
        "\n",
        "\n",
        "PROMPT = PromptTemplate(input_variables=[\"context\", \"question\"], template=prompt_template)\n",
        "chain_type_kwargs = {\"prompt\": PROMPT}\n",
        "\n",
        "# create a RetrievalQA chain in LangChain using the 'zephyr_7b_beta_HFE_llm' language model (derived in Exercise-3),\n",
        "# specifying the chain_type as \"stuff\",\n",
        "# integrating the 'h_retriever_1' (refer Exercise-9), and\n",
        "# ensuring that the source documents are returned alongside the answers to the user's queries.\n",
        "\n",
        "# YOUR CODE HERE\n",
        "\n",
        "# create a RetrievalQA chain in LangChain using the 'zephyr_7b_beta_HFE_llm' language model (derived in Exercise-3),\n",
        "# specifying the chain_type as \"stuff\",\n",
        "# integrating the 'h_retriever_2' (refer Exercise-10), and\n",
        "# ensuring that the source documents are returned alongside the answers to the user's queries.\n",
        "\n",
        "# YOUR CODE HERE\n",
        "\n",
        "# create a RetrievalQA chain in LangChain using the 'zephyr_7b_beta_HFE_llm' language model (derived in Exercise-3),\n",
        "# specifying the chain_type as \"stuff\",\n",
        "# integrating the 'h_retriever_3' (refer Exercise-11), and\n",
        "# ensuring that the source documents are returned alongside the answers to the user's queries.\n",
        "\n",
        "# YOUR CODE HERE\n",
        "\n",
        "# create a RetrievalQA chain in LangChain using the 'zephyr_7b_beta_HFE_llm' language model (derived in Exercise-3),\n",
        "# specifying the chain_type as \"stuff\",\n",
        "# integrating the 'h_retriever_4' (refer Exercise-12), and\n",
        "# ensuring that the source documents are returned alongside the answers to the user's queries.\n",
        "\n",
        "# YOUR CODE HERE\n",
        "\n",
        "# create a RetrievalQA chain in LangChain using the 'zephyr_7b_beta_HFE_llm' language model (derived in Exercise-3),\n",
        "# specifying the chain_type as \"stuff\",\n",
        "# integrating the 'h_retriever_5' (refer Exercise-13), and\n",
        "# ensuring that the source documents are returned alongside the answers to the user's queries.\n",
        "\n",
        "# YOUR CODE HERE"
      ],
      "metadata": {
        "id": "LGmxitlrwhm3"
      },
      "id": "LGmxitlrwhm3",
      "execution_count": null,
      "outputs": []
    },
    {
      "cell_type": "markdown",
      "source": [
        "In the above code cell,  The code snippet sets up a RetrievalQA chain using a custom prompt template with a Hugging Face language model and a retriever.\n",
        "\n",
        "- **PromptTemplate(...)**: Initializes a PromptTemplate object from the langchain.prompts module.\n",
        "- **template=prompt_template**: Specifies the template string created above.\n",
        "- **input_variables=[\"context\", \"question\"]**: Defines the placeholders in the template that will be replaced by actual context and question values during the query.\n",
        "- **chain_type_kwargs**: This dictionary contains the prompt key with the PROMPT object, which will be used to format the queries sent to the language model.\n",
        "- **RetrievalQA.from_chain_type(...)**: Initializes a RetrievalQA chain.\n",
        "- **llm=h_llm**: Specifies the language model (h_llm) to be used for generating answers.\n",
        "- **chain_type=\"stuff\"**: Defines the type of chain. In this case, \"stuff\" is a placeholder that can be replaced with other chain types depending on the use case.\n",
        "- **retriever=h_retriever**: Provides the retriever (h_retriever) that will be used to fetch relevant context from the vector database.\n",
        "- **input_key=\"query\"**: Indicates the key used to pass the query to the chain.\n",
        "return_source_documents=True: Ensures that the source documents used to generate the answer are returned along with the answer.\n",
        "- **chain_type_kwargs=chain_type_kwargs**: Passes additional keyword arguments (including the prompt template) to the chain."
      ],
      "metadata": {
        "id": "iqj8LeDGxYlx"
      },
      "id": "iqj8LeDGxYlx"
    },
    {
      "cell_type": "markdown",
      "source": [
        "## 3.5 Let's ask some questions to FAISS based Hugging Face RetrievalQA chain\n",
        "\n",
        "**Exercise-15:** Execute a retrieval-based QA query for the question: 'Do you provide job assistance and also do you provide job guarantee?' using each of the 5 ReyrievalQA chains as achieved in Exercise-14. **(0.5 point)**"
      ],
      "metadata": {
        "id": "hUfOxRlZxfSY"
      },
      "id": "hUfOxRlZxfSY"
    },
    {
      "cell_type": "code",
      "source": [
        "Q1 = 'Do you provide job assistance and also do you provide job gurantee?'\n",
        "\n",
        "# Invoke the RetrievalQA chain 'h_retriever_1' (refer Exercise-9) with the specific query Q1 to retrieve the corresponding answer and any relevant documents\n",
        "# The output will be a dictionary. Consider it as 'h_retrieval_QA1'\n",
        "\n",
        "# YOUR CODE HERE\n",
        "\n",
        "# Get the list of keys in the dictionary 'h_retrieval_QA1'\n",
        "\n",
        "# YOUR CODE HERE\n",
        "\n",
        "# Access the value using the key's index and store the value in 'h_result_value1'\n",
        "\n",
        "# YOUR CODE HERE  (use 1 as the index of 'result' key)\n",
        "######################################################\n",
        "# Invoke the RetrievalQA chain 'h_retriever_2' (refer Exercise-10) with the specific query Q1 to retrieve the corresponding answer and any relevant documents\n",
        "# The output will be a dictionary. Consider it as 'h_retrieval_QA2'\n",
        "\n",
        "# YOUR CODE HERE\n",
        "\n",
        "# Get the list of keys in the dictionary 'h_retrieval_QA2'\n",
        "\n",
        "# YOUR CODE HERE\n",
        "\n",
        "# Access the value using the key's index and store the value in 'h_result_value2'\n",
        "\n",
        "# YOUR CODE HERE  (use 1 as the index of 'result' key)\n",
        "######################################################\n",
        "# Invoke the RetrievalQA chain 'h_retriever_3' (refer Exercise-11) with the specific query Q1 to retrieve the corresponding answer and any relevant documents\n",
        "# The output will be a dictionary. Consider it as 'h_retrieval_QA3'\n",
        "\n",
        "# YOUR CODE HERE\n",
        "\n",
        "# Get the list of keys in the dictionary 'h_retrieval_QA3'\n",
        "\n",
        "# YOUR CODE HERE\n",
        "\n",
        "# Access the value using the key's index and store the value in 'h_result_value3'\n",
        "\n",
        "# YOUR CODE HERE  (use 1 as the index of 'result' key)\n",
        "######################################################\n",
        "# Invoke the RetrievalQA chain 'h_retriever_4' (refer Exercise-12) with the specific query Q1 to retrieve the corresponding answer and any relevant documents\n",
        "# The output will be a dictionary. Consider it as 'h_retrieval_QA4'\n",
        "\n",
        "# YOUR CODE HERE\n",
        "\n",
        "# Get the list of keys in the dictionary 'h_retrieval_QA4'\n",
        "\n",
        "# YOUR CODE HERE\n",
        "\n",
        "# Access the value using the key's index and store the value in 'h_result_value4'\n",
        "\n",
        "# YOUR CODE HERE  (use 1 as the index of 'result' key)\n",
        "######################################################\n",
        "# Invoke the RetrievalQA chain 'h_retriever_5' (refer Exercise-13) with the specific query Q1 to retrieve the corresponding answer and any relevant documents\n",
        "# The output will be a dictionary. Consider it as 'h_retrieval_QA5'\n",
        "\n",
        "# YOUR CODE HERE\n",
        "\n",
        "# Get the list of keys in the dictionary 'h_retrieval_QA5'\n",
        "\n",
        "# YOUR CODE HERE\n",
        "\n",
        "# Access the value using the key's index and store the value in 'h_result_value5'\n",
        "\n",
        "# YOUR CODE HERE  (use 1 as the index of 'result' key)"
      ],
      "metadata": {
        "id": "RHH8wCm8xleh"
      },
      "id": "RHH8wCm8xleh",
      "execution_count": null,
      "outputs": []
    },
    {
      "cell_type": "markdown",
      "source": [
        "**Fromthe above results, you will be able to see, that the answer of question comes from two different FAQs within the Codebasics FAQ csv file and it is able to pull those questions and merge them nicely.**"
      ],
      "metadata": {
        "id": "LOI1SQakxr3_"
      },
      "id": "LOI1SQakxr3_"
    },
    {
      "cell_type": "markdown",
      "source": [
        "## 3.6 Comparison: 5 different embedding models performance (for FAISS Vectore Store)\n",
        "\n",
        "**Exercise-16:** Compare the RetrievalQA performance among all 5 different Embedding Models using Cosine Similarity.\n",
        "\n",
        "Use the embeddig models achieved under section 3.2. **(0.5 point)**\n",
        "\n",
        "- **(a)** Consider the reference Question: 'Do you provide job assistance and also do you provide job guarantee?'. Compute Cosine Similarity.\n",
        "\n",
        "- **(b)** Consider the Benchmark_response: 'Yes, We help you with resume and interview preparation along with that we help you in building online credibility, and based on requirements we refer candidates to potential recruiters.' Compute Cosine Similarity."
      ],
      "metadata": {
        "id": "FVuehG4whb_g"
      },
      "id": "FVuehG4whb_g"
    },
    {
      "cell_type": "code",
      "source": [
        "# Refer to the 5 different HuggungFace Embedding Models as already created under section 3.2\n",
        "# Put those 5 embed models as below.\n",
        "h_embeddings1 = embed_model_1\n",
        "h_embeddings2 = embed_model_2\n",
        "h_embeddings3 = embed_model_3\n",
        "h_embeddings4 = embed_model_4\n",
        "h_embeddings5 = embed_model_5\n",
        "\n",
        "Benchmark_response = \"\"\"Yes, We help you with resume and interview preparation along with that we help you in building online credibility,\n",
        "and based on requirements we refer candidates to potential recruiters.\"\"\"\n",
        "\n",
        "BMR = Benchmark_response\n",
        "\n",
        "# Reshape the output of embedding the query (Q1 as given in Exercose-15) using the 1st embedding model (h_embeddings1) into a 2D array.\n",
        "# YOUR CODE HERE\n",
        "# Convert the output of embedding the BMR (mentioned above) using the 1st embedding model (h_embeddings1) into a 2D array.\n",
        "# YOUR CODE HERE\n",
        "# Reshape the output of embedding the h_result_value1 (which was created in Exercise-15) into a 2D array using h_embeddings1.\n",
        "# YOUR CODE HERE\n",
        "\n",
        "# Reshape the output of embedding the query (Q1 as given in Exercose-15) using the 2nd embedding model (h_embeddings2) into a 2D array.\n",
        "# YOUR CODE HERE\n",
        "# Convert the output of embedding the BMR (mentioned above) using the 2nd embedding model (h_embeddings2) into a 2D array.\n",
        "# YOUR CODE HERE\n",
        "# Reshape the output of embedding the h_result_value2 (which was created in Exercise-15) into a 2D array using h_embeddings2.\n",
        "# YOUR CODE HERE\n",
        "\n",
        "# Reshape the output of embedding the query (Q1 as given in Exercose-15) using the 3rd embedding model (h_embeddings3) into a 2D array.\n",
        "# YOUR CODE HERE\n",
        "# Convert the output of embedding the BMR (mentioned above) using the 3rd embedding model (h_embeddings3) into a 2D array.\n",
        "# YOUR CODE HERE\n",
        "# Reshape the output of embedding the h_result_value3 (which was created in Exercise-15) into a 2D array using h_embeddings3.\n",
        "# YOUR CODE HERE\n",
        "\n",
        "# Reshape the output of embedding the query (Q1 as given in Exercose-15) using the 4th embedding model (h_embeddings4) into a 2D array.\n",
        "# YOUR CODE HERE\n",
        "# Convert the output of embedding the BMR (mentioned above) using the 4th embedding model (h_embeddings4) into a 2D array.\n",
        "# YOUR CODE HERE\n",
        "# Reshape the output of embedding the h_result_value4 (which was created in Exercise-15) into a 2D array using h_embeddings4.\n",
        "# YOUR CODE HERE\n",
        "\n",
        "# Reshape the output of embedding the query (Q1 as given in Exercose-15) using the 5th embedding model (h_embeddings5) into a 2D array.\n",
        "# YOUR CODE HERE\n",
        "# Convert the output of embedding the BMR (mentioned above) using the 4th embedding model (h_embeddings5) into a 2D array.\n",
        "# YOUR CODE HERE\n",
        "# Reshape the output of embedding the h_result_value5 (which was created in Exercise-15) into a 2D array using h_embeddings5.\n",
        "# YOUR CODE HERE"
      ],
      "metadata": {
        "id": "nZNw9BCNjLGM"
      },
      "id": "nZNw9BCNjLGM",
      "execution_count": null,
      "outputs": []
    },
    {
      "cell_type": "code",
      "source": [
        "# (a)\n",
        "# Calculate and display the cosine similarity between\n",
        "# (i) Q1 (as given in Exercose-15) and h_result_value1, (ii) Q1 (as given in Exercose-15) and h_result_value2,\n",
        "# (iii) Q1 (as given in Exercose-15) and h_result_value3, (iv) Q1 (as given in Exercose-15) and h_result_value4, and\n",
        "# (v) Q1 (as given in Exercose-15) and h_result_value5\n",
        "\n",
        "# YOUR CODE HERE"
      ],
      "metadata": {
        "id": "5JZxzzezmQaU"
      },
      "id": "5JZxzzezmQaU",
      "execution_count": null,
      "outputs": []
    },
    {
      "cell_type": "markdown",
      "source": [
        "Fill in the following blanks.\n",
        "\n",
        "**So, by considering the reference query Q1(as given in Exercose-15), as we can observe from the above result, that the highest Cosine Similarity (______%) is achieved by using the HuggingFace embedding model '_______________________'.**\n",
        "\n",
        "**So after the below code cell, use the corresponding RetrievalQA chain (i.e., ________) which is the best out of 5 RetrievalQA chains) to ask following queries and to get responses.**"
      ],
      "metadata": {
        "id": "QWGD__2rnYPz"
      },
      "id": "QWGD__2rnYPz"
    },
    {
      "cell_type": "code",
      "source": [
        "# (b)\n",
        "# Compute and print the cosine similarity between the benchmark reference embedding (BMR) and\n",
        "# multiple result embeddings, indicating their similarity scores\n",
        "\n",
        "# YOUR CODE HERE"
      ],
      "metadata": {
        "id": "ejEkBm9u3vc_"
      },
      "id": "ejEkBm9u3vc_",
      "execution_count": null,
      "outputs": []
    },
    {
      "cell_type": "markdown",
      "source": [
        "Fill in the following blanks.\n",
        "\n",
        "**So, by considering the Benchmark_response BMR (mentioned in Exercise-16), as we can observe from the above result, that the highest Cosine Similarity (______%) is achieved by using the embedding model ___________________________.**"
      ],
      "metadata": {
        "id": "doWpjEDh4OfM"
      },
      "id": "doWpjEDh4OfM"
    },
    {
      "cell_type": "code",
      "source": [
        "# Ask Question \"Do you guys provide internship and also do you offer EMI payments?\"\"\n",
        "# YOUR CODE HERE"
      ],
      "metadata": {
        "id": "G2WqFoJrxyzY"
      },
      "id": "G2WqFoJrxyzY",
      "execution_count": null,
      "outputs": []
    },
    {
      "cell_type": "code",
      "source": [
        "# Ask Question \"do you have javascript course?\"\n",
        "# YOUR CODE HERE"
      ],
      "metadata": {
        "id": "Z-63uWBdx1T_"
      },
      "id": "Z-63uWBdx1T_",
      "execution_count": null,
      "outputs": []
    },
    {
      "cell_type": "code",
      "source": [
        "# Ask Question \"Do you have plans to launch blockchain course in future?\"\n",
        "# YOUR CODE HERE"
      ],
      "metadata": {
        "id": "S0VJ48Olx4Co"
      },
      "id": "S0VJ48Olx4Co",
      "execution_count": null,
      "outputs": []
    },
    {
      "cell_type": "code",
      "source": [
        "# Ask Question \"should I learn power bi or tableau?\"\n",
        "# YOUR CODE HERE"
      ],
      "metadata": {
        "id": "KryCvsdhx6mb"
      },
      "id": "KryCvsdhx6mb",
      "execution_count": null,
      "outputs": []
    },
    {
      "cell_type": "code",
      "source": [
        "# Ask Question \"I've a MAC computer. Can I use powerbi on it?\"\n",
        "# YOUR CODE HERE"
      ],
      "metadata": {
        "id": "MP_ZrpkHx9LY"
      },
      "id": "MP_ZrpkHx9LY",
      "execution_count": null,
      "outputs": []
    },
    {
      "cell_type": "code",
      "source": [
        "# Ask Question \"I don't see power pivot. how can I enable it?\"\n",
        "# YOUR CODE HERE"
      ],
      "metadata": {
        "id": "t3JvaRNTx_tH"
      },
      "id": "t3JvaRNTx_tH",
      "execution_count": null,
      "outputs": []
    },
    {
      "cell_type": "code",
      "source": [
        "# Ask Question \"What is the price of your machine learning course?\"\n",
        "# YOUR CODE HERE"
      ],
      "metadata": {
        "id": "774_F3gRyCKQ"
      },
      "id": "774_F3gRyCKQ",
      "execution_count": null,
      "outputs": []
    },
    {
      "cell_type": "markdown",
      "source": [
        "# **Phase-IV:** Performing RAG using HuggingFace Retrieval Chain For Fixed Embedding model and Chromadb Vector Store\n",
        "\n",
        "In this Phase-IV, the vector store is changed from FAISS to Chromadb\n",
        "\n",
        "<br><br>\n",
        "<center>\n",
        "<img src=\" https://cdn.exec.talentsprint.com/static/cds/content/varying_vector_stores-5.png\" height = 600 width= 1600 px/>\n",
        "</center>\n",
        "<br><br>"
      ],
      "metadata": {
        "id": "3r6qc23JnHZe"
      },
      "id": "3r6qc23JnHZe"
    },
    {
      "cell_type": "markdown",
      "source": [
        "## 4.1 Vector store using Chromadb\n",
        "\n",
        "##### For vector database we can use chromadb as shown below. During the experimentation, we found Hugging Face Embeddings and FAISS to be appropriate for our use case. Let's see the retrieval performance using Chromadb in the following code cell.\n",
        "\n",
        "**Exercise-17:** Create a Chroma vector database. Use the above achieved best Hugging Face Embeddings model 'BAAI/bge-small-en-v1.5'. Then retrieve relevant answers for a query. Use 'get_relevant_documents()' **(0.5 point)**"
      ],
      "metadata": {
        "id": "I5NU2wZhqpWu"
      },
      "id": "I5NU2wZhqpWu"
    },
    {
      "cell_type": "code",
      "source": [
        "# Create a Chroma vector database from documents using embed_model_1 that was created under section 3.2 and\n",
        "# persist it to a specified directory\n",
        "\n",
        "# YOUR CODE HERE"
      ],
      "metadata": {
        "id": "vf69UpUXrHIP"
      },
      "id": "vf69UpUXrHIP",
      "execution_count": null,
      "outputs": []
    },
    {
      "cell_type": "code",
      "source": [
        "# Create a retriever for querying the vector database derived through Chroma with a score_threshold = 0.7\n",
        "\n",
        "# YOUR CODE HERE"
      ],
      "metadata": {
        "id": "ipLGSB14rOjj"
      },
      "id": "ipLGSB14rOjj",
      "execution_count": null,
      "outputs": []
    },
    {
      "cell_type": "code",
      "source": [
        " # Retrieve relevant documents related to the query \"how about job placement support?\"\n",
        "\n",
        " # YOUR CODE HERE"
      ],
      "metadata": {
        "id": "co-yOQsSrWQK"
      },
      "id": "co-yOQsSrWQK",
      "execution_count": null,
      "outputs": []
    },
    {
      "cell_type": "markdown",
      "source": [
        "In the above code cell,\n",
        "\n",
        "- **Chroma.from_documents(...)**: This method initializes a Chroma vector database using a list of documents, an embedding model, and a directory to persist the database.\n",
        "- **g_vectordb.as_retriever(...)**: This method converts the Chroma vector database instance (g_vectordb) into a retriever object that can be used to perform queries.\n",
        "- **g_retriever.get_relevant_documents(...)**: This method queries the retriever object (g_retriever) with the given text query."
      ],
      "metadata": {
        "id": "Ka1skkNwrg42"
      },
      "id": "Ka1skkNwrg42"
    },
    {
      "cell_type": "markdown",
      "source": [
        "## 4.2 Create RetrievalQA chain with Chromadb Vectore Store & Hugging Face 🚀\n",
        "\n",
        "**Exercise-18:** Now we will use the achieved best embedding model as evaluated in Exercise-16 (i.e., HuggingFace embedding model 'BAAI/bge-small-en-v1.5') to see if there is any impact in RetrievalQA chain's performance if the Vector Store is changed from FAISS to Chromadb. Create RetrievalQA chain with Chromadb Vectore Store. Use PromptTemplate to get PROMPT. Then use 'RetrievalQA.from_chain_type()' for getting the Chromadb Vectore Store based RetrievalQA chain. **(0.5 point)**"
      ],
      "metadata": {
        "id": "Qw2kodBOJSWp"
      },
      "id": "Qw2kodBOJSWp"
    },
    {
      "cell_type": "code",
      "source": [
        "prompt_template = \"\"\"Given the following context and a question, generate an answer based on this context only.\n",
        "In the answer try to provide as much text as possible from \"response\" section in the source document context without making much changes.\n",
        "If the answer is not found in the context, kindly state \"I don't know.\" Don't try to make up an answer.\n",
        "\n",
        "CONTEXT: {context}\n",
        "\n",
        "QUESTION: {question}\"\"\"\n",
        "\n",
        "\n",
        "PROMPT = PromptTemplate(\n",
        "    template=prompt_template, input_variables=[\"context\", \"question\"]\n",
        ")\n",
        "chain_type_kwargs = {\"prompt\": PROMPT}\n",
        "\n",
        "# Create a RetrievalQA chain using the 'zephyr_7b_beta_HFE_llm' model (derived in Exercise-3) and\n",
        "# the retriever created in Exercise-17, while returning source documents and customizing chain type arguments\n",
        "\n",
        "# YOUR CODE HERE"
      ],
      "metadata": {
        "id": "CFPOVQL-KHDa"
      },
      "id": "CFPOVQL-KHDa",
      "execution_count": null,
      "outputs": []
    },
    {
      "cell_type": "markdown",
      "source": [
        "In the above code cell, The code snippet sets up a RetrievalQA chain using a custom prompt template with a Google PaLM language model and a retriever.\n",
        "\n",
        "- **PromptTemplate(...)**: Initializes a PromptTemplate object from the langchain.prompts module.\n",
        "- **template=prompt_template**: Specifies the template string that defines how queries should be formatted.\n",
        "- **input_variables=[\"context\", \"question\"]**: Lists the placeholders in the template that will be replaced by actual values for context and question.\n",
        "chain_type_kwargs: A dictionary that includes the prompt template used to format the queries.\n",
        "- **RetrievalQA.from_chain_type(...)**: Initializes a RetrievalQA chain.\n",
        "- **llm=g_llm**: Specifies the Google PaLM language model (g_llm) used for generating answers.\n",
        "- **chain_type=\"stuff\"**: Defines the type of chain. \"stuff\" can be replaced with other chain types as needed.\n",
        "- **retriever=g_retriever**: The retriever (g_retriever) used to fetch relevant documents from the vector database.\n",
        "- **input_key=\"query\"**: Indicates the key used for passing the query to the chain.\n",
        "- **return_source_documents=True**: Ensures that the documents used to generate the answer are returned along with the answer.\n",
        "- **chain_type_kwargs=chain_type_kwargs**: Passes additional keyword arguments, including the prompt template, to the chain."
      ],
      "metadata": {
        "id": "uu-CsmY_KiLm"
      },
      "id": "uu-CsmY_KiLm"
    },
    {
      "cell_type": "markdown",
      "source": [
        "## 4.3 Let's ask some questions to Chromadb based HuggingFace retrieval QA chain\n",
        "\n",
        "**Exercise-19:** By using the Chromadb Vector Store based Retrieval QA chain (achieved in Exercise-18), execute a retrieval-based QA query for the question: 'Do you provide job assistance and also do you provide job guarantee?'. **(0.5 point)**"
      ],
      "metadata": {
        "id": "Z1SfPyW3KqFO"
      },
      "id": "Z1SfPyW3KqFO"
    },
    {
      "cell_type": "code",
      "source": [
        "Q1 = 'Do you provide job assistance and also do you provide job gurantee?'\n",
        "# Using the Chromadb Vector Store based Retrieval QA chain (achieved in Exercise-18),\n",
        "# execute a retrieval-based QA query for the question Q1 (mentioned above). The output will be a dictionary.\n",
        "# Name it as 'g_retrieval_QA1'\n",
        "\n",
        "# YOUR CODE HERE\n",
        "\n",
        "# Get the list of keys in the dictionary 'g_retrieval_QA1'\n",
        "\n",
        "# YOUR CODE HERE\n",
        "\n",
        "# Access the value using the key's index. Store the value in a variable 'g_result_value1'\n",
        "# YOUR CODE HERE  (Use 1 as the index of 'result' key)"
      ],
      "metadata": {
        "id": "iwIB6EVpLb8Z"
      },
      "id": "iwIB6EVpLb8Z",
      "execution_count": null,
      "outputs": []
    },
    {
      "cell_type": "markdown",
      "source": [
        "## 4.4 Comparison: Is there any impact?\n",
        "- keeping the llm and embedding model unchanged but only changing the Vector Store from FAISS to Chromadb\n",
        "\n",
        "**Exercise-20:** Using Cosine Similarity, measure the RetrievalQA performance of the Chromadb based RetrievalQA chain as achieved in Exercise-18. Use the best embeddig model as evaluated in Exercise-16 (i.e., HuggingFace embedding model 'BAAI/bge-small-en-v1.5').\n",
        "\n",
        "Consider the reference Question: 'Do you provide job assistance and also do you provide job guarantee?'. **(0.5 point)**"
      ],
      "metadata": {
        "id": "KaxvDh6qs_oL"
      },
      "id": "KaxvDh6qs_oL"
    },
    {
      "cell_type": "code",
      "source": [
        "# Using HuggingFaceEmbeddings 'BAAI/bge-small-en-v1.5'\n",
        "embeddings = embed_model_1\n",
        "\n",
        "# Convert a query into an embedding array using the embed_query() function and reshape it to a 2D array for Q1\n",
        "\n",
        "# YOUR CODE HERE\n",
        "\n",
        "# Convert 'g_result_value1' created in Exercise-19 into an embedding array using the embed_query() function and\n",
        "# reshape it to a 2D array\n",
        "\n",
        "# YOUR COE# HERE"
      ],
      "metadata": {
        "id": "LZ91qia2u2c9"
      },
      "id": "LZ91qia2u2c9",
      "execution_count": null,
      "outputs": []
    },
    {
      "cell_type": "code",
      "source": [
        "# Compute Cosine Similarity between Q1 (mentioned in Exercise-19) and\n",
        "# Chromadb based 'g_result_value1' (as derived in Exercise-19) and store the result in a variable 'cosine_sim_Chromadb'?\n",
        "\n",
        "# YOUR CODE HERE\n",
        "\n",
        "#cosine_sim_Chromadb = cosine_similarity(Q1_e, g_e1)[0][0]\n",
        "\n",
        "#print(f\"Cosine Similarity between Q1 and FAISS based h_result_value1: {cosine_sim_FAISS}\")\n",
        "print(f\"Cosine Similarity between Q1 and Chromadb based g_result_value1: {cosine_sim_Chromadb}\")"
      ],
      "metadata": {
        "id": "ZxPG-x8jvPyc"
      },
      "id": "ZxPG-x8jvPyc",
      "execution_count": null,
      "outputs": []
    },
    {
      "cell_type": "code",
      "source": [
        "print(f\"Cosine Similarity between Q1 and h_result_value1: {cosine_sim_1}\") # consider 'cosine_sim_1' from Exercise-16(a)\n",
        "print(f\"Difference in Cosine Similarity between FAISS and Chromadb: {cosine_sim_1 - cosine_sim_Chromadb}\")\n",
        "print(f\"Percentage Difference in Cosine Similarity between FAISS and Chromadb: {(cosine_sim_1 - cosine_sim_Chromadb)*100}%\")"
      ],
      "metadata": {
        "id": "eOivgmHIwQw9"
      },
      "id": "eOivgmHIwQw9",
      "execution_count": null,
      "outputs": []
    },
    {
      "cell_type": "markdown",
      "source": [
        "Fill in the blank.\n",
        "\n",
        "**Hence, from the above result we can observe that in RAG performance, there is ______% difference (i.e., very low difference) in Cosine Similarity between FAISS and Chromadb based retrieval chain if the llm and embedding model are remained unchanged. So, there is very less impact of changing the Vector Store, if the llm and embedinng model remain same.**"
      ],
      "metadata": {
        "id": "12nw5P-5w-dv"
      },
      "id": "12nw5P-5w-dv"
    },
    {
      "cell_type": "markdown",
      "source": [
        "**Optional Task:** Execute the below code cells to test the RAG performance with the following queries. Use Chromadb based RetrievalQA chain as obtained in Exercise-18."
      ],
      "metadata": {
        "id": "UtvA_G-VyaND"
      },
      "id": "UtvA_G-VyaND"
    },
    {
      "cell_type": "code",
      "source": [
        "# EXECUTE queries \"do you have javascript course?\"\"\n",
        "# YOUR CODE HERE"
      ],
      "metadata": {
        "id": "TJE7fBxfLjdR"
      },
      "id": "TJE7fBxfLjdR",
      "execution_count": null,
      "outputs": []
    },
    {
      "cell_type": "code",
      "source": [
        "# EXECUTE queries \"Do you have plans to launch blockchain course in future?\"\n",
        "# YOUR CODE HERE"
      ],
      "metadata": {
        "id": "z36Slr3HLnhP"
      },
      "id": "z36Slr3HLnhP",
      "execution_count": null,
      "outputs": []
    },
    {
      "cell_type": "code",
      "source": [
        "# EXECUTE queries \"should I learn power bi or tableau?\"\n",
        "# YOUR CODE HERE"
      ],
      "metadata": {
        "id": "5tmPCGkbLqzx"
      },
      "id": "5tmPCGkbLqzx",
      "execution_count": null,
      "outputs": []
    },
    {
      "cell_type": "code",
      "source": [
        "# EXECUTE queries \"I've a MAC computer. Can I use powerbi on it?\"\n",
        "# YOUR CODE HERE"
      ],
      "metadata": {
        "id": "IIDDyInyLuDR"
      },
      "id": "IIDDyInyLuDR",
      "execution_count": null,
      "outputs": []
    },
    {
      "cell_type": "code",
      "source": [
        "# EXECUTE queries \"I don't see power pivot. how can I enable it?\"\n",
        "# YOUR CODE HERE"
      ],
      "metadata": {
        "id": "6IR1zM2iLzTi"
      },
      "id": "6IR1zM2iLzTi",
      "execution_count": null,
      "outputs": []
    },
    {
      "cell_type": "code",
      "source": [
        "# EXECUTE queries \"What is the price of your machine learning course?\"\n",
        "# YOUR CODE HERE"
      ],
      "metadata": {
        "id": "epIJt6kXL2mc"
      },
      "id": "epIJt6kXL2mc",
      "execution_count": null,
      "outputs": []
    }
  ],
  "metadata": {
    "kernelspec": {
      "display_name": "Python 3",
      "name": "python3"
    },
    "language_info": {
      "name": "python",
      "version": "3.8"
    },
    "colab": {
      "provenance": [],
      "gpuType": "T4",
      "include_colab_link": true
    },
    "accelerator": "GPU",
    "widgets": {
      "application/vnd.jupyter.widget-state+json": {
        "fa79afab11094eaea90a05c0e60fcc34": {
          "model_module": "@jupyter-widgets/controls",
          "model_name": "HBoxModel",
          "model_module_version": "1.5.0",
          "state": {
            "_dom_classes": [],
            "_model_module": "@jupyter-widgets/controls",
            "_model_module_version": "1.5.0",
            "_model_name": "HBoxModel",
            "_view_count": null,
            "_view_module": "@jupyter-widgets/controls",
            "_view_module_version": "1.5.0",
            "_view_name": "HBoxView",
            "box_style": "",
            "children": [
              "IPY_MODEL_9ff0e36b0dd144f39c5f9cf208a17394",
              "IPY_MODEL_86fdb878398a46a78c87cba56fe34bd2",
              "IPY_MODEL_cd9efb1307b3434f99eadd237933c36f"
            ],
            "layout": "IPY_MODEL_da1b6581f2a14b68bc6423529dbeaac8"
          }
        },
        "9ff0e36b0dd144f39c5f9cf208a17394": {
          "model_module": "@jupyter-widgets/controls",
          "model_name": "HTMLModel",
          "model_module_version": "1.5.0",
          "state": {
            "_dom_classes": [],
            "_model_module": "@jupyter-widgets/controls",
            "_model_module_version": "1.5.0",
            "_model_name": "HTMLModel",
            "_view_count": null,
            "_view_module": "@jupyter-widgets/controls",
            "_view_module_version": "1.5.0",
            "_view_name": "HTMLView",
            "description": "",
            "description_tooltip": null,
            "layout": "IPY_MODEL_13fdc4fd7cff481e8b4dc9e736bdee55",
            "placeholder": "​",
            "style": "IPY_MODEL_e8b6f10325d44c54801935710ac5656a",
            "value": "tokenizer_config.json: 100%"
          }
        },
        "86fdb878398a46a78c87cba56fe34bd2": {
          "model_module": "@jupyter-widgets/controls",
          "model_name": "FloatProgressModel",
          "model_module_version": "1.5.0",
          "state": {
            "_dom_classes": [],
            "_model_module": "@jupyter-widgets/controls",
            "_model_module_version": "1.5.0",
            "_model_name": "FloatProgressModel",
            "_view_count": null,
            "_view_module": "@jupyter-widgets/controls",
            "_view_module_version": "1.5.0",
            "_view_name": "ProgressView",
            "bar_style": "success",
            "description": "",
            "description_tooltip": null,
            "layout": "IPY_MODEL_b2390137f158430883f1af95404e2e66",
            "max": 7339,
            "min": 0,
            "orientation": "horizontal",
            "style": "IPY_MODEL_b3ad75149e9c4ef1a481654d92a35f6e",
            "value": 7339
          }
        },
        "cd9efb1307b3434f99eadd237933c36f": {
          "model_module": "@jupyter-widgets/controls",
          "model_name": "HTMLModel",
          "model_module_version": "1.5.0",
          "state": {
            "_dom_classes": [],
            "_model_module": "@jupyter-widgets/controls",
            "_model_module_version": "1.5.0",
            "_model_name": "HTMLModel",
            "_view_count": null,
            "_view_module": "@jupyter-widgets/controls",
            "_view_module_version": "1.5.0",
            "_view_name": "HTMLView",
            "description": "",
            "description_tooltip": null,
            "layout": "IPY_MODEL_2eae9dafbf5347de9e5dda617905684d",
            "placeholder": "​",
            "style": "IPY_MODEL_f62efd2be1e3424fbf23533179247730",
            "value": " 7.34k/7.34k [00:00&lt;00:00, 737kB/s]"
          }
        },
        "da1b6581f2a14b68bc6423529dbeaac8": {
          "model_module": "@jupyter-widgets/base",
          "model_name": "LayoutModel",
          "model_module_version": "1.2.0",
          "state": {
            "_model_module": "@jupyter-widgets/base",
            "_model_module_version": "1.2.0",
            "_model_name": "LayoutModel",
            "_view_count": null,
            "_view_module": "@jupyter-widgets/base",
            "_view_module_version": "1.2.0",
            "_view_name": "LayoutView",
            "align_content": null,
            "align_items": null,
            "align_self": null,
            "border": null,
            "bottom": null,
            "display": null,
            "flex": null,
            "flex_flow": null,
            "grid_area": null,
            "grid_auto_columns": null,
            "grid_auto_flow": null,
            "grid_auto_rows": null,
            "grid_column": null,
            "grid_gap": null,
            "grid_row": null,
            "grid_template_areas": null,
            "grid_template_columns": null,
            "grid_template_rows": null,
            "height": null,
            "justify_content": null,
            "justify_items": null,
            "left": null,
            "margin": null,
            "max_height": null,
            "max_width": null,
            "min_height": null,
            "min_width": null,
            "object_fit": null,
            "object_position": null,
            "order": null,
            "overflow": null,
            "overflow_x": null,
            "overflow_y": null,
            "padding": null,
            "right": null,
            "top": null,
            "visibility": null,
            "width": null
          }
        },
        "13fdc4fd7cff481e8b4dc9e736bdee55": {
          "model_module": "@jupyter-widgets/base",
          "model_name": "LayoutModel",
          "model_module_version": "1.2.0",
          "state": {
            "_model_module": "@jupyter-widgets/base",
            "_model_module_version": "1.2.0",
            "_model_name": "LayoutModel",
            "_view_count": null,
            "_view_module": "@jupyter-widgets/base",
            "_view_module_version": "1.2.0",
            "_view_name": "LayoutView",
            "align_content": null,
            "align_items": null,
            "align_self": null,
            "border": null,
            "bottom": null,
            "display": null,
            "flex": null,
            "flex_flow": null,
            "grid_area": null,
            "grid_auto_columns": null,
            "grid_auto_flow": null,
            "grid_auto_rows": null,
            "grid_column": null,
            "grid_gap": null,
            "grid_row": null,
            "grid_template_areas": null,
            "grid_template_columns": null,
            "grid_template_rows": null,
            "height": null,
            "justify_content": null,
            "justify_items": null,
            "left": null,
            "margin": null,
            "max_height": null,
            "max_width": null,
            "min_height": null,
            "min_width": null,
            "object_fit": null,
            "object_position": null,
            "order": null,
            "overflow": null,
            "overflow_x": null,
            "overflow_y": null,
            "padding": null,
            "right": null,
            "top": null,
            "visibility": null,
            "width": null
          }
        },
        "e8b6f10325d44c54801935710ac5656a": {
          "model_module": "@jupyter-widgets/controls",
          "model_name": "DescriptionStyleModel",
          "model_module_version": "1.5.0",
          "state": {
            "_model_module": "@jupyter-widgets/controls",
            "_model_module_version": "1.5.0",
            "_model_name": "DescriptionStyleModel",
            "_view_count": null,
            "_view_module": "@jupyter-widgets/base",
            "_view_module_version": "1.2.0",
            "_view_name": "StyleView",
            "description_width": ""
          }
        },
        "b2390137f158430883f1af95404e2e66": {
          "model_module": "@jupyter-widgets/base",
          "model_name": "LayoutModel",
          "model_module_version": "1.2.0",
          "state": {
            "_model_module": "@jupyter-widgets/base",
            "_model_module_version": "1.2.0",
            "_model_name": "LayoutModel",
            "_view_count": null,
            "_view_module": "@jupyter-widgets/base",
            "_view_module_version": "1.2.0",
            "_view_name": "LayoutView",
            "align_content": null,
            "align_items": null,
            "align_self": null,
            "border": null,
            "bottom": null,
            "display": null,
            "flex": null,
            "flex_flow": null,
            "grid_area": null,
            "grid_auto_columns": null,
            "grid_auto_flow": null,
            "grid_auto_rows": null,
            "grid_column": null,
            "grid_gap": null,
            "grid_row": null,
            "grid_template_areas": null,
            "grid_template_columns": null,
            "grid_template_rows": null,
            "height": null,
            "justify_content": null,
            "justify_items": null,
            "left": null,
            "margin": null,
            "max_height": null,
            "max_width": null,
            "min_height": null,
            "min_width": null,
            "object_fit": null,
            "object_position": null,
            "order": null,
            "overflow": null,
            "overflow_x": null,
            "overflow_y": null,
            "padding": null,
            "right": null,
            "top": null,
            "visibility": null,
            "width": null
          }
        },
        "b3ad75149e9c4ef1a481654d92a35f6e": {
          "model_module": "@jupyter-widgets/controls",
          "model_name": "ProgressStyleModel",
          "model_module_version": "1.5.0",
          "state": {
            "_model_module": "@jupyter-widgets/controls",
            "_model_module_version": "1.5.0",
            "_model_name": "ProgressStyleModel",
            "_view_count": null,
            "_view_module": "@jupyter-widgets/base",
            "_view_module_version": "1.2.0",
            "_view_name": "StyleView",
            "bar_color": null,
            "description_width": ""
          }
        },
        "2eae9dafbf5347de9e5dda617905684d": {
          "model_module": "@jupyter-widgets/base",
          "model_name": "LayoutModel",
          "model_module_version": "1.2.0",
          "state": {
            "_model_module": "@jupyter-widgets/base",
            "_model_module_version": "1.2.0",
            "_model_name": "LayoutModel",
            "_view_count": null,
            "_view_module": "@jupyter-widgets/base",
            "_view_module_version": "1.2.0",
            "_view_name": "LayoutView",
            "align_content": null,
            "align_items": null,
            "align_self": null,
            "border": null,
            "bottom": null,
            "display": null,
            "flex": null,
            "flex_flow": null,
            "grid_area": null,
            "grid_auto_columns": null,
            "grid_auto_flow": null,
            "grid_auto_rows": null,
            "grid_column": null,
            "grid_gap": null,
            "grid_row": null,
            "grid_template_areas": null,
            "grid_template_columns": null,
            "grid_template_rows": null,
            "height": null,
            "justify_content": null,
            "justify_items": null,
            "left": null,
            "margin": null,
            "max_height": null,
            "max_width": null,
            "min_height": null,
            "min_width": null,
            "object_fit": null,
            "object_position": null,
            "order": null,
            "overflow": null,
            "overflow_x": null,
            "overflow_y": null,
            "padding": null,
            "right": null,
            "top": null,
            "visibility": null,
            "width": null
          }
        },
        "f62efd2be1e3424fbf23533179247730": {
          "model_module": "@jupyter-widgets/controls",
          "model_name": "DescriptionStyleModel",
          "model_module_version": "1.5.0",
          "state": {
            "_model_module": "@jupyter-widgets/controls",
            "_model_module_version": "1.5.0",
            "_model_name": "DescriptionStyleModel",
            "_view_count": null,
            "_view_module": "@jupyter-widgets/base",
            "_view_module_version": "1.2.0",
            "_view_name": "StyleView",
            "description_width": ""
          }
        },
        "a992ddaddad64eff8d56c8d51d19c5ce": {
          "model_module": "@jupyter-widgets/controls",
          "model_name": "HBoxModel",
          "model_module_version": "1.5.0",
          "state": {
            "_dom_classes": [],
            "_model_module": "@jupyter-widgets/controls",
            "_model_module_version": "1.5.0",
            "_model_name": "HBoxModel",
            "_view_count": null,
            "_view_module": "@jupyter-widgets/controls",
            "_view_module_version": "1.5.0",
            "_view_name": "HBoxView",
            "box_style": "",
            "children": [
              "IPY_MODEL_e47588f529dc4d638fd69f23ad45576f",
              "IPY_MODEL_291d3c78bbdb4168a167b9b0638f34c5",
              "IPY_MODEL_02aa714fd94149c8abc33065bc296f0d"
            ],
            "layout": "IPY_MODEL_d9fe5b81e8794ae787ed9dc15b6ef2e8"
          }
        },
        "e47588f529dc4d638fd69f23ad45576f": {
          "model_module": "@jupyter-widgets/controls",
          "model_name": "HTMLModel",
          "model_module_version": "1.5.0",
          "state": {
            "_dom_classes": [],
            "_model_module": "@jupyter-widgets/controls",
            "_model_module_version": "1.5.0",
            "_model_name": "HTMLModel",
            "_view_count": null,
            "_view_module": "@jupyter-widgets/controls",
            "_view_module_version": "1.5.0",
            "_view_name": "HTMLView",
            "description": "",
            "description_tooltip": null,
            "layout": "IPY_MODEL_a1666952911c4340bd28157e50220bce",
            "placeholder": "​",
            "style": "IPY_MODEL_6f7a7df000a04d00b1625f9a921857d3",
            "value": "vocab.json: 100%"
          }
        },
        "291d3c78bbdb4168a167b9b0638f34c5": {
          "model_module": "@jupyter-widgets/controls",
          "model_name": "FloatProgressModel",
          "model_module_version": "1.5.0",
          "state": {
            "_dom_classes": [],
            "_model_module": "@jupyter-widgets/controls",
            "_model_module_version": "1.5.0",
            "_model_name": "FloatProgressModel",
            "_view_count": null,
            "_view_module": "@jupyter-widgets/controls",
            "_view_module_version": "1.5.0",
            "_view_name": "ProgressView",
            "bar_style": "success",
            "description": "",
            "description_tooltip": null,
            "layout": "IPY_MODEL_a21ecb05a2fa47d297440178790b0008",
            "max": 798156,
            "min": 0,
            "orientation": "horizontal",
            "style": "IPY_MODEL_84d036dea8df41a79b2a15290bff5192",
            "value": 798156
          }
        },
        "02aa714fd94149c8abc33065bc296f0d": {
          "model_module": "@jupyter-widgets/controls",
          "model_name": "HTMLModel",
          "model_module_version": "1.5.0",
          "state": {
            "_dom_classes": [],
            "_model_module": "@jupyter-widgets/controls",
            "_model_module_version": "1.5.0",
            "_model_name": "HTMLModel",
            "_view_count": null,
            "_view_module": "@jupyter-widgets/controls",
            "_view_module_version": "1.5.0",
            "_view_name": "HTMLView",
            "description": "",
            "description_tooltip": null,
            "layout": "IPY_MODEL_4df9b9279a61458fb866976b24758183",
            "placeholder": "​",
            "style": "IPY_MODEL_8d36b0d69b0c42be9ca77f6fce29e687",
            "value": " 798k/798k [00:00&lt;00:00, 1.19MB/s]"
          }
        },
        "d9fe5b81e8794ae787ed9dc15b6ef2e8": {
          "model_module": "@jupyter-widgets/base",
          "model_name": "LayoutModel",
          "model_module_version": "1.2.0",
          "state": {
            "_model_module": "@jupyter-widgets/base",
            "_model_module_version": "1.2.0",
            "_model_name": "LayoutModel",
            "_view_count": null,
            "_view_module": "@jupyter-widgets/base",
            "_view_module_version": "1.2.0",
            "_view_name": "LayoutView",
            "align_content": null,
            "align_items": null,
            "align_self": null,
            "border": null,
            "bottom": null,
            "display": null,
            "flex": null,
            "flex_flow": null,
            "grid_area": null,
            "grid_auto_columns": null,
            "grid_auto_flow": null,
            "grid_auto_rows": null,
            "grid_column": null,
            "grid_gap": null,
            "grid_row": null,
            "grid_template_areas": null,
            "grid_template_columns": null,
            "grid_template_rows": null,
            "height": null,
            "justify_content": null,
            "justify_items": null,
            "left": null,
            "margin": null,
            "max_height": null,
            "max_width": null,
            "min_height": null,
            "min_width": null,
            "object_fit": null,
            "object_position": null,
            "order": null,
            "overflow": null,
            "overflow_x": null,
            "overflow_y": null,
            "padding": null,
            "right": null,
            "top": null,
            "visibility": null,
            "width": null
          }
        },
        "a1666952911c4340bd28157e50220bce": {
          "model_module": "@jupyter-widgets/base",
          "model_name": "LayoutModel",
          "model_module_version": "1.2.0",
          "state": {
            "_model_module": "@jupyter-widgets/base",
            "_model_module_version": "1.2.0",
            "_model_name": "LayoutModel",
            "_view_count": null,
            "_view_module": "@jupyter-widgets/base",
            "_view_module_version": "1.2.0",
            "_view_name": "LayoutView",
            "align_content": null,
            "align_items": null,
            "align_self": null,
            "border": null,
            "bottom": null,
            "display": null,
            "flex": null,
            "flex_flow": null,
            "grid_area": null,
            "grid_auto_columns": null,
            "grid_auto_flow": null,
            "grid_auto_rows": null,
            "grid_column": null,
            "grid_gap": null,
            "grid_row": null,
            "grid_template_areas": null,
            "grid_template_columns": null,
            "grid_template_rows": null,
            "height": null,
            "justify_content": null,
            "justify_items": null,
            "left": null,
            "margin": null,
            "max_height": null,
            "max_width": null,
            "min_height": null,
            "min_width": null,
            "object_fit": null,
            "object_position": null,
            "order": null,
            "overflow": null,
            "overflow_x": null,
            "overflow_y": null,
            "padding": null,
            "right": null,
            "top": null,
            "visibility": null,
            "width": null
          }
        },
        "6f7a7df000a04d00b1625f9a921857d3": {
          "model_module": "@jupyter-widgets/controls",
          "model_name": "DescriptionStyleModel",
          "model_module_version": "1.5.0",
          "state": {
            "_model_module": "@jupyter-widgets/controls",
            "_model_module_version": "1.5.0",
            "_model_name": "DescriptionStyleModel",
            "_view_count": null,
            "_view_module": "@jupyter-widgets/base",
            "_view_module_version": "1.2.0",
            "_view_name": "StyleView",
            "description_width": ""
          }
        },
        "a21ecb05a2fa47d297440178790b0008": {
          "model_module": "@jupyter-widgets/base",
          "model_name": "LayoutModel",
          "model_module_version": "1.2.0",
          "state": {
            "_model_module": "@jupyter-widgets/base",
            "_model_module_version": "1.2.0",
            "_model_name": "LayoutModel",
            "_view_count": null,
            "_view_module": "@jupyter-widgets/base",
            "_view_module_version": "1.2.0",
            "_view_name": "LayoutView",
            "align_content": null,
            "align_items": null,
            "align_self": null,
            "border": null,
            "bottom": null,
            "display": null,
            "flex": null,
            "flex_flow": null,
            "grid_area": null,
            "grid_auto_columns": null,
            "grid_auto_flow": null,
            "grid_auto_rows": null,
            "grid_column": null,
            "grid_gap": null,
            "grid_row": null,
            "grid_template_areas": null,
            "grid_template_columns": null,
            "grid_template_rows": null,
            "height": null,
            "justify_content": null,
            "justify_items": null,
            "left": null,
            "margin": null,
            "max_height": null,
            "max_width": null,
            "min_height": null,
            "min_width": null,
            "object_fit": null,
            "object_position": null,
            "order": null,
            "overflow": null,
            "overflow_x": null,
            "overflow_y": null,
            "padding": null,
            "right": null,
            "top": null,
            "visibility": null,
            "width": null
          }
        },
        "84d036dea8df41a79b2a15290bff5192": {
          "model_module": "@jupyter-widgets/controls",
          "model_name": "ProgressStyleModel",
          "model_module_version": "1.5.0",
          "state": {
            "_model_module": "@jupyter-widgets/controls",
            "_model_module_version": "1.5.0",
            "_model_name": "ProgressStyleModel",
            "_view_count": null,
            "_view_module": "@jupyter-widgets/base",
            "_view_module_version": "1.2.0",
            "_view_name": "StyleView",
            "bar_color": null,
            "description_width": ""
          }
        },
        "4df9b9279a61458fb866976b24758183": {
          "model_module": "@jupyter-widgets/base",
          "model_name": "LayoutModel",
          "model_module_version": "1.2.0",
          "state": {
            "_model_module": "@jupyter-widgets/base",
            "_model_module_version": "1.2.0",
            "_model_name": "LayoutModel",
            "_view_count": null,
            "_view_module": "@jupyter-widgets/base",
            "_view_module_version": "1.2.0",
            "_view_name": "LayoutView",
            "align_content": null,
            "align_items": null,
            "align_self": null,
            "border": null,
            "bottom": null,
            "display": null,
            "flex": null,
            "flex_flow": null,
            "grid_area": null,
            "grid_auto_columns": null,
            "grid_auto_flow": null,
            "grid_auto_rows": null,
            "grid_column": null,
            "grid_gap": null,
            "grid_row": null,
            "grid_template_areas": null,
            "grid_template_columns": null,
            "grid_template_rows": null,
            "height": null,
            "justify_content": null,
            "justify_items": null,
            "left": null,
            "margin": null,
            "max_height": null,
            "max_width": null,
            "min_height": null,
            "min_width": null,
            "object_fit": null,
            "object_position": null,
            "order": null,
            "overflow": null,
            "overflow_x": null,
            "overflow_y": null,
            "padding": null,
            "right": null,
            "top": null,
            "visibility": null,
            "width": null
          }
        },
        "8d36b0d69b0c42be9ca77f6fce29e687": {
          "model_module": "@jupyter-widgets/controls",
          "model_name": "DescriptionStyleModel",
          "model_module_version": "1.5.0",
          "state": {
            "_model_module": "@jupyter-widgets/controls",
            "_model_module_version": "1.5.0",
            "_model_name": "DescriptionStyleModel",
            "_view_count": null,
            "_view_module": "@jupyter-widgets/base",
            "_view_module_version": "1.2.0",
            "_view_name": "StyleView",
            "description_width": ""
          }
        },
        "0fcdcb35e7c749c3ba96bb36560c3b88": {
          "model_module": "@jupyter-widgets/controls",
          "model_name": "HBoxModel",
          "model_module_version": "1.5.0",
          "state": {
            "_dom_classes": [],
            "_model_module": "@jupyter-widgets/controls",
            "_model_module_version": "1.5.0",
            "_model_name": "HBoxModel",
            "_view_count": null,
            "_view_module": "@jupyter-widgets/controls",
            "_view_module_version": "1.5.0",
            "_view_name": "HBoxView",
            "box_style": "",
            "children": [
              "IPY_MODEL_f0cf3ea982b744deb69536d2bdd86ee3",
              "IPY_MODEL_b2797c497d784af69c3b289b14e81e6e",
              "IPY_MODEL_ecc5f5edb524431b9820a2b85a0775a2"
            ],
            "layout": "IPY_MODEL_df5d648ded1249159469595abeaf8b3b"
          }
        },
        "f0cf3ea982b744deb69536d2bdd86ee3": {
          "model_module": "@jupyter-widgets/controls",
          "model_name": "HTMLModel",
          "model_module_version": "1.5.0",
          "state": {
            "_dom_classes": [],
            "_model_module": "@jupyter-widgets/controls",
            "_model_module_version": "1.5.0",
            "_model_name": "HTMLModel",
            "_view_count": null,
            "_view_module": "@jupyter-widgets/controls",
            "_view_module_version": "1.5.0",
            "_view_name": "HTMLView",
            "description": "",
            "description_tooltip": null,
            "layout": "IPY_MODEL_be0391b69f324f87873a624896f544de",
            "placeholder": "​",
            "style": "IPY_MODEL_e0921c740715406492f174f656b6cbc6",
            "value": "merges.txt: 100%"
          }
        },
        "b2797c497d784af69c3b289b14e81e6e": {
          "model_module": "@jupyter-widgets/controls",
          "model_name": "FloatProgressModel",
          "model_module_version": "1.5.0",
          "state": {
            "_dom_classes": [],
            "_model_module": "@jupyter-widgets/controls",
            "_model_module_version": "1.5.0",
            "_model_name": "FloatProgressModel",
            "_view_count": null,
            "_view_module": "@jupyter-widgets/controls",
            "_view_module_version": "1.5.0",
            "_view_name": "ProgressView",
            "bar_style": "success",
            "description": "",
            "description_tooltip": null,
            "layout": "IPY_MODEL_431759e5fb89425c889942d00d12a728",
            "max": 456318,
            "min": 0,
            "orientation": "horizontal",
            "style": "IPY_MODEL_11460436e48841e39a549cc68a7920c0",
            "value": 456318
          }
        },
        "ecc5f5edb524431b9820a2b85a0775a2": {
          "model_module": "@jupyter-widgets/controls",
          "model_name": "HTMLModel",
          "model_module_version": "1.5.0",
          "state": {
            "_dom_classes": [],
            "_model_module": "@jupyter-widgets/controls",
            "_model_module_version": "1.5.0",
            "_model_name": "HTMLModel",
            "_view_count": null,
            "_view_module": "@jupyter-widgets/controls",
            "_view_module_version": "1.5.0",
            "_view_name": "HTMLView",
            "description": "",
            "description_tooltip": null,
            "layout": "IPY_MODEL_10160739aa7846f2880a3f3b214c0ddd",
            "placeholder": "​",
            "style": "IPY_MODEL_886e5eba86e049b28ea08ab716b4a974",
            "value": " 456k/456k [00:00&lt;00:00, 1.06MB/s]"
          }
        },
        "df5d648ded1249159469595abeaf8b3b": {
          "model_module": "@jupyter-widgets/base",
          "model_name": "LayoutModel",
          "model_module_version": "1.2.0",
          "state": {
            "_model_module": "@jupyter-widgets/base",
            "_model_module_version": "1.2.0",
            "_model_name": "LayoutModel",
            "_view_count": null,
            "_view_module": "@jupyter-widgets/base",
            "_view_module_version": "1.2.0",
            "_view_name": "LayoutView",
            "align_content": null,
            "align_items": null,
            "align_self": null,
            "border": null,
            "bottom": null,
            "display": null,
            "flex": null,
            "flex_flow": null,
            "grid_area": null,
            "grid_auto_columns": null,
            "grid_auto_flow": null,
            "grid_auto_rows": null,
            "grid_column": null,
            "grid_gap": null,
            "grid_row": null,
            "grid_template_areas": null,
            "grid_template_columns": null,
            "grid_template_rows": null,
            "height": null,
            "justify_content": null,
            "justify_items": null,
            "left": null,
            "margin": null,
            "max_height": null,
            "max_width": null,
            "min_height": null,
            "min_width": null,
            "object_fit": null,
            "object_position": null,
            "order": null,
            "overflow": null,
            "overflow_x": null,
            "overflow_y": null,
            "padding": null,
            "right": null,
            "top": null,
            "visibility": null,
            "width": null
          }
        },
        "be0391b69f324f87873a624896f544de": {
          "model_module": "@jupyter-widgets/base",
          "model_name": "LayoutModel",
          "model_module_version": "1.2.0",
          "state": {
            "_model_module": "@jupyter-widgets/base",
            "_model_module_version": "1.2.0",
            "_model_name": "LayoutModel",
            "_view_count": null,
            "_view_module": "@jupyter-widgets/base",
            "_view_module_version": "1.2.0",
            "_view_name": "LayoutView",
            "align_content": null,
            "align_items": null,
            "align_self": null,
            "border": null,
            "bottom": null,
            "display": null,
            "flex": null,
            "flex_flow": null,
            "grid_area": null,
            "grid_auto_columns": null,
            "grid_auto_flow": null,
            "grid_auto_rows": null,
            "grid_column": null,
            "grid_gap": null,
            "grid_row": null,
            "grid_template_areas": null,
            "grid_template_columns": null,
            "grid_template_rows": null,
            "height": null,
            "justify_content": null,
            "justify_items": null,
            "left": null,
            "margin": null,
            "max_height": null,
            "max_width": null,
            "min_height": null,
            "min_width": null,
            "object_fit": null,
            "object_position": null,
            "order": null,
            "overflow": null,
            "overflow_x": null,
            "overflow_y": null,
            "padding": null,
            "right": null,
            "top": null,
            "visibility": null,
            "width": null
          }
        },
        "e0921c740715406492f174f656b6cbc6": {
          "model_module": "@jupyter-widgets/controls",
          "model_name": "DescriptionStyleModel",
          "model_module_version": "1.5.0",
          "state": {
            "_model_module": "@jupyter-widgets/controls",
            "_model_module_version": "1.5.0",
            "_model_name": "DescriptionStyleModel",
            "_view_count": null,
            "_view_module": "@jupyter-widgets/base",
            "_view_module_version": "1.2.0",
            "_view_name": "StyleView",
            "description_width": ""
          }
        },
        "431759e5fb89425c889942d00d12a728": {
          "model_module": "@jupyter-widgets/base",
          "model_name": "LayoutModel",
          "model_module_version": "1.2.0",
          "state": {
            "_model_module": "@jupyter-widgets/base",
            "_model_module_version": "1.2.0",
            "_model_name": "LayoutModel",
            "_view_count": null,
            "_view_module": "@jupyter-widgets/base",
            "_view_module_version": "1.2.0",
            "_view_name": "LayoutView",
            "align_content": null,
            "align_items": null,
            "align_self": null,
            "border": null,
            "bottom": null,
            "display": null,
            "flex": null,
            "flex_flow": null,
            "grid_area": null,
            "grid_auto_columns": null,
            "grid_auto_flow": null,
            "grid_auto_rows": null,
            "grid_column": null,
            "grid_gap": null,
            "grid_row": null,
            "grid_template_areas": null,
            "grid_template_columns": null,
            "grid_template_rows": null,
            "height": null,
            "justify_content": null,
            "justify_items": null,
            "left": null,
            "margin": null,
            "max_height": null,
            "max_width": null,
            "min_height": null,
            "min_width": null,
            "object_fit": null,
            "object_position": null,
            "order": null,
            "overflow": null,
            "overflow_x": null,
            "overflow_y": null,
            "padding": null,
            "right": null,
            "top": null,
            "visibility": null,
            "width": null
          }
        },
        "11460436e48841e39a549cc68a7920c0": {
          "model_module": "@jupyter-widgets/controls",
          "model_name": "ProgressStyleModel",
          "model_module_version": "1.5.0",
          "state": {
            "_model_module": "@jupyter-widgets/controls",
            "_model_module_version": "1.5.0",
            "_model_name": "ProgressStyleModel",
            "_view_count": null,
            "_view_module": "@jupyter-widgets/base",
            "_view_module_version": "1.2.0",
            "_view_name": "StyleView",
            "bar_color": null,
            "description_width": ""
          }
        },
        "10160739aa7846f2880a3f3b214c0ddd": {
          "model_module": "@jupyter-widgets/base",
          "model_name": "LayoutModel",
          "model_module_version": "1.2.0",
          "state": {
            "_model_module": "@jupyter-widgets/base",
            "_model_module_version": "1.2.0",
            "_model_name": "LayoutModel",
            "_view_count": null,
            "_view_module": "@jupyter-widgets/base",
            "_view_module_version": "1.2.0",
            "_view_name": "LayoutView",
            "align_content": null,
            "align_items": null,
            "align_self": null,
            "border": null,
            "bottom": null,
            "display": null,
            "flex": null,
            "flex_flow": null,
            "grid_area": null,
            "grid_auto_columns": null,
            "grid_auto_flow": null,
            "grid_auto_rows": null,
            "grid_column": null,
            "grid_gap": null,
            "grid_row": null,
            "grid_template_areas": null,
            "grid_template_columns": null,
            "grid_template_rows": null,
            "height": null,
            "justify_content": null,
            "justify_items": null,
            "left": null,
            "margin": null,
            "max_height": null,
            "max_width": null,
            "min_height": null,
            "min_width": null,
            "object_fit": null,
            "object_position": null,
            "order": null,
            "overflow": null,
            "overflow_x": null,
            "overflow_y": null,
            "padding": null,
            "right": null,
            "top": null,
            "visibility": null,
            "width": null
          }
        },
        "886e5eba86e049b28ea08ab716b4a974": {
          "model_module": "@jupyter-widgets/controls",
          "model_name": "DescriptionStyleModel",
          "model_module_version": "1.5.0",
          "state": {
            "_model_module": "@jupyter-widgets/controls",
            "_model_module_version": "1.5.0",
            "_model_name": "DescriptionStyleModel",
            "_view_count": null,
            "_view_module": "@jupyter-widgets/base",
            "_view_module_version": "1.2.0",
            "_view_name": "StyleView",
            "description_width": ""
          }
        },
        "b1d392ea3d4840d1866db73231d60f93": {
          "model_module": "@jupyter-widgets/controls",
          "model_name": "HBoxModel",
          "model_module_version": "1.5.0",
          "state": {
            "_dom_classes": [],
            "_model_module": "@jupyter-widgets/controls",
            "_model_module_version": "1.5.0",
            "_model_name": "HBoxModel",
            "_view_count": null,
            "_view_module": "@jupyter-widgets/controls",
            "_view_module_version": "1.5.0",
            "_view_name": "HBoxView",
            "box_style": "",
            "children": [
              "IPY_MODEL_f7809c06919c42e29c63e86a1c912ef8",
              "IPY_MODEL_e9839ed922334bda8c48ea8b2fb28319",
              "IPY_MODEL_20dbf68293424a2186c2ae792ec63805"
            ],
            "layout": "IPY_MODEL_2a6d2f42fba7410fa5b7e34df98d0422"
          }
        },
        "f7809c06919c42e29c63e86a1c912ef8": {
          "model_module": "@jupyter-widgets/controls",
          "model_name": "HTMLModel",
          "model_module_version": "1.5.0",
          "state": {
            "_dom_classes": [],
            "_model_module": "@jupyter-widgets/controls",
            "_model_module_version": "1.5.0",
            "_model_name": "HTMLModel",
            "_view_count": null,
            "_view_module": "@jupyter-widgets/controls",
            "_view_module_version": "1.5.0",
            "_view_name": "HTMLView",
            "description": "",
            "description_tooltip": null,
            "layout": "IPY_MODEL_124efcab46d74545b6e0a5e4744c8ff6",
            "placeholder": "​",
            "style": "IPY_MODEL_ce60a1405aea4b2a99512103dbb60dc9",
            "value": "tokenizer.json: 100%"
          }
        },
        "e9839ed922334bda8c48ea8b2fb28319": {
          "model_module": "@jupyter-widgets/controls",
          "model_name": "FloatProgressModel",
          "model_module_version": "1.5.0",
          "state": {
            "_dom_classes": [],
            "_model_module": "@jupyter-widgets/controls",
            "_model_module_version": "1.5.0",
            "_model_name": "FloatProgressModel",
            "_view_count": null,
            "_view_module": "@jupyter-widgets/controls",
            "_view_module_version": "1.5.0",
            "_view_name": "ProgressView",
            "bar_style": "success",
            "description": "",
            "description_tooltip": null,
            "layout": "IPY_MODEL_7681436d93b24fd9b6d9539ecdb6782f",
            "max": 2114924,
            "min": 0,
            "orientation": "horizontal",
            "style": "IPY_MODEL_69a8b15446d140aba24d77c283fe7d24",
            "value": 2114924
          }
        },
        "20dbf68293424a2186c2ae792ec63805": {
          "model_module": "@jupyter-widgets/controls",
          "model_name": "HTMLModel",
          "model_module_version": "1.5.0",
          "state": {
            "_dom_classes": [],
            "_model_module": "@jupyter-widgets/controls",
            "_model_module_version": "1.5.0",
            "_model_name": "HTMLModel",
            "_view_count": null,
            "_view_module": "@jupyter-widgets/controls",
            "_view_module_version": "1.5.0",
            "_view_name": "HTMLView",
            "description": "",
            "description_tooltip": null,
            "layout": "IPY_MODEL_be5cbb50292c412eaae3a39aafaac912",
            "placeholder": "​",
            "style": "IPY_MODEL_605188d505e04cde871d14085fa0792d",
            "value": " 2.11M/2.11M [00:01&lt;00:00, 1.58MB/s]"
          }
        },
        "2a6d2f42fba7410fa5b7e34df98d0422": {
          "model_module": "@jupyter-widgets/base",
          "model_name": "LayoutModel",
          "model_module_version": "1.2.0",
          "state": {
            "_model_module": "@jupyter-widgets/base",
            "_model_module_version": "1.2.0",
            "_model_name": "LayoutModel",
            "_view_count": null,
            "_view_module": "@jupyter-widgets/base",
            "_view_module_version": "1.2.0",
            "_view_name": "LayoutView",
            "align_content": null,
            "align_items": null,
            "align_self": null,
            "border": null,
            "bottom": null,
            "display": null,
            "flex": null,
            "flex_flow": null,
            "grid_area": null,
            "grid_auto_columns": null,
            "grid_auto_flow": null,
            "grid_auto_rows": null,
            "grid_column": null,
            "grid_gap": null,
            "grid_row": null,
            "grid_template_areas": null,
            "grid_template_columns": null,
            "grid_template_rows": null,
            "height": null,
            "justify_content": null,
            "justify_items": null,
            "left": null,
            "margin": null,
            "max_height": null,
            "max_width": null,
            "min_height": null,
            "min_width": null,
            "object_fit": null,
            "object_position": null,
            "order": null,
            "overflow": null,
            "overflow_x": null,
            "overflow_y": null,
            "padding": null,
            "right": null,
            "top": null,
            "visibility": null,
            "width": null
          }
        },
        "124efcab46d74545b6e0a5e4744c8ff6": {
          "model_module": "@jupyter-widgets/base",
          "model_name": "LayoutModel",
          "model_module_version": "1.2.0",
          "state": {
            "_model_module": "@jupyter-widgets/base",
            "_model_module_version": "1.2.0",
            "_model_name": "LayoutModel",
            "_view_count": null,
            "_view_module": "@jupyter-widgets/base",
            "_view_module_version": "1.2.0",
            "_view_name": "LayoutView",
            "align_content": null,
            "align_items": null,
            "align_self": null,
            "border": null,
            "bottom": null,
            "display": null,
            "flex": null,
            "flex_flow": null,
            "grid_area": null,
            "grid_auto_columns": null,
            "grid_auto_flow": null,
            "grid_auto_rows": null,
            "grid_column": null,
            "grid_gap": null,
            "grid_row": null,
            "grid_template_areas": null,
            "grid_template_columns": null,
            "grid_template_rows": null,
            "height": null,
            "justify_content": null,
            "justify_items": null,
            "left": null,
            "margin": null,
            "max_height": null,
            "max_width": null,
            "min_height": null,
            "min_width": null,
            "object_fit": null,
            "object_position": null,
            "order": null,
            "overflow": null,
            "overflow_x": null,
            "overflow_y": null,
            "padding": null,
            "right": null,
            "top": null,
            "visibility": null,
            "width": null
          }
        },
        "ce60a1405aea4b2a99512103dbb60dc9": {
          "model_module": "@jupyter-widgets/controls",
          "model_name": "DescriptionStyleModel",
          "model_module_version": "1.5.0",
          "state": {
            "_model_module": "@jupyter-widgets/controls",
            "_model_module_version": "1.5.0",
            "_model_name": "DescriptionStyleModel",
            "_view_count": null,
            "_view_module": "@jupyter-widgets/base",
            "_view_module_version": "1.2.0",
            "_view_name": "StyleView",
            "description_width": ""
          }
        },
        "7681436d93b24fd9b6d9539ecdb6782f": {
          "model_module": "@jupyter-widgets/base",
          "model_name": "LayoutModel",
          "model_module_version": "1.2.0",
          "state": {
            "_model_module": "@jupyter-widgets/base",
            "_model_module_version": "1.2.0",
            "_model_name": "LayoutModel",
            "_view_count": null,
            "_view_module": "@jupyter-widgets/base",
            "_view_module_version": "1.2.0",
            "_view_name": "LayoutView",
            "align_content": null,
            "align_items": null,
            "align_self": null,
            "border": null,
            "bottom": null,
            "display": null,
            "flex": null,
            "flex_flow": null,
            "grid_area": null,
            "grid_auto_columns": null,
            "grid_auto_flow": null,
            "grid_auto_rows": null,
            "grid_column": null,
            "grid_gap": null,
            "grid_row": null,
            "grid_template_areas": null,
            "grid_template_columns": null,
            "grid_template_rows": null,
            "height": null,
            "justify_content": null,
            "justify_items": null,
            "left": null,
            "margin": null,
            "max_height": null,
            "max_width": null,
            "min_height": null,
            "min_width": null,
            "object_fit": null,
            "object_position": null,
            "order": null,
            "overflow": null,
            "overflow_x": null,
            "overflow_y": null,
            "padding": null,
            "right": null,
            "top": null,
            "visibility": null,
            "width": null
          }
        },
        "69a8b15446d140aba24d77c283fe7d24": {
          "model_module": "@jupyter-widgets/controls",
          "model_name": "ProgressStyleModel",
          "model_module_version": "1.5.0",
          "state": {
            "_model_module": "@jupyter-widgets/controls",
            "_model_module_version": "1.5.0",
            "_model_name": "ProgressStyleModel",
            "_view_count": null,
            "_view_module": "@jupyter-widgets/base",
            "_view_module_version": "1.2.0",
            "_view_name": "StyleView",
            "bar_color": null,
            "description_width": ""
          }
        },
        "be5cbb50292c412eaae3a39aafaac912": {
          "model_module": "@jupyter-widgets/base",
          "model_name": "LayoutModel",
          "model_module_version": "1.2.0",
          "state": {
            "_model_module": "@jupyter-widgets/base",
            "_model_module_version": "1.2.0",
            "_model_name": "LayoutModel",
            "_view_count": null,
            "_view_module": "@jupyter-widgets/base",
            "_view_module_version": "1.2.0",
            "_view_name": "LayoutView",
            "align_content": null,
            "align_items": null,
            "align_self": null,
            "border": null,
            "bottom": null,
            "display": null,
            "flex": null,
            "flex_flow": null,
            "grid_area": null,
            "grid_auto_columns": null,
            "grid_auto_flow": null,
            "grid_auto_rows": null,
            "grid_column": null,
            "grid_gap": null,
            "grid_row": null,
            "grid_template_areas": null,
            "grid_template_columns": null,
            "grid_template_rows": null,
            "height": null,
            "justify_content": null,
            "justify_items": null,
            "left": null,
            "margin": null,
            "max_height": null,
            "max_width": null,
            "min_height": null,
            "min_width": null,
            "object_fit": null,
            "object_position": null,
            "order": null,
            "overflow": null,
            "overflow_x": null,
            "overflow_y": null,
            "padding": null,
            "right": null,
            "top": null,
            "visibility": null,
            "width": null
          }
        },
        "605188d505e04cde871d14085fa0792d": {
          "model_module": "@jupyter-widgets/controls",
          "model_name": "DescriptionStyleModel",
          "model_module_version": "1.5.0",
          "state": {
            "_model_module": "@jupyter-widgets/controls",
            "_model_module_version": "1.5.0",
            "_model_name": "DescriptionStyleModel",
            "_view_count": null,
            "_view_module": "@jupyter-widgets/base",
            "_view_module_version": "1.2.0",
            "_view_name": "StyleView",
            "description_width": ""
          }
        },
        "f9c9366e6c4a4ab38a21d3963e8b919e": {
          "model_module": "@jupyter-widgets/controls",
          "model_name": "HBoxModel",
          "model_module_version": "1.5.0",
          "state": {
            "_dom_classes": [],
            "_model_module": "@jupyter-widgets/controls",
            "_model_module_version": "1.5.0",
            "_model_name": "HBoxModel",
            "_view_count": null,
            "_view_module": "@jupyter-widgets/controls",
            "_view_module_version": "1.5.0",
            "_view_name": "HBoxView",
            "box_style": "",
            "children": [
              "IPY_MODEL_624d79cb693a4a81accc3479165d297d",
              "IPY_MODEL_353fb57f1c3c43a08a83f83165d33f82",
              "IPY_MODEL_1120d82513534f79b95d60f7e1c50f23"
            ],
            "layout": "IPY_MODEL_ebcb9d068b4247f8a2c5fe55fe147aa7"
          }
        },
        "624d79cb693a4a81accc3479165d297d": {
          "model_module": "@jupyter-widgets/controls",
          "model_name": "HTMLModel",
          "model_module_version": "1.5.0",
          "state": {
            "_dom_classes": [],
            "_model_module": "@jupyter-widgets/controls",
            "_model_module_version": "1.5.0",
            "_model_name": "HTMLModel",
            "_view_count": null,
            "_view_module": "@jupyter-widgets/controls",
            "_view_module_version": "1.5.0",
            "_view_name": "HTMLView",
            "description": "",
            "description_tooltip": null,
            "layout": "IPY_MODEL_1239b7d8ab954633bbb6571943932ddb",
            "placeholder": "​",
            "style": "IPY_MODEL_a407952677bd415eb6c568be4e45bc9e",
            "value": "added_tokens.json: 100%"
          }
        },
        "353fb57f1c3c43a08a83f83165d33f82": {
          "model_module": "@jupyter-widgets/controls",
          "model_name": "FloatProgressModel",
          "model_module_version": "1.5.0",
          "state": {
            "_dom_classes": [],
            "_model_module": "@jupyter-widgets/controls",
            "_model_module_version": "1.5.0",
            "_model_name": "FloatProgressModel",
            "_view_count": null,
            "_view_module": "@jupyter-widgets/controls",
            "_view_module_version": "1.5.0",
            "_view_name": "ProgressView",
            "bar_style": "success",
            "description": "",
            "description_tooltip": null,
            "layout": "IPY_MODEL_a8509af6e1524f818e66c24553e00bb1",
            "max": 1080,
            "min": 0,
            "orientation": "horizontal",
            "style": "IPY_MODEL_a6d475eaf8774eeb8d6c56d4d5ce949f",
            "value": 1080
          }
        },
        "1120d82513534f79b95d60f7e1c50f23": {
          "model_module": "@jupyter-widgets/controls",
          "model_name": "HTMLModel",
          "model_module_version": "1.5.0",
          "state": {
            "_dom_classes": [],
            "_model_module": "@jupyter-widgets/controls",
            "_model_module_version": "1.5.0",
            "_model_name": "HTMLModel",
            "_view_count": null,
            "_view_module": "@jupyter-widgets/controls",
            "_view_module_version": "1.5.0",
            "_view_name": "HTMLView",
            "description": "",
            "description_tooltip": null,
            "layout": "IPY_MODEL_79d6b8d25f314ba288463b1fbca21247",
            "placeholder": "​",
            "style": "IPY_MODEL_02839a042af54eff8d5ca247ef929d8e",
            "value": " 1.08k/1.08k [00:00&lt;00:00, 107kB/s]"
          }
        },
        "ebcb9d068b4247f8a2c5fe55fe147aa7": {
          "model_module": "@jupyter-widgets/base",
          "model_name": "LayoutModel",
          "model_module_version": "1.2.0",
          "state": {
            "_model_module": "@jupyter-widgets/base",
            "_model_module_version": "1.2.0",
            "_model_name": "LayoutModel",
            "_view_count": null,
            "_view_module": "@jupyter-widgets/base",
            "_view_module_version": "1.2.0",
            "_view_name": "LayoutView",
            "align_content": null,
            "align_items": null,
            "align_self": null,
            "border": null,
            "bottom": null,
            "display": null,
            "flex": null,
            "flex_flow": null,
            "grid_area": null,
            "grid_auto_columns": null,
            "grid_auto_flow": null,
            "grid_auto_rows": null,
            "grid_column": null,
            "grid_gap": null,
            "grid_row": null,
            "grid_template_areas": null,
            "grid_template_columns": null,
            "grid_template_rows": null,
            "height": null,
            "justify_content": null,
            "justify_items": null,
            "left": null,
            "margin": null,
            "max_height": null,
            "max_width": null,
            "min_height": null,
            "min_width": null,
            "object_fit": null,
            "object_position": null,
            "order": null,
            "overflow": null,
            "overflow_x": null,
            "overflow_y": null,
            "padding": null,
            "right": null,
            "top": null,
            "visibility": null,
            "width": null
          }
        },
        "1239b7d8ab954633bbb6571943932ddb": {
          "model_module": "@jupyter-widgets/base",
          "model_name": "LayoutModel",
          "model_module_version": "1.2.0",
          "state": {
            "_model_module": "@jupyter-widgets/base",
            "_model_module_version": "1.2.0",
            "_model_name": "LayoutModel",
            "_view_count": null,
            "_view_module": "@jupyter-widgets/base",
            "_view_module_version": "1.2.0",
            "_view_name": "LayoutView",
            "align_content": null,
            "align_items": null,
            "align_self": null,
            "border": null,
            "bottom": null,
            "display": null,
            "flex": null,
            "flex_flow": null,
            "grid_area": null,
            "grid_auto_columns": null,
            "grid_auto_flow": null,
            "grid_auto_rows": null,
            "grid_column": null,
            "grid_gap": null,
            "grid_row": null,
            "grid_template_areas": null,
            "grid_template_columns": null,
            "grid_template_rows": null,
            "height": null,
            "justify_content": null,
            "justify_items": null,
            "left": null,
            "margin": null,
            "max_height": null,
            "max_width": null,
            "min_height": null,
            "min_width": null,
            "object_fit": null,
            "object_position": null,
            "order": null,
            "overflow": null,
            "overflow_x": null,
            "overflow_y": null,
            "padding": null,
            "right": null,
            "top": null,
            "visibility": null,
            "width": null
          }
        },
        "a407952677bd415eb6c568be4e45bc9e": {
          "model_module": "@jupyter-widgets/controls",
          "model_name": "DescriptionStyleModel",
          "model_module_version": "1.5.0",
          "state": {
            "_model_module": "@jupyter-widgets/controls",
            "_model_module_version": "1.5.0",
            "_model_name": "DescriptionStyleModel",
            "_view_count": null,
            "_view_module": "@jupyter-widgets/base",
            "_view_module_version": "1.2.0",
            "_view_name": "StyleView",
            "description_width": ""
          }
        },
        "a8509af6e1524f818e66c24553e00bb1": {
          "model_module": "@jupyter-widgets/base",
          "model_name": "LayoutModel",
          "model_module_version": "1.2.0",
          "state": {
            "_model_module": "@jupyter-widgets/base",
            "_model_module_version": "1.2.0",
            "_model_name": "LayoutModel",
            "_view_count": null,
            "_view_module": "@jupyter-widgets/base",
            "_view_module_version": "1.2.0",
            "_view_name": "LayoutView",
            "align_content": null,
            "align_items": null,
            "align_self": null,
            "border": null,
            "bottom": null,
            "display": null,
            "flex": null,
            "flex_flow": null,
            "grid_area": null,
            "grid_auto_columns": null,
            "grid_auto_flow": null,
            "grid_auto_rows": null,
            "grid_column": null,
            "grid_gap": null,
            "grid_row": null,
            "grid_template_areas": null,
            "grid_template_columns": null,
            "grid_template_rows": null,
            "height": null,
            "justify_content": null,
            "justify_items": null,
            "left": null,
            "margin": null,
            "max_height": null,
            "max_width": null,
            "min_height": null,
            "min_width": null,
            "object_fit": null,
            "object_position": null,
            "order": null,
            "overflow": null,
            "overflow_x": null,
            "overflow_y": null,
            "padding": null,
            "right": null,
            "top": null,
            "visibility": null,
            "width": null
          }
        },
        "a6d475eaf8774eeb8d6c56d4d5ce949f": {
          "model_module": "@jupyter-widgets/controls",
          "model_name": "ProgressStyleModel",
          "model_module_version": "1.5.0",
          "state": {
            "_model_module": "@jupyter-widgets/controls",
            "_model_module_version": "1.5.0",
            "_model_name": "ProgressStyleModel",
            "_view_count": null,
            "_view_module": "@jupyter-widgets/base",
            "_view_module_version": "1.2.0",
            "_view_name": "StyleView",
            "bar_color": null,
            "description_width": ""
          }
        },
        "79d6b8d25f314ba288463b1fbca21247": {
          "model_module": "@jupyter-widgets/base",
          "model_name": "LayoutModel",
          "model_module_version": "1.2.0",
          "state": {
            "_model_module": "@jupyter-widgets/base",
            "_model_module_version": "1.2.0",
            "_model_name": "LayoutModel",
            "_view_count": null,
            "_view_module": "@jupyter-widgets/base",
            "_view_module_version": "1.2.0",
            "_view_name": "LayoutView",
            "align_content": null,
            "align_items": null,
            "align_self": null,
            "border": null,
            "bottom": null,
            "display": null,
            "flex": null,
            "flex_flow": null,
            "grid_area": null,
            "grid_auto_columns": null,
            "grid_auto_flow": null,
            "grid_auto_rows": null,
            "grid_column": null,
            "grid_gap": null,
            "grid_row": null,
            "grid_template_areas": null,
            "grid_template_columns": null,
            "grid_template_rows": null,
            "height": null,
            "justify_content": null,
            "justify_items": null,
            "left": null,
            "margin": null,
            "max_height": null,
            "max_width": null,
            "min_height": null,
            "min_width": null,
            "object_fit": null,
            "object_position": null,
            "order": null,
            "overflow": null,
            "overflow_x": null,
            "overflow_y": null,
            "padding": null,
            "right": null,
            "top": null,
            "visibility": null,
            "width": null
          }
        },
        "02839a042af54eff8d5ca247ef929d8e": {
          "model_module": "@jupyter-widgets/controls",
          "model_name": "DescriptionStyleModel",
          "model_module_version": "1.5.0",
          "state": {
            "_model_module": "@jupyter-widgets/controls",
            "_model_module_version": "1.5.0",
            "_model_name": "DescriptionStyleModel",
            "_view_count": null,
            "_view_module": "@jupyter-widgets/base",
            "_view_module_version": "1.2.0",
            "_view_name": "StyleView",
            "description_width": ""
          }
        },
        "a87d6e7daf104d5ab00fda3f3e11a339": {
          "model_module": "@jupyter-widgets/controls",
          "model_name": "HBoxModel",
          "model_module_version": "1.5.0",
          "state": {
            "_dom_classes": [],
            "_model_module": "@jupyter-widgets/controls",
            "_model_module_version": "1.5.0",
            "_model_name": "HBoxModel",
            "_view_count": null,
            "_view_module": "@jupyter-widgets/controls",
            "_view_module_version": "1.5.0",
            "_view_name": "HBoxView",
            "box_style": "",
            "children": [
              "IPY_MODEL_c3e1fecc2c7e413ea2683cd992ecbbb0",
              "IPY_MODEL_8a99deb2a4e64eafa6048ff055405eef",
              "IPY_MODEL_282e16ea5edb40648f4ffa0f754e294a"
            ],
            "layout": "IPY_MODEL_fe170075522f478c906fcc084483c011"
          }
        },
        "c3e1fecc2c7e413ea2683cd992ecbbb0": {
          "model_module": "@jupyter-widgets/controls",
          "model_name": "HTMLModel",
          "model_module_version": "1.5.0",
          "state": {
            "_dom_classes": [],
            "_model_module": "@jupyter-widgets/controls",
            "_model_module_version": "1.5.0",
            "_model_name": "HTMLModel",
            "_view_count": null,
            "_view_module": "@jupyter-widgets/controls",
            "_view_module_version": "1.5.0",
            "_view_name": "HTMLView",
            "description": "",
            "description_tooltip": null,
            "layout": "IPY_MODEL_a5c773b4bf4f441babecdc3ed8df43f0",
            "placeholder": "​",
            "style": "IPY_MODEL_46deea5a425346408f3010ba26f0a49f",
            "value": "special_tokens_map.json: 100%"
          }
        },
        "8a99deb2a4e64eafa6048ff055405eef": {
          "model_module": "@jupyter-widgets/controls",
          "model_name": "FloatProgressModel",
          "model_module_version": "1.5.0",
          "state": {
            "_dom_classes": [],
            "_model_module": "@jupyter-widgets/controls",
            "_model_module_version": "1.5.0",
            "_model_name": "FloatProgressModel",
            "_view_count": null,
            "_view_module": "@jupyter-widgets/controls",
            "_view_module_version": "1.5.0",
            "_view_name": "ProgressView",
            "bar_style": "success",
            "description": "",
            "description_tooltip": null,
            "layout": "IPY_MODEL_c65bb3d814a444f2971ff9bd38a979c9",
            "max": 99,
            "min": 0,
            "orientation": "horizontal",
            "style": "IPY_MODEL_af846318f97646eeb72f61ee6b6e2f9f",
            "value": 99
          }
        },
        "282e16ea5edb40648f4ffa0f754e294a": {
          "model_module": "@jupyter-widgets/controls",
          "model_name": "HTMLModel",
          "model_module_version": "1.5.0",
          "state": {
            "_dom_classes": [],
            "_model_module": "@jupyter-widgets/controls",
            "_model_module_version": "1.5.0",
            "_model_name": "HTMLModel",
            "_view_count": null,
            "_view_module": "@jupyter-widgets/controls",
            "_view_module_version": "1.5.0",
            "_view_name": "HTMLView",
            "description": "",
            "description_tooltip": null,
            "layout": "IPY_MODEL_3f7c5489fe5f4b90bd0ffa73ef0c2ea6",
            "placeholder": "​",
            "style": "IPY_MODEL_27f1ed9af04b4f289b5e2eddbbbf48c2",
            "value": " 99.0/99.0 [00:00&lt;00:00, 11.1kB/s]"
          }
        },
        "fe170075522f478c906fcc084483c011": {
          "model_module": "@jupyter-widgets/base",
          "model_name": "LayoutModel",
          "model_module_version": "1.2.0",
          "state": {
            "_model_module": "@jupyter-widgets/base",
            "_model_module_version": "1.2.0",
            "_model_name": "LayoutModel",
            "_view_count": null,
            "_view_module": "@jupyter-widgets/base",
            "_view_module_version": "1.2.0",
            "_view_name": "LayoutView",
            "align_content": null,
            "align_items": null,
            "align_self": null,
            "border": null,
            "bottom": null,
            "display": null,
            "flex": null,
            "flex_flow": null,
            "grid_area": null,
            "grid_auto_columns": null,
            "grid_auto_flow": null,
            "grid_auto_rows": null,
            "grid_column": null,
            "grid_gap": null,
            "grid_row": null,
            "grid_template_areas": null,
            "grid_template_columns": null,
            "grid_template_rows": null,
            "height": null,
            "justify_content": null,
            "justify_items": null,
            "left": null,
            "margin": null,
            "max_height": null,
            "max_width": null,
            "min_height": null,
            "min_width": null,
            "object_fit": null,
            "object_position": null,
            "order": null,
            "overflow": null,
            "overflow_x": null,
            "overflow_y": null,
            "padding": null,
            "right": null,
            "top": null,
            "visibility": null,
            "width": null
          }
        },
        "a5c773b4bf4f441babecdc3ed8df43f0": {
          "model_module": "@jupyter-widgets/base",
          "model_name": "LayoutModel",
          "model_module_version": "1.2.0",
          "state": {
            "_model_module": "@jupyter-widgets/base",
            "_model_module_version": "1.2.0",
            "_model_name": "LayoutModel",
            "_view_count": null,
            "_view_module": "@jupyter-widgets/base",
            "_view_module_version": "1.2.0",
            "_view_name": "LayoutView",
            "align_content": null,
            "align_items": null,
            "align_self": null,
            "border": null,
            "bottom": null,
            "display": null,
            "flex": null,
            "flex_flow": null,
            "grid_area": null,
            "grid_auto_columns": null,
            "grid_auto_flow": null,
            "grid_auto_rows": null,
            "grid_column": null,
            "grid_gap": null,
            "grid_row": null,
            "grid_template_areas": null,
            "grid_template_columns": null,
            "grid_template_rows": null,
            "height": null,
            "justify_content": null,
            "justify_items": null,
            "left": null,
            "margin": null,
            "max_height": null,
            "max_width": null,
            "min_height": null,
            "min_width": null,
            "object_fit": null,
            "object_position": null,
            "order": null,
            "overflow": null,
            "overflow_x": null,
            "overflow_y": null,
            "padding": null,
            "right": null,
            "top": null,
            "visibility": null,
            "width": null
          }
        },
        "46deea5a425346408f3010ba26f0a49f": {
          "model_module": "@jupyter-widgets/controls",
          "model_name": "DescriptionStyleModel",
          "model_module_version": "1.5.0",
          "state": {
            "_model_module": "@jupyter-widgets/controls",
            "_model_module_version": "1.5.0",
            "_model_name": "DescriptionStyleModel",
            "_view_count": null,
            "_view_module": "@jupyter-widgets/base",
            "_view_module_version": "1.2.0",
            "_view_name": "StyleView",
            "description_width": ""
          }
        },
        "c65bb3d814a444f2971ff9bd38a979c9": {
          "model_module": "@jupyter-widgets/base",
          "model_name": "LayoutModel",
          "model_module_version": "1.2.0",
          "state": {
            "_model_module": "@jupyter-widgets/base",
            "_model_module_version": "1.2.0",
            "_model_name": "LayoutModel",
            "_view_count": null,
            "_view_module": "@jupyter-widgets/base",
            "_view_module_version": "1.2.0",
            "_view_name": "LayoutView",
            "align_content": null,
            "align_items": null,
            "align_self": null,
            "border": null,
            "bottom": null,
            "display": null,
            "flex": null,
            "flex_flow": null,
            "grid_area": null,
            "grid_auto_columns": null,
            "grid_auto_flow": null,
            "grid_auto_rows": null,
            "grid_column": null,
            "grid_gap": null,
            "grid_row": null,
            "grid_template_areas": null,
            "grid_template_columns": null,
            "grid_template_rows": null,
            "height": null,
            "justify_content": null,
            "justify_items": null,
            "left": null,
            "margin": null,
            "max_height": null,
            "max_width": null,
            "min_height": null,
            "min_width": null,
            "object_fit": null,
            "object_position": null,
            "order": null,
            "overflow": null,
            "overflow_x": null,
            "overflow_y": null,
            "padding": null,
            "right": null,
            "top": null,
            "visibility": null,
            "width": null
          }
        },
        "af846318f97646eeb72f61ee6b6e2f9f": {
          "model_module": "@jupyter-widgets/controls",
          "model_name": "ProgressStyleModel",
          "model_module_version": "1.5.0",
          "state": {
            "_model_module": "@jupyter-widgets/controls",
            "_model_module_version": "1.5.0",
            "_model_name": "ProgressStyleModel",
            "_view_count": null,
            "_view_module": "@jupyter-widgets/base",
            "_view_module_version": "1.2.0",
            "_view_name": "StyleView",
            "bar_color": null,
            "description_width": ""
          }
        },
        "3f7c5489fe5f4b90bd0ffa73ef0c2ea6": {
          "model_module": "@jupyter-widgets/base",
          "model_name": "LayoutModel",
          "model_module_version": "1.2.0",
          "state": {
            "_model_module": "@jupyter-widgets/base",
            "_model_module_version": "1.2.0",
            "_model_name": "LayoutModel",
            "_view_count": null,
            "_view_module": "@jupyter-widgets/base",
            "_view_module_version": "1.2.0",
            "_view_name": "LayoutView",
            "align_content": null,
            "align_items": null,
            "align_self": null,
            "border": null,
            "bottom": null,
            "display": null,
            "flex": null,
            "flex_flow": null,
            "grid_area": null,
            "grid_auto_columns": null,
            "grid_auto_flow": null,
            "grid_auto_rows": null,
            "grid_column": null,
            "grid_gap": null,
            "grid_row": null,
            "grid_template_areas": null,
            "grid_template_columns": null,
            "grid_template_rows": null,
            "height": null,
            "justify_content": null,
            "justify_items": null,
            "left": null,
            "margin": null,
            "max_height": null,
            "max_width": null,
            "min_height": null,
            "min_width": null,
            "object_fit": null,
            "object_position": null,
            "order": null,
            "overflow": null,
            "overflow_x": null,
            "overflow_y": null,
            "padding": null,
            "right": null,
            "top": null,
            "visibility": null,
            "width": null
          }
        },
        "27f1ed9af04b4f289b5e2eddbbbf48c2": {
          "model_module": "@jupyter-widgets/controls",
          "model_name": "DescriptionStyleModel",
          "model_module_version": "1.5.0",
          "state": {
            "_model_module": "@jupyter-widgets/controls",
            "_model_module_version": "1.5.0",
            "_model_name": "DescriptionStyleModel",
            "_view_count": null,
            "_view_module": "@jupyter-widgets/base",
            "_view_module_version": "1.2.0",
            "_view_name": "StyleView",
            "description_width": ""
          }
        },
        "be1e263c3c7b44a9b3ff5ae0acabeea1": {
          "model_module": "@jupyter-widgets/controls",
          "model_name": "HBoxModel",
          "model_module_version": "1.5.0",
          "state": {
            "_dom_classes": [],
            "_model_module": "@jupyter-widgets/controls",
            "_model_module_version": "1.5.0",
            "_model_name": "HBoxModel",
            "_view_count": null,
            "_view_module": "@jupyter-widgets/controls",
            "_view_module_version": "1.5.0",
            "_view_name": "HBoxView",
            "box_style": "",
            "children": [
              "IPY_MODEL_b0bd2c3970af4866aba1aa7b628d5d1a",
              "IPY_MODEL_efb9254be6044760865544e657d0ccbf",
              "IPY_MODEL_791ff87c4d95423f9e5f9209e661bfc7"
            ],
            "layout": "IPY_MODEL_4d833f3bc462412a89c25abd2e761938"
          }
        },
        "b0bd2c3970af4866aba1aa7b628d5d1a": {
          "model_module": "@jupyter-widgets/controls",
          "model_name": "HTMLModel",
          "model_module_version": "1.5.0",
          "state": {
            "_dom_classes": [],
            "_model_module": "@jupyter-widgets/controls",
            "_model_module_version": "1.5.0",
            "_model_name": "HTMLModel",
            "_view_count": null,
            "_view_module": "@jupyter-widgets/controls",
            "_view_module_version": "1.5.0",
            "_view_name": "HTMLView",
            "description": "",
            "description_tooltip": null,
            "layout": "IPY_MODEL_77565397402b4bc1be525724a12e63a7",
            "placeholder": "​",
            "style": "IPY_MODEL_3df6ed397b0f40de984cdae253000e7a",
            "value": "config.json: 100%"
          }
        },
        "efb9254be6044760865544e657d0ccbf": {
          "model_module": "@jupyter-widgets/controls",
          "model_name": "FloatProgressModel",
          "model_module_version": "1.5.0",
          "state": {
            "_dom_classes": [],
            "_model_module": "@jupyter-widgets/controls",
            "_model_module_version": "1.5.0",
            "_model_name": "FloatProgressModel",
            "_view_count": null,
            "_view_module": "@jupyter-widgets/controls",
            "_view_module_version": "1.5.0",
            "_view_name": "ProgressView",
            "bar_style": "success",
            "description": "",
            "description_tooltip": null,
            "layout": "IPY_MODEL_727af862c8cd43d4bad64e5ee026503d",
            "max": 735,
            "min": 0,
            "orientation": "horizontal",
            "style": "IPY_MODEL_9a6f8eb9d95d4a269146f49443e6a22d",
            "value": 735
          }
        },
        "791ff87c4d95423f9e5f9209e661bfc7": {
          "model_module": "@jupyter-widgets/controls",
          "model_name": "HTMLModel",
          "model_module_version": "1.5.0",
          "state": {
            "_dom_classes": [],
            "_model_module": "@jupyter-widgets/controls",
            "_model_module_version": "1.5.0",
            "_model_name": "HTMLModel",
            "_view_count": null,
            "_view_module": "@jupyter-widgets/controls",
            "_view_module_version": "1.5.0",
            "_view_name": "HTMLView",
            "description": "",
            "description_tooltip": null,
            "layout": "IPY_MODEL_b67c3b8c4a8b4fbabbb1d4857d588647",
            "placeholder": "​",
            "style": "IPY_MODEL_7f0ebcded5a742efae4aa86ccc91b442",
            "value": " 735/735 [00:00&lt;00:00, 64.1kB/s]"
          }
        },
        "4d833f3bc462412a89c25abd2e761938": {
          "model_module": "@jupyter-widgets/base",
          "model_name": "LayoutModel",
          "model_module_version": "1.2.0",
          "state": {
            "_model_module": "@jupyter-widgets/base",
            "_model_module_version": "1.2.0",
            "_model_name": "LayoutModel",
            "_view_count": null,
            "_view_module": "@jupyter-widgets/base",
            "_view_module_version": "1.2.0",
            "_view_name": "LayoutView",
            "align_content": null,
            "align_items": null,
            "align_self": null,
            "border": null,
            "bottom": null,
            "display": null,
            "flex": null,
            "flex_flow": null,
            "grid_area": null,
            "grid_auto_columns": null,
            "grid_auto_flow": null,
            "grid_auto_rows": null,
            "grid_column": null,
            "grid_gap": null,
            "grid_row": null,
            "grid_template_areas": null,
            "grid_template_columns": null,
            "grid_template_rows": null,
            "height": null,
            "justify_content": null,
            "justify_items": null,
            "left": null,
            "margin": null,
            "max_height": null,
            "max_width": null,
            "min_height": null,
            "min_width": null,
            "object_fit": null,
            "object_position": null,
            "order": null,
            "overflow": null,
            "overflow_x": null,
            "overflow_y": null,
            "padding": null,
            "right": null,
            "top": null,
            "visibility": null,
            "width": null
          }
        },
        "77565397402b4bc1be525724a12e63a7": {
          "model_module": "@jupyter-widgets/base",
          "model_name": "LayoutModel",
          "model_module_version": "1.2.0",
          "state": {
            "_model_module": "@jupyter-widgets/base",
            "_model_module_version": "1.2.0",
            "_model_name": "LayoutModel",
            "_view_count": null,
            "_view_module": "@jupyter-widgets/base",
            "_view_module_version": "1.2.0",
            "_view_name": "LayoutView",
            "align_content": null,
            "align_items": null,
            "align_self": null,
            "border": null,
            "bottom": null,
            "display": null,
            "flex": null,
            "flex_flow": null,
            "grid_area": null,
            "grid_auto_columns": null,
            "grid_auto_flow": null,
            "grid_auto_rows": null,
            "grid_column": null,
            "grid_gap": null,
            "grid_row": null,
            "grid_template_areas": null,
            "grid_template_columns": null,
            "grid_template_rows": null,
            "height": null,
            "justify_content": null,
            "justify_items": null,
            "left": null,
            "margin": null,
            "max_height": null,
            "max_width": null,
            "min_height": null,
            "min_width": null,
            "object_fit": null,
            "object_position": null,
            "order": null,
            "overflow": null,
            "overflow_x": null,
            "overflow_y": null,
            "padding": null,
            "right": null,
            "top": null,
            "visibility": null,
            "width": null
          }
        },
        "3df6ed397b0f40de984cdae253000e7a": {
          "model_module": "@jupyter-widgets/controls",
          "model_name": "DescriptionStyleModel",
          "model_module_version": "1.5.0",
          "state": {
            "_model_module": "@jupyter-widgets/controls",
            "_model_module_version": "1.5.0",
            "_model_name": "DescriptionStyleModel",
            "_view_count": null,
            "_view_module": "@jupyter-widgets/base",
            "_view_module_version": "1.2.0",
            "_view_name": "StyleView",
            "description_width": ""
          }
        },
        "727af862c8cd43d4bad64e5ee026503d": {
          "model_module": "@jupyter-widgets/base",
          "model_name": "LayoutModel",
          "model_module_version": "1.2.0",
          "state": {
            "_model_module": "@jupyter-widgets/base",
            "_model_module_version": "1.2.0",
            "_model_name": "LayoutModel",
            "_view_count": null,
            "_view_module": "@jupyter-widgets/base",
            "_view_module_version": "1.2.0",
            "_view_name": "LayoutView",
            "align_content": null,
            "align_items": null,
            "align_self": null,
            "border": null,
            "bottom": null,
            "display": null,
            "flex": null,
            "flex_flow": null,
            "grid_area": null,
            "grid_auto_columns": null,
            "grid_auto_flow": null,
            "grid_auto_rows": null,
            "grid_column": null,
            "grid_gap": null,
            "grid_row": null,
            "grid_template_areas": null,
            "grid_template_columns": null,
            "grid_template_rows": null,
            "height": null,
            "justify_content": null,
            "justify_items": null,
            "left": null,
            "margin": null,
            "max_height": null,
            "max_width": null,
            "min_height": null,
            "min_width": null,
            "object_fit": null,
            "object_position": null,
            "order": null,
            "overflow": null,
            "overflow_x": null,
            "overflow_y": null,
            "padding": null,
            "right": null,
            "top": null,
            "visibility": null,
            "width": null
          }
        },
        "9a6f8eb9d95d4a269146f49443e6a22d": {
          "model_module": "@jupyter-widgets/controls",
          "model_name": "ProgressStyleModel",
          "model_module_version": "1.5.0",
          "state": {
            "_model_module": "@jupyter-widgets/controls",
            "_model_module_version": "1.5.0",
            "_model_name": "ProgressStyleModel",
            "_view_count": null,
            "_view_module": "@jupyter-widgets/base",
            "_view_module_version": "1.2.0",
            "_view_name": "StyleView",
            "bar_color": null,
            "description_width": ""
          }
        },
        "b67c3b8c4a8b4fbabbb1d4857d588647": {
          "model_module": "@jupyter-widgets/base",
          "model_name": "LayoutModel",
          "model_module_version": "1.2.0",
          "state": {
            "_model_module": "@jupyter-widgets/base",
            "_model_module_version": "1.2.0",
            "_model_name": "LayoutModel",
            "_view_count": null,
            "_view_module": "@jupyter-widgets/base",
            "_view_module_version": "1.2.0",
            "_view_name": "LayoutView",
            "align_content": null,
            "align_items": null,
            "align_self": null,
            "border": null,
            "bottom": null,
            "display": null,
            "flex": null,
            "flex_flow": null,
            "grid_area": null,
            "grid_auto_columns": null,
            "grid_auto_flow": null,
            "grid_auto_rows": null,
            "grid_column": null,
            "grid_gap": null,
            "grid_row": null,
            "grid_template_areas": null,
            "grid_template_columns": null,
            "grid_template_rows": null,
            "height": null,
            "justify_content": null,
            "justify_items": null,
            "left": null,
            "margin": null,
            "max_height": null,
            "max_width": null,
            "min_height": null,
            "min_width": null,
            "object_fit": null,
            "object_position": null,
            "order": null,
            "overflow": null,
            "overflow_x": null,
            "overflow_y": null,
            "padding": null,
            "right": null,
            "top": null,
            "visibility": null,
            "width": null
          }
        },
        "7f0ebcded5a742efae4aa86ccc91b442": {
          "model_module": "@jupyter-widgets/controls",
          "model_name": "DescriptionStyleModel",
          "model_module_version": "1.5.0",
          "state": {
            "_model_module": "@jupyter-widgets/controls",
            "_model_module_version": "1.5.0",
            "_model_name": "DescriptionStyleModel",
            "_view_count": null,
            "_view_module": "@jupyter-widgets/base",
            "_view_module_version": "1.2.0",
            "_view_name": "StyleView",
            "description_width": ""
          }
        },
        "0f6c2788cae54b44912d466adf8b2315": {
          "model_module": "@jupyter-widgets/controls",
          "model_name": "HBoxModel",
          "model_module_version": "1.5.0",
          "state": {
            "_dom_classes": [],
            "_model_module": "@jupyter-widgets/controls",
            "_model_module_version": "1.5.0",
            "_model_name": "HBoxModel",
            "_view_count": null,
            "_view_module": "@jupyter-widgets/controls",
            "_view_module_version": "1.5.0",
            "_view_name": "HBoxView",
            "box_style": "",
            "children": [
              "IPY_MODEL_0de742f5ae67470f9e81e180215970c9",
              "IPY_MODEL_68eac126b3224ee381169088c9108218",
              "IPY_MODEL_ea7c0db8fbd24ec58f7bd3ee9f8a6a88"
            ],
            "layout": "IPY_MODEL_a7d207ff524140e4b5017a28af3184c1"
          }
        },
        "0de742f5ae67470f9e81e180215970c9": {
          "model_module": "@jupyter-widgets/controls",
          "model_name": "HTMLModel",
          "model_module_version": "1.5.0",
          "state": {
            "_dom_classes": [],
            "_model_module": "@jupyter-widgets/controls",
            "_model_module_version": "1.5.0",
            "_model_name": "HTMLModel",
            "_view_count": null,
            "_view_module": "@jupyter-widgets/controls",
            "_view_module_version": "1.5.0",
            "_view_name": "HTMLView",
            "description": "",
            "description_tooltip": null,
            "layout": "IPY_MODEL_5f3c311f08794d07a11fa3cabb09dec1",
            "placeholder": "​",
            "style": "IPY_MODEL_a9ef1f9cfdd748ce8cd16a32927d9527",
            "value": "model.safetensors.index.json: 100%"
          }
        },
        "68eac126b3224ee381169088c9108218": {
          "model_module": "@jupyter-widgets/controls",
          "model_name": "FloatProgressModel",
          "model_module_version": "1.5.0",
          "state": {
            "_dom_classes": [],
            "_model_module": "@jupyter-widgets/controls",
            "_model_module_version": "1.5.0",
            "_model_name": "FloatProgressModel",
            "_view_count": null,
            "_view_module": "@jupyter-widgets/controls",
            "_view_module_version": "1.5.0",
            "_view_name": "ProgressView",
            "bar_style": "success",
            "description": "",
            "description_tooltip": null,
            "layout": "IPY_MODEL_10ba99f1df7547ae85905c75acd35c2c",
            "max": 35716,
            "min": 0,
            "orientation": "horizontal",
            "style": "IPY_MODEL_663c62cfcda740dd90403747536e8481",
            "value": 35716
          }
        },
        "ea7c0db8fbd24ec58f7bd3ee9f8a6a88": {
          "model_module": "@jupyter-widgets/controls",
          "model_name": "HTMLModel",
          "model_module_version": "1.5.0",
          "state": {
            "_dom_classes": [],
            "_model_module": "@jupyter-widgets/controls",
            "_model_module_version": "1.5.0",
            "_model_name": "HTMLModel",
            "_view_count": null,
            "_view_module": "@jupyter-widgets/controls",
            "_view_module_version": "1.5.0",
            "_view_name": "HTMLView",
            "description": "",
            "description_tooltip": null,
            "layout": "IPY_MODEL_fd65ed200d094a80a0b29629d1dffe05",
            "placeholder": "​",
            "style": "IPY_MODEL_546bd1fca4ba4dde8eb6e1774682b13f",
            "value": " 35.7k/35.7k [00:00&lt;00:00, 3.87MB/s]"
          }
        },
        "a7d207ff524140e4b5017a28af3184c1": {
          "model_module": "@jupyter-widgets/base",
          "model_name": "LayoutModel",
          "model_module_version": "1.2.0",
          "state": {
            "_model_module": "@jupyter-widgets/base",
            "_model_module_version": "1.2.0",
            "_model_name": "LayoutModel",
            "_view_count": null,
            "_view_module": "@jupyter-widgets/base",
            "_view_module_version": "1.2.0",
            "_view_name": "LayoutView",
            "align_content": null,
            "align_items": null,
            "align_self": null,
            "border": null,
            "bottom": null,
            "display": null,
            "flex": null,
            "flex_flow": null,
            "grid_area": null,
            "grid_auto_columns": null,
            "grid_auto_flow": null,
            "grid_auto_rows": null,
            "grid_column": null,
            "grid_gap": null,
            "grid_row": null,
            "grid_template_areas": null,
            "grid_template_columns": null,
            "grid_template_rows": null,
            "height": null,
            "justify_content": null,
            "justify_items": null,
            "left": null,
            "margin": null,
            "max_height": null,
            "max_width": null,
            "min_height": null,
            "min_width": null,
            "object_fit": null,
            "object_position": null,
            "order": null,
            "overflow": null,
            "overflow_x": null,
            "overflow_y": null,
            "padding": null,
            "right": null,
            "top": null,
            "visibility": null,
            "width": null
          }
        },
        "5f3c311f08794d07a11fa3cabb09dec1": {
          "model_module": "@jupyter-widgets/base",
          "model_name": "LayoutModel",
          "model_module_version": "1.2.0",
          "state": {
            "_model_module": "@jupyter-widgets/base",
            "_model_module_version": "1.2.0",
            "_model_name": "LayoutModel",
            "_view_count": null,
            "_view_module": "@jupyter-widgets/base",
            "_view_module_version": "1.2.0",
            "_view_name": "LayoutView",
            "align_content": null,
            "align_items": null,
            "align_self": null,
            "border": null,
            "bottom": null,
            "display": null,
            "flex": null,
            "flex_flow": null,
            "grid_area": null,
            "grid_auto_columns": null,
            "grid_auto_flow": null,
            "grid_auto_rows": null,
            "grid_column": null,
            "grid_gap": null,
            "grid_row": null,
            "grid_template_areas": null,
            "grid_template_columns": null,
            "grid_template_rows": null,
            "height": null,
            "justify_content": null,
            "justify_items": null,
            "left": null,
            "margin": null,
            "max_height": null,
            "max_width": null,
            "min_height": null,
            "min_width": null,
            "object_fit": null,
            "object_position": null,
            "order": null,
            "overflow": null,
            "overflow_x": null,
            "overflow_y": null,
            "padding": null,
            "right": null,
            "top": null,
            "visibility": null,
            "width": null
          }
        },
        "a9ef1f9cfdd748ce8cd16a32927d9527": {
          "model_module": "@jupyter-widgets/controls",
          "model_name": "DescriptionStyleModel",
          "model_module_version": "1.5.0",
          "state": {
            "_model_module": "@jupyter-widgets/controls",
            "_model_module_version": "1.5.0",
            "_model_name": "DescriptionStyleModel",
            "_view_count": null,
            "_view_module": "@jupyter-widgets/base",
            "_view_module_version": "1.2.0",
            "_view_name": "StyleView",
            "description_width": ""
          }
        },
        "10ba99f1df7547ae85905c75acd35c2c": {
          "model_module": "@jupyter-widgets/base",
          "model_name": "LayoutModel",
          "model_module_version": "1.2.0",
          "state": {
            "_model_module": "@jupyter-widgets/base",
            "_model_module_version": "1.2.0",
            "_model_name": "LayoutModel",
            "_view_count": null,
            "_view_module": "@jupyter-widgets/base",
            "_view_module_version": "1.2.0",
            "_view_name": "LayoutView",
            "align_content": null,
            "align_items": null,
            "align_self": null,
            "border": null,
            "bottom": null,
            "display": null,
            "flex": null,
            "flex_flow": null,
            "grid_area": null,
            "grid_auto_columns": null,
            "grid_auto_flow": null,
            "grid_auto_rows": null,
            "grid_column": null,
            "grid_gap": null,
            "grid_row": null,
            "grid_template_areas": null,
            "grid_template_columns": null,
            "grid_template_rows": null,
            "height": null,
            "justify_content": null,
            "justify_items": null,
            "left": null,
            "margin": null,
            "max_height": null,
            "max_width": null,
            "min_height": null,
            "min_width": null,
            "object_fit": null,
            "object_position": null,
            "order": null,
            "overflow": null,
            "overflow_x": null,
            "overflow_y": null,
            "padding": null,
            "right": null,
            "top": null,
            "visibility": null,
            "width": null
          }
        },
        "663c62cfcda740dd90403747536e8481": {
          "model_module": "@jupyter-widgets/controls",
          "model_name": "ProgressStyleModel",
          "model_module_version": "1.5.0",
          "state": {
            "_model_module": "@jupyter-widgets/controls",
            "_model_module_version": "1.5.0",
            "_model_name": "ProgressStyleModel",
            "_view_count": null,
            "_view_module": "@jupyter-widgets/base",
            "_view_module_version": "1.2.0",
            "_view_name": "StyleView",
            "bar_color": null,
            "description_width": ""
          }
        },
        "fd65ed200d094a80a0b29629d1dffe05": {
          "model_module": "@jupyter-widgets/base",
          "model_name": "LayoutModel",
          "model_module_version": "1.2.0",
          "state": {
            "_model_module": "@jupyter-widgets/base",
            "_model_module_version": "1.2.0",
            "_model_name": "LayoutModel",
            "_view_count": null,
            "_view_module": "@jupyter-widgets/base",
            "_view_module_version": "1.2.0",
            "_view_name": "LayoutView",
            "align_content": null,
            "align_items": null,
            "align_self": null,
            "border": null,
            "bottom": null,
            "display": null,
            "flex": null,
            "flex_flow": null,
            "grid_area": null,
            "grid_auto_columns": null,
            "grid_auto_flow": null,
            "grid_auto_rows": null,
            "grid_column": null,
            "grid_gap": null,
            "grid_row": null,
            "grid_template_areas": null,
            "grid_template_columns": null,
            "grid_template_rows": null,
            "height": null,
            "justify_content": null,
            "justify_items": null,
            "left": null,
            "margin": null,
            "max_height": null,
            "max_width": null,
            "min_height": null,
            "min_width": null,
            "object_fit": null,
            "object_position": null,
            "order": null,
            "overflow": null,
            "overflow_x": null,
            "overflow_y": null,
            "padding": null,
            "right": null,
            "top": null,
            "visibility": null,
            "width": null
          }
        },
        "546bd1fca4ba4dde8eb6e1774682b13f": {
          "model_module": "@jupyter-widgets/controls",
          "model_name": "DescriptionStyleModel",
          "model_module_version": "1.5.0",
          "state": {
            "_model_module": "@jupyter-widgets/controls",
            "_model_module_version": "1.5.0",
            "_model_name": "DescriptionStyleModel",
            "_view_count": null,
            "_view_module": "@jupyter-widgets/base",
            "_view_module_version": "1.2.0",
            "_view_name": "StyleView",
            "description_width": ""
          }
        },
        "5d427f82d4544ae68a5e99d0d1747c5f": {
          "model_module": "@jupyter-widgets/controls",
          "model_name": "HBoxModel",
          "model_module_version": "1.5.0",
          "state": {
            "_dom_classes": [],
            "_model_module": "@jupyter-widgets/controls",
            "_model_module_version": "1.5.0",
            "_model_name": "HBoxModel",
            "_view_count": null,
            "_view_module": "@jupyter-widgets/controls",
            "_view_module_version": "1.5.0",
            "_view_name": "HBoxView",
            "box_style": "",
            "children": [
              "IPY_MODEL_e9a441f7de774d65aaeb61269217c552",
              "IPY_MODEL_9887ed70b2dc4fae8677927d63e69e8d",
              "IPY_MODEL_284606ab7ffd4eb6a9d721403f681d47"
            ],
            "layout": "IPY_MODEL_bde3370252da473784a5534f75942d4a"
          }
        },
        "e9a441f7de774d65aaeb61269217c552": {
          "model_module": "@jupyter-widgets/controls",
          "model_name": "HTMLModel",
          "model_module_version": "1.5.0",
          "state": {
            "_dom_classes": [],
            "_model_module": "@jupyter-widgets/controls",
            "_model_module_version": "1.5.0",
            "_model_name": "HTMLModel",
            "_view_count": null,
            "_view_module": "@jupyter-widgets/controls",
            "_view_module_version": "1.5.0",
            "_view_name": "HTMLView",
            "description": "",
            "description_tooltip": null,
            "layout": "IPY_MODEL_1d0b04320d0548f080f7aff3119ae7a5",
            "placeholder": "​",
            "style": "IPY_MODEL_691c751dfa74494fa5342706da83f3c3",
            "value": "Fetching 2 files: 100%"
          }
        },
        "9887ed70b2dc4fae8677927d63e69e8d": {
          "model_module": "@jupyter-widgets/controls",
          "model_name": "FloatProgressModel",
          "model_module_version": "1.5.0",
          "state": {
            "_dom_classes": [],
            "_model_module": "@jupyter-widgets/controls",
            "_model_module_version": "1.5.0",
            "_model_name": "FloatProgressModel",
            "_view_count": null,
            "_view_module": "@jupyter-widgets/controls",
            "_view_module_version": "1.5.0",
            "_view_name": "ProgressView",
            "bar_style": "success",
            "description": "",
            "description_tooltip": null,
            "layout": "IPY_MODEL_5b454800870e490eaae733029a09445e",
            "max": 2,
            "min": 0,
            "orientation": "horizontal",
            "style": "IPY_MODEL_a3a26321d23545a099af92518eafd944",
            "value": 2
          }
        },
        "284606ab7ffd4eb6a9d721403f681d47": {
          "model_module": "@jupyter-widgets/controls",
          "model_name": "HTMLModel",
          "model_module_version": "1.5.0",
          "state": {
            "_dom_classes": [],
            "_model_module": "@jupyter-widgets/controls",
            "_model_module_version": "1.5.0",
            "_model_name": "HTMLModel",
            "_view_count": null,
            "_view_module": "@jupyter-widgets/controls",
            "_view_module_version": "1.5.0",
            "_view_name": "HTMLView",
            "description": "",
            "description_tooltip": null,
            "layout": "IPY_MODEL_b8f1bf3bc0584f3299b9b85d043ee6c0",
            "placeholder": "​",
            "style": "IPY_MODEL_0227eb7746f84739bfde815cb91133ee",
            "value": " 2/2 [00:49&lt;00:00, 49.44s/it]"
          }
        },
        "bde3370252da473784a5534f75942d4a": {
          "model_module": "@jupyter-widgets/base",
          "model_name": "LayoutModel",
          "model_module_version": "1.2.0",
          "state": {
            "_model_module": "@jupyter-widgets/base",
            "_model_module_version": "1.2.0",
            "_model_name": "LayoutModel",
            "_view_count": null,
            "_view_module": "@jupyter-widgets/base",
            "_view_module_version": "1.2.0",
            "_view_name": "LayoutView",
            "align_content": null,
            "align_items": null,
            "align_self": null,
            "border": null,
            "bottom": null,
            "display": null,
            "flex": null,
            "flex_flow": null,
            "grid_area": null,
            "grid_auto_columns": null,
            "grid_auto_flow": null,
            "grid_auto_rows": null,
            "grid_column": null,
            "grid_gap": null,
            "grid_row": null,
            "grid_template_areas": null,
            "grid_template_columns": null,
            "grid_template_rows": null,
            "height": null,
            "justify_content": null,
            "justify_items": null,
            "left": null,
            "margin": null,
            "max_height": null,
            "max_width": null,
            "min_height": null,
            "min_width": null,
            "object_fit": null,
            "object_position": null,
            "order": null,
            "overflow": null,
            "overflow_x": null,
            "overflow_y": null,
            "padding": null,
            "right": null,
            "top": null,
            "visibility": null,
            "width": null
          }
        },
        "1d0b04320d0548f080f7aff3119ae7a5": {
          "model_module": "@jupyter-widgets/base",
          "model_name": "LayoutModel",
          "model_module_version": "1.2.0",
          "state": {
            "_model_module": "@jupyter-widgets/base",
            "_model_module_version": "1.2.0",
            "_model_name": "LayoutModel",
            "_view_count": null,
            "_view_module": "@jupyter-widgets/base",
            "_view_module_version": "1.2.0",
            "_view_name": "LayoutView",
            "align_content": null,
            "align_items": null,
            "align_self": null,
            "border": null,
            "bottom": null,
            "display": null,
            "flex": null,
            "flex_flow": null,
            "grid_area": null,
            "grid_auto_columns": null,
            "grid_auto_flow": null,
            "grid_auto_rows": null,
            "grid_column": null,
            "grid_gap": null,
            "grid_row": null,
            "grid_template_areas": null,
            "grid_template_columns": null,
            "grid_template_rows": null,
            "height": null,
            "justify_content": null,
            "justify_items": null,
            "left": null,
            "margin": null,
            "max_height": null,
            "max_width": null,
            "min_height": null,
            "min_width": null,
            "object_fit": null,
            "object_position": null,
            "order": null,
            "overflow": null,
            "overflow_x": null,
            "overflow_y": null,
            "padding": null,
            "right": null,
            "top": null,
            "visibility": null,
            "width": null
          }
        },
        "691c751dfa74494fa5342706da83f3c3": {
          "model_module": "@jupyter-widgets/controls",
          "model_name": "DescriptionStyleModel",
          "model_module_version": "1.5.0",
          "state": {
            "_model_module": "@jupyter-widgets/controls",
            "_model_module_version": "1.5.0",
            "_model_name": "DescriptionStyleModel",
            "_view_count": null,
            "_view_module": "@jupyter-widgets/base",
            "_view_module_version": "1.2.0",
            "_view_name": "StyleView",
            "description_width": ""
          }
        },
        "5b454800870e490eaae733029a09445e": {
          "model_module": "@jupyter-widgets/base",
          "model_name": "LayoutModel",
          "model_module_version": "1.2.0",
          "state": {
            "_model_module": "@jupyter-widgets/base",
            "_model_module_version": "1.2.0",
            "_model_name": "LayoutModel",
            "_view_count": null,
            "_view_module": "@jupyter-widgets/base",
            "_view_module_version": "1.2.0",
            "_view_name": "LayoutView",
            "align_content": null,
            "align_items": null,
            "align_self": null,
            "border": null,
            "bottom": null,
            "display": null,
            "flex": null,
            "flex_flow": null,
            "grid_area": null,
            "grid_auto_columns": null,
            "grid_auto_flow": null,
            "grid_auto_rows": null,
            "grid_column": null,
            "grid_gap": null,
            "grid_row": null,
            "grid_template_areas": null,
            "grid_template_columns": null,
            "grid_template_rows": null,
            "height": null,
            "justify_content": null,
            "justify_items": null,
            "left": null,
            "margin": null,
            "max_height": null,
            "max_width": null,
            "min_height": null,
            "min_width": null,
            "object_fit": null,
            "object_position": null,
            "order": null,
            "overflow": null,
            "overflow_x": null,
            "overflow_y": null,
            "padding": null,
            "right": null,
            "top": null,
            "visibility": null,
            "width": null
          }
        },
        "a3a26321d23545a099af92518eafd944": {
          "model_module": "@jupyter-widgets/controls",
          "model_name": "ProgressStyleModel",
          "model_module_version": "1.5.0",
          "state": {
            "_model_module": "@jupyter-widgets/controls",
            "_model_module_version": "1.5.0",
            "_model_name": "ProgressStyleModel",
            "_view_count": null,
            "_view_module": "@jupyter-widgets/base",
            "_view_module_version": "1.2.0",
            "_view_name": "StyleView",
            "bar_color": null,
            "description_width": ""
          }
        },
        "b8f1bf3bc0584f3299b9b85d043ee6c0": {
          "model_module": "@jupyter-widgets/base",
          "model_name": "LayoutModel",
          "model_module_version": "1.2.0",
          "state": {
            "_model_module": "@jupyter-widgets/base",
            "_model_module_version": "1.2.0",
            "_model_name": "LayoutModel",
            "_view_count": null,
            "_view_module": "@jupyter-widgets/base",
            "_view_module_version": "1.2.0",
            "_view_name": "LayoutView",
            "align_content": null,
            "align_items": null,
            "align_self": null,
            "border": null,
            "bottom": null,
            "display": null,
            "flex": null,
            "flex_flow": null,
            "grid_area": null,
            "grid_auto_columns": null,
            "grid_auto_flow": null,
            "grid_auto_rows": null,
            "grid_column": null,
            "grid_gap": null,
            "grid_row": null,
            "grid_template_areas": null,
            "grid_template_columns": null,
            "grid_template_rows": null,
            "height": null,
            "justify_content": null,
            "justify_items": null,
            "left": null,
            "margin": null,
            "max_height": null,
            "max_width": null,
            "min_height": null,
            "min_width": null,
            "object_fit": null,
            "object_position": null,
            "order": null,
            "overflow": null,
            "overflow_x": null,
            "overflow_y": null,
            "padding": null,
            "right": null,
            "top": null,
            "visibility": null,
            "width": null
          }
        },
        "0227eb7746f84739bfde815cb91133ee": {
          "model_module": "@jupyter-widgets/controls",
          "model_name": "DescriptionStyleModel",
          "model_module_version": "1.5.0",
          "state": {
            "_model_module": "@jupyter-widgets/controls",
            "_model_module_version": "1.5.0",
            "_model_name": "DescriptionStyleModel",
            "_view_count": null,
            "_view_module": "@jupyter-widgets/base",
            "_view_module_version": "1.2.0",
            "_view_name": "StyleView",
            "description_width": ""
          }
        },
        "1d2fd146d1ec496f908eb42d6aa3c59c": {
          "model_module": "@jupyter-widgets/controls",
          "model_name": "HBoxModel",
          "model_module_version": "1.5.0",
          "state": {
            "_dom_classes": [],
            "_model_module": "@jupyter-widgets/controls",
            "_model_module_version": "1.5.0",
            "_model_name": "HBoxModel",
            "_view_count": null,
            "_view_module": "@jupyter-widgets/controls",
            "_view_module_version": "1.5.0",
            "_view_name": "HBoxView",
            "box_style": "",
            "children": [
              "IPY_MODEL_0f69ac3f703f4ab5a09accad6907a7f1",
              "IPY_MODEL_2044b445b4944b399bbd42767a0502d3",
              "IPY_MODEL_ce4d5e40140141c1ac7e2a4867f2229e"
            ],
            "layout": "IPY_MODEL_cc708502a62e47e38d56b744310ac6ea"
          }
        },
        "0f69ac3f703f4ab5a09accad6907a7f1": {
          "model_module": "@jupyter-widgets/controls",
          "model_name": "HTMLModel",
          "model_module_version": "1.5.0",
          "state": {
            "_dom_classes": [],
            "_model_module": "@jupyter-widgets/controls",
            "_model_module_version": "1.5.0",
            "_model_name": "HTMLModel",
            "_view_count": null,
            "_view_module": "@jupyter-widgets/controls",
            "_view_module_version": "1.5.0",
            "_view_name": "HTMLView",
            "description": "",
            "description_tooltip": null,
            "layout": "IPY_MODEL_1b793f4b870c45b492f152f02eda9539",
            "placeholder": "​",
            "style": "IPY_MODEL_c7985e2cca50450685332af5f9291090",
            "value": "model-00001-of-00002.safetensors: 100%"
          }
        },
        "2044b445b4944b399bbd42767a0502d3": {
          "model_module": "@jupyter-widgets/controls",
          "model_name": "FloatProgressModel",
          "model_module_version": "1.5.0",
          "state": {
            "_dom_classes": [],
            "_model_module": "@jupyter-widgets/controls",
            "_model_module_version": "1.5.0",
            "_model_name": "FloatProgressModel",
            "_view_count": null,
            "_view_module": "@jupyter-widgets/controls",
            "_view_module_version": "1.5.0",
            "_view_name": "ProgressView",
            "bar_style": "success",
            "description": "",
            "description_tooltip": null,
            "layout": "IPY_MODEL_a0ac5ed017764e1a842a8893771371ae",
            "max": 4995584424,
            "min": 0,
            "orientation": "horizontal",
            "style": "IPY_MODEL_785a16b0f3464a72af42c751ea6edc0a",
            "value": 4995584424
          }
        },
        "ce4d5e40140141c1ac7e2a4867f2229e": {
          "model_module": "@jupyter-widgets/controls",
          "model_name": "HTMLModel",
          "model_module_version": "1.5.0",
          "state": {
            "_dom_classes": [],
            "_model_module": "@jupyter-widgets/controls",
            "_model_module_version": "1.5.0",
            "_model_name": "HTMLModel",
            "_view_count": null,
            "_view_module": "@jupyter-widgets/controls",
            "_view_module_version": "1.5.0",
            "_view_name": "HTMLView",
            "description": "",
            "description_tooltip": null,
            "layout": "IPY_MODEL_d5b34c21af12450b9e2a2f0498a85c3e",
            "placeholder": "​",
            "style": "IPY_MODEL_f3088088b4fd492ba728327c8bd536fe",
            "value": " 5.00G/5.00G [00:49&lt;00:00, 210MB/s]"
          }
        },
        "cc708502a62e47e38d56b744310ac6ea": {
          "model_module": "@jupyter-widgets/base",
          "model_name": "LayoutModel",
          "model_module_version": "1.2.0",
          "state": {
            "_model_module": "@jupyter-widgets/base",
            "_model_module_version": "1.2.0",
            "_model_name": "LayoutModel",
            "_view_count": null,
            "_view_module": "@jupyter-widgets/base",
            "_view_module_version": "1.2.0",
            "_view_name": "LayoutView",
            "align_content": null,
            "align_items": null,
            "align_self": null,
            "border": null,
            "bottom": null,
            "display": null,
            "flex": null,
            "flex_flow": null,
            "grid_area": null,
            "grid_auto_columns": null,
            "grid_auto_flow": null,
            "grid_auto_rows": null,
            "grid_column": null,
            "grid_gap": null,
            "grid_row": null,
            "grid_template_areas": null,
            "grid_template_columns": null,
            "grid_template_rows": null,
            "height": null,
            "justify_content": null,
            "justify_items": null,
            "left": null,
            "margin": null,
            "max_height": null,
            "max_width": null,
            "min_height": null,
            "min_width": null,
            "object_fit": null,
            "object_position": null,
            "order": null,
            "overflow": null,
            "overflow_x": null,
            "overflow_y": null,
            "padding": null,
            "right": null,
            "top": null,
            "visibility": null,
            "width": null
          }
        },
        "1b793f4b870c45b492f152f02eda9539": {
          "model_module": "@jupyter-widgets/base",
          "model_name": "LayoutModel",
          "model_module_version": "1.2.0",
          "state": {
            "_model_module": "@jupyter-widgets/base",
            "_model_module_version": "1.2.0",
            "_model_name": "LayoutModel",
            "_view_count": null,
            "_view_module": "@jupyter-widgets/base",
            "_view_module_version": "1.2.0",
            "_view_name": "LayoutView",
            "align_content": null,
            "align_items": null,
            "align_self": null,
            "border": null,
            "bottom": null,
            "display": null,
            "flex": null,
            "flex_flow": null,
            "grid_area": null,
            "grid_auto_columns": null,
            "grid_auto_flow": null,
            "grid_auto_rows": null,
            "grid_column": null,
            "grid_gap": null,
            "grid_row": null,
            "grid_template_areas": null,
            "grid_template_columns": null,
            "grid_template_rows": null,
            "height": null,
            "justify_content": null,
            "justify_items": null,
            "left": null,
            "margin": null,
            "max_height": null,
            "max_width": null,
            "min_height": null,
            "min_width": null,
            "object_fit": null,
            "object_position": null,
            "order": null,
            "overflow": null,
            "overflow_x": null,
            "overflow_y": null,
            "padding": null,
            "right": null,
            "top": null,
            "visibility": null,
            "width": null
          }
        },
        "c7985e2cca50450685332af5f9291090": {
          "model_module": "@jupyter-widgets/controls",
          "model_name": "DescriptionStyleModel",
          "model_module_version": "1.5.0",
          "state": {
            "_model_module": "@jupyter-widgets/controls",
            "_model_module_version": "1.5.0",
            "_model_name": "DescriptionStyleModel",
            "_view_count": null,
            "_view_module": "@jupyter-widgets/base",
            "_view_module_version": "1.2.0",
            "_view_name": "StyleView",
            "description_width": ""
          }
        },
        "a0ac5ed017764e1a842a8893771371ae": {
          "model_module": "@jupyter-widgets/base",
          "model_name": "LayoutModel",
          "model_module_version": "1.2.0",
          "state": {
            "_model_module": "@jupyter-widgets/base",
            "_model_module_version": "1.2.0",
            "_model_name": "LayoutModel",
            "_view_count": null,
            "_view_module": "@jupyter-widgets/base",
            "_view_module_version": "1.2.0",
            "_view_name": "LayoutView",
            "align_content": null,
            "align_items": null,
            "align_self": null,
            "border": null,
            "bottom": null,
            "display": null,
            "flex": null,
            "flex_flow": null,
            "grid_area": null,
            "grid_auto_columns": null,
            "grid_auto_flow": null,
            "grid_auto_rows": null,
            "grid_column": null,
            "grid_gap": null,
            "grid_row": null,
            "grid_template_areas": null,
            "grid_template_columns": null,
            "grid_template_rows": null,
            "height": null,
            "justify_content": null,
            "justify_items": null,
            "left": null,
            "margin": null,
            "max_height": null,
            "max_width": null,
            "min_height": null,
            "min_width": null,
            "object_fit": null,
            "object_position": null,
            "order": null,
            "overflow": null,
            "overflow_x": null,
            "overflow_y": null,
            "padding": null,
            "right": null,
            "top": null,
            "visibility": null,
            "width": null
          }
        },
        "785a16b0f3464a72af42c751ea6edc0a": {
          "model_module": "@jupyter-widgets/controls",
          "model_name": "ProgressStyleModel",
          "model_module_version": "1.5.0",
          "state": {
            "_model_module": "@jupyter-widgets/controls",
            "_model_module_version": "1.5.0",
            "_model_name": "ProgressStyleModel",
            "_view_count": null,
            "_view_module": "@jupyter-widgets/base",
            "_view_module_version": "1.2.0",
            "_view_name": "StyleView",
            "bar_color": null,
            "description_width": ""
          }
        },
        "d5b34c21af12450b9e2a2f0498a85c3e": {
          "model_module": "@jupyter-widgets/base",
          "model_name": "LayoutModel",
          "model_module_version": "1.2.0",
          "state": {
            "_model_module": "@jupyter-widgets/base",
            "_model_module_version": "1.2.0",
            "_model_name": "LayoutModel",
            "_view_count": null,
            "_view_module": "@jupyter-widgets/base",
            "_view_module_version": "1.2.0",
            "_view_name": "LayoutView",
            "align_content": null,
            "align_items": null,
            "align_self": null,
            "border": null,
            "bottom": null,
            "display": null,
            "flex": null,
            "flex_flow": null,
            "grid_area": null,
            "grid_auto_columns": null,
            "grid_auto_flow": null,
            "grid_auto_rows": null,
            "grid_column": null,
            "grid_gap": null,
            "grid_row": null,
            "grid_template_areas": null,
            "grid_template_columns": null,
            "grid_template_rows": null,
            "height": null,
            "justify_content": null,
            "justify_items": null,
            "left": null,
            "margin": null,
            "max_height": null,
            "max_width": null,
            "min_height": null,
            "min_width": null,
            "object_fit": null,
            "object_position": null,
            "order": null,
            "overflow": null,
            "overflow_x": null,
            "overflow_y": null,
            "padding": null,
            "right": null,
            "top": null,
            "visibility": null,
            "width": null
          }
        },
        "f3088088b4fd492ba728327c8bd536fe": {
          "model_module": "@jupyter-widgets/controls",
          "model_name": "DescriptionStyleModel",
          "model_module_version": "1.5.0",
          "state": {
            "_model_module": "@jupyter-widgets/controls",
            "_model_module_version": "1.5.0",
            "_model_name": "DescriptionStyleModel",
            "_view_count": null,
            "_view_module": "@jupyter-widgets/base",
            "_view_module_version": "1.2.0",
            "_view_name": "StyleView",
            "description_width": ""
          }
        },
        "c4f3b73494ab4e91baa71b04a5831ef0": {
          "model_module": "@jupyter-widgets/controls",
          "model_name": "HBoxModel",
          "model_module_version": "1.5.0",
          "state": {
            "_dom_classes": [],
            "_model_module": "@jupyter-widgets/controls",
            "_model_module_version": "1.5.0",
            "_model_name": "HBoxModel",
            "_view_count": null,
            "_view_module": "@jupyter-widgets/controls",
            "_view_module_version": "1.5.0",
            "_view_name": "HBoxView",
            "box_style": "",
            "children": [
              "IPY_MODEL_f4caa0e358924287802adfc4bca78308",
              "IPY_MODEL_dcd4a5b571ad4e84a1ddb4745abef25e",
              "IPY_MODEL_bdd53ca87f3147cea0141793ae9a6bdf"
            ],
            "layout": "IPY_MODEL_f51b21f175d34f0490a6795a708e5583"
          }
        },
        "f4caa0e358924287802adfc4bca78308": {
          "model_module": "@jupyter-widgets/controls",
          "model_name": "HTMLModel",
          "model_module_version": "1.5.0",
          "state": {
            "_dom_classes": [],
            "_model_module": "@jupyter-widgets/controls",
            "_model_module_version": "1.5.0",
            "_model_name": "HTMLModel",
            "_view_count": null,
            "_view_module": "@jupyter-widgets/controls",
            "_view_module_version": "1.5.0",
            "_view_name": "HTMLView",
            "description": "",
            "description_tooltip": null,
            "layout": "IPY_MODEL_b1d8ff46e8b545bc94b959dc3a70fc58",
            "placeholder": "​",
            "style": "IPY_MODEL_48b207c1c20f4e2aa93bcfa8dbfd3a70",
            "value": "model-00002-of-00002.safetensors: 100%"
          }
        },
        "dcd4a5b571ad4e84a1ddb4745abef25e": {
          "model_module": "@jupyter-widgets/controls",
          "model_name": "FloatProgressModel",
          "model_module_version": "1.5.0",
          "state": {
            "_dom_classes": [],
            "_model_module": "@jupyter-widgets/controls",
            "_model_module_version": "1.5.0",
            "_model_name": "FloatProgressModel",
            "_view_count": null,
            "_view_module": "@jupyter-widgets/controls",
            "_view_module_version": "1.5.0",
            "_view_name": "ProgressView",
            "bar_style": "success",
            "description": "",
            "description_tooltip": null,
            "layout": "IPY_MODEL_9a0cbb4c7a7c402f8a4d44ae4dced3d2",
            "max": 563832976,
            "min": 0,
            "orientation": "horizontal",
            "style": "IPY_MODEL_acc88d0d718940ee93be6d8caaabb0d6",
            "value": 563832976
          }
        },
        "bdd53ca87f3147cea0141793ae9a6bdf": {
          "model_module": "@jupyter-widgets/controls",
          "model_name": "HTMLModel",
          "model_module_version": "1.5.0",
          "state": {
            "_dom_classes": [],
            "_model_module": "@jupyter-widgets/controls",
            "_model_module_version": "1.5.0",
            "_model_name": "HTMLModel",
            "_view_count": null,
            "_view_module": "@jupyter-widgets/controls",
            "_view_module_version": "1.5.0",
            "_view_name": "HTMLView",
            "description": "",
            "description_tooltip": null,
            "layout": "IPY_MODEL_b5e8b09b11f34503bf8e6672612bba93",
            "placeholder": "​",
            "style": "IPY_MODEL_c0ae1ac7b37c44018a268972d19aa2ec",
            "value": " 564M/564M [00:13&lt;00:00, 87.9MB/s]"
          }
        },
        "f51b21f175d34f0490a6795a708e5583": {
          "model_module": "@jupyter-widgets/base",
          "model_name": "LayoutModel",
          "model_module_version": "1.2.0",
          "state": {
            "_model_module": "@jupyter-widgets/base",
            "_model_module_version": "1.2.0",
            "_model_name": "LayoutModel",
            "_view_count": null,
            "_view_module": "@jupyter-widgets/base",
            "_view_module_version": "1.2.0",
            "_view_name": "LayoutView",
            "align_content": null,
            "align_items": null,
            "align_self": null,
            "border": null,
            "bottom": null,
            "display": null,
            "flex": null,
            "flex_flow": null,
            "grid_area": null,
            "grid_auto_columns": null,
            "grid_auto_flow": null,
            "grid_auto_rows": null,
            "grid_column": null,
            "grid_gap": null,
            "grid_row": null,
            "grid_template_areas": null,
            "grid_template_columns": null,
            "grid_template_rows": null,
            "height": null,
            "justify_content": null,
            "justify_items": null,
            "left": null,
            "margin": null,
            "max_height": null,
            "max_width": null,
            "min_height": null,
            "min_width": null,
            "object_fit": null,
            "object_position": null,
            "order": null,
            "overflow": null,
            "overflow_x": null,
            "overflow_y": null,
            "padding": null,
            "right": null,
            "top": null,
            "visibility": null,
            "width": null
          }
        },
        "b1d8ff46e8b545bc94b959dc3a70fc58": {
          "model_module": "@jupyter-widgets/base",
          "model_name": "LayoutModel",
          "model_module_version": "1.2.0",
          "state": {
            "_model_module": "@jupyter-widgets/base",
            "_model_module_version": "1.2.0",
            "_model_name": "LayoutModel",
            "_view_count": null,
            "_view_module": "@jupyter-widgets/base",
            "_view_module_version": "1.2.0",
            "_view_name": "LayoutView",
            "align_content": null,
            "align_items": null,
            "align_self": null,
            "border": null,
            "bottom": null,
            "display": null,
            "flex": null,
            "flex_flow": null,
            "grid_area": null,
            "grid_auto_columns": null,
            "grid_auto_flow": null,
            "grid_auto_rows": null,
            "grid_column": null,
            "grid_gap": null,
            "grid_row": null,
            "grid_template_areas": null,
            "grid_template_columns": null,
            "grid_template_rows": null,
            "height": null,
            "justify_content": null,
            "justify_items": null,
            "left": null,
            "margin": null,
            "max_height": null,
            "max_width": null,
            "min_height": null,
            "min_width": null,
            "object_fit": null,
            "object_position": null,
            "order": null,
            "overflow": null,
            "overflow_x": null,
            "overflow_y": null,
            "padding": null,
            "right": null,
            "top": null,
            "visibility": null,
            "width": null
          }
        },
        "48b207c1c20f4e2aa93bcfa8dbfd3a70": {
          "model_module": "@jupyter-widgets/controls",
          "model_name": "DescriptionStyleModel",
          "model_module_version": "1.5.0",
          "state": {
            "_model_module": "@jupyter-widgets/controls",
            "_model_module_version": "1.5.0",
            "_model_name": "DescriptionStyleModel",
            "_view_count": null,
            "_view_module": "@jupyter-widgets/base",
            "_view_module_version": "1.2.0",
            "_view_name": "StyleView",
            "description_width": ""
          }
        },
        "9a0cbb4c7a7c402f8a4d44ae4dced3d2": {
          "model_module": "@jupyter-widgets/base",
          "model_name": "LayoutModel",
          "model_module_version": "1.2.0",
          "state": {
            "_model_module": "@jupyter-widgets/base",
            "_model_module_version": "1.2.0",
            "_model_name": "LayoutModel",
            "_view_count": null,
            "_view_module": "@jupyter-widgets/base",
            "_view_module_version": "1.2.0",
            "_view_name": "LayoutView",
            "align_content": null,
            "align_items": null,
            "align_self": null,
            "border": null,
            "bottom": null,
            "display": null,
            "flex": null,
            "flex_flow": null,
            "grid_area": null,
            "grid_auto_columns": null,
            "grid_auto_flow": null,
            "grid_auto_rows": null,
            "grid_column": null,
            "grid_gap": null,
            "grid_row": null,
            "grid_template_areas": null,
            "grid_template_columns": null,
            "grid_template_rows": null,
            "height": null,
            "justify_content": null,
            "justify_items": null,
            "left": null,
            "margin": null,
            "max_height": null,
            "max_width": null,
            "min_height": null,
            "min_width": null,
            "object_fit": null,
            "object_position": null,
            "order": null,
            "overflow": null,
            "overflow_x": null,
            "overflow_y": null,
            "padding": null,
            "right": null,
            "top": null,
            "visibility": null,
            "width": null
          }
        },
        "acc88d0d718940ee93be6d8caaabb0d6": {
          "model_module": "@jupyter-widgets/controls",
          "model_name": "ProgressStyleModel",
          "model_module_version": "1.5.0",
          "state": {
            "_model_module": "@jupyter-widgets/controls",
            "_model_module_version": "1.5.0",
            "_model_name": "ProgressStyleModel",
            "_view_count": null,
            "_view_module": "@jupyter-widgets/base",
            "_view_module_version": "1.2.0",
            "_view_name": "StyleView",
            "bar_color": null,
            "description_width": ""
          }
        },
        "b5e8b09b11f34503bf8e6672612bba93": {
          "model_module": "@jupyter-widgets/base",
          "model_name": "LayoutModel",
          "model_module_version": "1.2.0",
          "state": {
            "_model_module": "@jupyter-widgets/base",
            "_model_module_version": "1.2.0",
            "_model_name": "LayoutModel",
            "_view_count": null,
            "_view_module": "@jupyter-widgets/base",
            "_view_module_version": "1.2.0",
            "_view_name": "LayoutView",
            "align_content": null,
            "align_items": null,
            "align_self": null,
            "border": null,
            "bottom": null,
            "display": null,
            "flex": null,
            "flex_flow": null,
            "grid_area": null,
            "grid_auto_columns": null,
            "grid_auto_flow": null,
            "grid_auto_rows": null,
            "grid_column": null,
            "grid_gap": null,
            "grid_row": null,
            "grid_template_areas": null,
            "grid_template_columns": null,
            "grid_template_rows": null,
            "height": null,
            "justify_content": null,
            "justify_items": null,
            "left": null,
            "margin": null,
            "max_height": null,
            "max_width": null,
            "min_height": null,
            "min_width": null,
            "object_fit": null,
            "object_position": null,
            "order": null,
            "overflow": null,
            "overflow_x": null,
            "overflow_y": null,
            "padding": null,
            "right": null,
            "top": null,
            "visibility": null,
            "width": null
          }
        },
        "c0ae1ac7b37c44018a268972d19aa2ec": {
          "model_module": "@jupyter-widgets/controls",
          "model_name": "DescriptionStyleModel",
          "model_module_version": "1.5.0",
          "state": {
            "_model_module": "@jupyter-widgets/controls",
            "_model_module_version": "1.5.0",
            "_model_name": "DescriptionStyleModel",
            "_view_count": null,
            "_view_module": "@jupyter-widgets/base",
            "_view_module_version": "1.2.0",
            "_view_name": "StyleView",
            "description_width": ""
          }
        },
        "e0f780cb231f42a68f0120601f3e285f": {
          "model_module": "@jupyter-widgets/controls",
          "model_name": "HBoxModel",
          "model_module_version": "1.5.0",
          "state": {
            "_dom_classes": [],
            "_model_module": "@jupyter-widgets/controls",
            "_model_module_version": "1.5.0",
            "_model_name": "HBoxModel",
            "_view_count": null,
            "_view_module": "@jupyter-widgets/controls",
            "_view_module_version": "1.5.0",
            "_view_name": "HBoxView",
            "box_style": "",
            "children": [
              "IPY_MODEL_aefcc491b3d34f43ba3e2c4adc3bac3b",
              "IPY_MODEL_726ac91a1024464ab2d81fdf634d49fc",
              "IPY_MODEL_7c6925bee83a4ddc86f6f175ca8646fb"
            ],
            "layout": "IPY_MODEL_565b6407854d450587c9689cfe9dec42"
          }
        },
        "aefcc491b3d34f43ba3e2c4adc3bac3b": {
          "model_module": "@jupyter-widgets/controls",
          "model_name": "HTMLModel",
          "model_module_version": "1.5.0",
          "state": {
            "_dom_classes": [],
            "_model_module": "@jupyter-widgets/controls",
            "_model_module_version": "1.5.0",
            "_model_name": "HTMLModel",
            "_view_count": null,
            "_view_module": "@jupyter-widgets/controls",
            "_view_module_version": "1.5.0",
            "_view_name": "HTMLView",
            "description": "",
            "description_tooltip": null,
            "layout": "IPY_MODEL_7fde7bb3acbb46bda33f0ef04e7d14bf",
            "placeholder": "​",
            "style": "IPY_MODEL_8c7569ed524049ba8c55f1fafb0bc939",
            "value": "Loading checkpoint shards: 100%"
          }
        },
        "726ac91a1024464ab2d81fdf634d49fc": {
          "model_module": "@jupyter-widgets/controls",
          "model_name": "FloatProgressModel",
          "model_module_version": "1.5.0",
          "state": {
            "_dom_classes": [],
            "_model_module": "@jupyter-widgets/controls",
            "_model_module_version": "1.5.0",
            "_model_name": "FloatProgressModel",
            "_view_count": null,
            "_view_module": "@jupyter-widgets/controls",
            "_view_module_version": "1.5.0",
            "_view_name": "ProgressView",
            "bar_style": "success",
            "description": "",
            "description_tooltip": null,
            "layout": "IPY_MODEL_4b00454a1f7b46e29e82cbb7b6763dc0",
            "max": 2,
            "min": 0,
            "orientation": "horizontal",
            "style": "IPY_MODEL_12e5cf081d97439591de78390075b56f",
            "value": 2
          }
        },
        "7c6925bee83a4ddc86f6f175ca8646fb": {
          "model_module": "@jupyter-widgets/controls",
          "model_name": "HTMLModel",
          "model_module_version": "1.5.0",
          "state": {
            "_dom_classes": [],
            "_model_module": "@jupyter-widgets/controls",
            "_model_module_version": "1.5.0",
            "_model_name": "HTMLModel",
            "_view_count": null,
            "_view_module": "@jupyter-widgets/controls",
            "_view_module_version": "1.5.0",
            "_view_name": "HTMLView",
            "description": "",
            "description_tooltip": null,
            "layout": "IPY_MODEL_703f4b242d114e7aadf58904fb64dc38",
            "placeholder": "​",
            "style": "IPY_MODEL_9d0eddc0dc094f7b939085d126b9386c",
            "value": " 2/2 [00:22&lt;00:00,  9.82s/it]"
          }
        },
        "565b6407854d450587c9689cfe9dec42": {
          "model_module": "@jupyter-widgets/base",
          "model_name": "LayoutModel",
          "model_module_version": "1.2.0",
          "state": {
            "_model_module": "@jupyter-widgets/base",
            "_model_module_version": "1.2.0",
            "_model_name": "LayoutModel",
            "_view_count": null,
            "_view_module": "@jupyter-widgets/base",
            "_view_module_version": "1.2.0",
            "_view_name": "LayoutView",
            "align_content": null,
            "align_items": null,
            "align_self": null,
            "border": null,
            "bottom": null,
            "display": null,
            "flex": null,
            "flex_flow": null,
            "grid_area": null,
            "grid_auto_columns": null,
            "grid_auto_flow": null,
            "grid_auto_rows": null,
            "grid_column": null,
            "grid_gap": null,
            "grid_row": null,
            "grid_template_areas": null,
            "grid_template_columns": null,
            "grid_template_rows": null,
            "height": null,
            "justify_content": null,
            "justify_items": null,
            "left": null,
            "margin": null,
            "max_height": null,
            "max_width": null,
            "min_height": null,
            "min_width": null,
            "object_fit": null,
            "object_position": null,
            "order": null,
            "overflow": null,
            "overflow_x": null,
            "overflow_y": null,
            "padding": null,
            "right": null,
            "top": null,
            "visibility": null,
            "width": null
          }
        },
        "7fde7bb3acbb46bda33f0ef04e7d14bf": {
          "model_module": "@jupyter-widgets/base",
          "model_name": "LayoutModel",
          "model_module_version": "1.2.0",
          "state": {
            "_model_module": "@jupyter-widgets/base",
            "_model_module_version": "1.2.0",
            "_model_name": "LayoutModel",
            "_view_count": null,
            "_view_module": "@jupyter-widgets/base",
            "_view_module_version": "1.2.0",
            "_view_name": "LayoutView",
            "align_content": null,
            "align_items": null,
            "align_self": null,
            "border": null,
            "bottom": null,
            "display": null,
            "flex": null,
            "flex_flow": null,
            "grid_area": null,
            "grid_auto_columns": null,
            "grid_auto_flow": null,
            "grid_auto_rows": null,
            "grid_column": null,
            "grid_gap": null,
            "grid_row": null,
            "grid_template_areas": null,
            "grid_template_columns": null,
            "grid_template_rows": null,
            "height": null,
            "justify_content": null,
            "justify_items": null,
            "left": null,
            "margin": null,
            "max_height": null,
            "max_width": null,
            "min_height": null,
            "min_width": null,
            "object_fit": null,
            "object_position": null,
            "order": null,
            "overflow": null,
            "overflow_x": null,
            "overflow_y": null,
            "padding": null,
            "right": null,
            "top": null,
            "visibility": null,
            "width": null
          }
        },
        "8c7569ed524049ba8c55f1fafb0bc939": {
          "model_module": "@jupyter-widgets/controls",
          "model_name": "DescriptionStyleModel",
          "model_module_version": "1.5.0",
          "state": {
            "_model_module": "@jupyter-widgets/controls",
            "_model_module_version": "1.5.0",
            "_model_name": "DescriptionStyleModel",
            "_view_count": null,
            "_view_module": "@jupyter-widgets/base",
            "_view_module_version": "1.2.0",
            "_view_name": "StyleView",
            "description_width": ""
          }
        },
        "4b00454a1f7b46e29e82cbb7b6763dc0": {
          "model_module": "@jupyter-widgets/base",
          "model_name": "LayoutModel",
          "model_module_version": "1.2.0",
          "state": {
            "_model_module": "@jupyter-widgets/base",
            "_model_module_version": "1.2.0",
            "_model_name": "LayoutModel",
            "_view_count": null,
            "_view_module": "@jupyter-widgets/base",
            "_view_module_version": "1.2.0",
            "_view_name": "LayoutView",
            "align_content": null,
            "align_items": null,
            "align_self": null,
            "border": null,
            "bottom": null,
            "display": null,
            "flex": null,
            "flex_flow": null,
            "grid_area": null,
            "grid_auto_columns": null,
            "grid_auto_flow": null,
            "grid_auto_rows": null,
            "grid_column": null,
            "grid_gap": null,
            "grid_row": null,
            "grid_template_areas": null,
            "grid_template_columns": null,
            "grid_template_rows": null,
            "height": null,
            "justify_content": null,
            "justify_items": null,
            "left": null,
            "margin": null,
            "max_height": null,
            "max_width": null,
            "min_height": null,
            "min_width": null,
            "object_fit": null,
            "object_position": null,
            "order": null,
            "overflow": null,
            "overflow_x": null,
            "overflow_y": null,
            "padding": null,
            "right": null,
            "top": null,
            "visibility": null,
            "width": null
          }
        },
        "12e5cf081d97439591de78390075b56f": {
          "model_module": "@jupyter-widgets/controls",
          "model_name": "ProgressStyleModel",
          "model_module_version": "1.5.0",
          "state": {
            "_model_module": "@jupyter-widgets/controls",
            "_model_module_version": "1.5.0",
            "_model_name": "ProgressStyleModel",
            "_view_count": null,
            "_view_module": "@jupyter-widgets/base",
            "_view_module_version": "1.2.0",
            "_view_name": "StyleView",
            "bar_color": null,
            "description_width": ""
          }
        },
        "703f4b242d114e7aadf58904fb64dc38": {
          "model_module": "@jupyter-widgets/base",
          "model_name": "LayoutModel",
          "model_module_version": "1.2.0",
          "state": {
            "_model_module": "@jupyter-widgets/base",
            "_model_module_version": "1.2.0",
            "_model_name": "LayoutModel",
            "_view_count": null,
            "_view_module": "@jupyter-widgets/base",
            "_view_module_version": "1.2.0",
            "_view_name": "LayoutView",
            "align_content": null,
            "align_items": null,
            "align_self": null,
            "border": null,
            "bottom": null,
            "display": null,
            "flex": null,
            "flex_flow": null,
            "grid_area": null,
            "grid_auto_columns": null,
            "grid_auto_flow": null,
            "grid_auto_rows": null,
            "grid_column": null,
            "grid_gap": null,
            "grid_row": null,
            "grid_template_areas": null,
            "grid_template_columns": null,
            "grid_template_rows": null,
            "height": null,
            "justify_content": null,
            "justify_items": null,
            "left": null,
            "margin": null,
            "max_height": null,
            "max_width": null,
            "min_height": null,
            "min_width": null,
            "object_fit": null,
            "object_position": null,
            "order": null,
            "overflow": null,
            "overflow_x": null,
            "overflow_y": null,
            "padding": null,
            "right": null,
            "top": null,
            "visibility": null,
            "width": null
          }
        },
        "9d0eddc0dc094f7b939085d126b9386c": {
          "model_module": "@jupyter-widgets/controls",
          "model_name": "DescriptionStyleModel",
          "model_module_version": "1.5.0",
          "state": {
            "_model_module": "@jupyter-widgets/controls",
            "_model_module_version": "1.5.0",
            "_model_name": "DescriptionStyleModel",
            "_view_count": null,
            "_view_module": "@jupyter-widgets/base",
            "_view_module_version": "1.2.0",
            "_view_name": "StyleView",
            "description_width": ""
          }
        },
        "b30ba8706dba4675a5135e743171f547": {
          "model_module": "@jupyter-widgets/controls",
          "model_name": "HBoxModel",
          "model_module_version": "1.5.0",
          "state": {
            "_dom_classes": [],
            "_model_module": "@jupyter-widgets/controls",
            "_model_module_version": "1.5.0",
            "_model_name": "HBoxModel",
            "_view_count": null,
            "_view_module": "@jupyter-widgets/controls",
            "_view_module_version": "1.5.0",
            "_view_name": "HBoxView",
            "box_style": "",
            "children": [
              "IPY_MODEL_433d3dea53d14486b69a3079b3edd1dc",
              "IPY_MODEL_2373a439be234dc3a2daab8924da1d06",
              "IPY_MODEL_de88148a73e24fcd90cf53c3fecd4dfb"
            ],
            "layout": "IPY_MODEL_85110c6d71ce4b748ce41cd9d36b4e84"
          }
        },
        "433d3dea53d14486b69a3079b3edd1dc": {
          "model_module": "@jupyter-widgets/controls",
          "model_name": "HTMLModel",
          "model_module_version": "1.5.0",
          "state": {
            "_dom_classes": [],
            "_model_module": "@jupyter-widgets/controls",
            "_model_module_version": "1.5.0",
            "_model_name": "HTMLModel",
            "_view_count": null,
            "_view_module": "@jupyter-widgets/controls",
            "_view_module_version": "1.5.0",
            "_view_name": "HTMLView",
            "description": "",
            "description_tooltip": null,
            "layout": "IPY_MODEL_1840af0b385a4d56a7235c58a6938dea",
            "placeholder": "​",
            "style": "IPY_MODEL_9ac21f14625f457f9293ff2201a485a2",
            "value": "generation_config.json: 100%"
          }
        },
        "2373a439be234dc3a2daab8924da1d06": {
          "model_module": "@jupyter-widgets/controls",
          "model_name": "FloatProgressModel",
          "model_module_version": "1.5.0",
          "state": {
            "_dom_classes": [],
            "_model_module": "@jupyter-widgets/controls",
            "_model_module_version": "1.5.0",
            "_model_name": "FloatProgressModel",
            "_view_count": null,
            "_view_module": "@jupyter-widgets/controls",
            "_view_module_version": "1.5.0",
            "_view_name": "ProgressView",
            "bar_style": "success",
            "description": "",
            "description_tooltip": null,
            "layout": "IPY_MODEL_b221350b25c04e0aac7ae51361ad940d",
            "max": 124,
            "min": 0,
            "orientation": "horizontal",
            "style": "IPY_MODEL_5d6d474964184b7c89fb9cf71db3be00",
            "value": 124
          }
        },
        "de88148a73e24fcd90cf53c3fecd4dfb": {
          "model_module": "@jupyter-widgets/controls",
          "model_name": "HTMLModel",
          "model_module_version": "1.5.0",
          "state": {
            "_dom_classes": [],
            "_model_module": "@jupyter-widgets/controls",
            "_model_module_version": "1.5.0",
            "_model_name": "HTMLModel",
            "_view_count": null,
            "_view_module": "@jupyter-widgets/controls",
            "_view_module_version": "1.5.0",
            "_view_name": "HTMLView",
            "description": "",
            "description_tooltip": null,
            "layout": "IPY_MODEL_b3507c104b1f4ff589ebcfae94e8f95b",
            "placeholder": "​",
            "style": "IPY_MODEL_c17a2f57d5934e15978cf2530e56f810",
            "value": " 124/124 [00:00&lt;00:00, 11.2kB/s]"
          }
        },
        "85110c6d71ce4b748ce41cd9d36b4e84": {
          "model_module": "@jupyter-widgets/base",
          "model_name": "LayoutModel",
          "model_module_version": "1.2.0",
          "state": {
            "_model_module": "@jupyter-widgets/base",
            "_model_module_version": "1.2.0",
            "_model_name": "LayoutModel",
            "_view_count": null,
            "_view_module": "@jupyter-widgets/base",
            "_view_module_version": "1.2.0",
            "_view_name": "LayoutView",
            "align_content": null,
            "align_items": null,
            "align_self": null,
            "border": null,
            "bottom": null,
            "display": null,
            "flex": null,
            "flex_flow": null,
            "grid_area": null,
            "grid_auto_columns": null,
            "grid_auto_flow": null,
            "grid_auto_rows": null,
            "grid_column": null,
            "grid_gap": null,
            "grid_row": null,
            "grid_template_areas": null,
            "grid_template_columns": null,
            "grid_template_rows": null,
            "height": null,
            "justify_content": null,
            "justify_items": null,
            "left": null,
            "margin": null,
            "max_height": null,
            "max_width": null,
            "min_height": null,
            "min_width": null,
            "object_fit": null,
            "object_position": null,
            "order": null,
            "overflow": null,
            "overflow_x": null,
            "overflow_y": null,
            "padding": null,
            "right": null,
            "top": null,
            "visibility": null,
            "width": null
          }
        },
        "1840af0b385a4d56a7235c58a6938dea": {
          "model_module": "@jupyter-widgets/base",
          "model_name": "LayoutModel",
          "model_module_version": "1.2.0",
          "state": {
            "_model_module": "@jupyter-widgets/base",
            "_model_module_version": "1.2.0",
            "_model_name": "LayoutModel",
            "_view_count": null,
            "_view_module": "@jupyter-widgets/base",
            "_view_module_version": "1.2.0",
            "_view_name": "LayoutView",
            "align_content": null,
            "align_items": null,
            "align_self": null,
            "border": null,
            "bottom": null,
            "display": null,
            "flex": null,
            "flex_flow": null,
            "grid_area": null,
            "grid_auto_columns": null,
            "grid_auto_flow": null,
            "grid_auto_rows": null,
            "grid_column": null,
            "grid_gap": null,
            "grid_row": null,
            "grid_template_areas": null,
            "grid_template_columns": null,
            "grid_template_rows": null,
            "height": null,
            "justify_content": null,
            "justify_items": null,
            "left": null,
            "margin": null,
            "max_height": null,
            "max_width": null,
            "min_height": null,
            "min_width": null,
            "object_fit": null,
            "object_position": null,
            "order": null,
            "overflow": null,
            "overflow_x": null,
            "overflow_y": null,
            "padding": null,
            "right": null,
            "top": null,
            "visibility": null,
            "width": null
          }
        },
        "9ac21f14625f457f9293ff2201a485a2": {
          "model_module": "@jupyter-widgets/controls",
          "model_name": "DescriptionStyleModel",
          "model_module_version": "1.5.0",
          "state": {
            "_model_module": "@jupyter-widgets/controls",
            "_model_module_version": "1.5.0",
            "_model_name": "DescriptionStyleModel",
            "_view_count": null,
            "_view_module": "@jupyter-widgets/base",
            "_view_module_version": "1.2.0",
            "_view_name": "StyleView",
            "description_width": ""
          }
        },
        "b221350b25c04e0aac7ae51361ad940d": {
          "model_module": "@jupyter-widgets/base",
          "model_name": "LayoutModel",
          "model_module_version": "1.2.0",
          "state": {
            "_model_module": "@jupyter-widgets/base",
            "_model_module_version": "1.2.0",
            "_model_name": "LayoutModel",
            "_view_count": null,
            "_view_module": "@jupyter-widgets/base",
            "_view_module_version": "1.2.0",
            "_view_name": "LayoutView",
            "align_content": null,
            "align_items": null,
            "align_self": null,
            "border": null,
            "bottom": null,
            "display": null,
            "flex": null,
            "flex_flow": null,
            "grid_area": null,
            "grid_auto_columns": null,
            "grid_auto_flow": null,
            "grid_auto_rows": null,
            "grid_column": null,
            "grid_gap": null,
            "grid_row": null,
            "grid_template_areas": null,
            "grid_template_columns": null,
            "grid_template_rows": null,
            "height": null,
            "justify_content": null,
            "justify_items": null,
            "left": null,
            "margin": null,
            "max_height": null,
            "max_width": null,
            "min_height": null,
            "min_width": null,
            "object_fit": null,
            "object_position": null,
            "order": null,
            "overflow": null,
            "overflow_x": null,
            "overflow_y": null,
            "padding": null,
            "right": null,
            "top": null,
            "visibility": null,
            "width": null
          }
        },
        "5d6d474964184b7c89fb9cf71db3be00": {
          "model_module": "@jupyter-widgets/controls",
          "model_name": "ProgressStyleModel",
          "model_module_version": "1.5.0",
          "state": {
            "_model_module": "@jupyter-widgets/controls",
            "_model_module_version": "1.5.0",
            "_model_name": "ProgressStyleModel",
            "_view_count": null,
            "_view_module": "@jupyter-widgets/base",
            "_view_module_version": "1.2.0",
            "_view_name": "StyleView",
            "bar_color": null,
            "description_width": ""
          }
        },
        "b3507c104b1f4ff589ebcfae94e8f95b": {
          "model_module": "@jupyter-widgets/base",
          "model_name": "LayoutModel",
          "model_module_version": "1.2.0",
          "state": {
            "_model_module": "@jupyter-widgets/base",
            "_model_module_version": "1.2.0",
            "_model_name": "LayoutModel",
            "_view_count": null,
            "_view_module": "@jupyter-widgets/base",
            "_view_module_version": "1.2.0",
            "_view_name": "LayoutView",
            "align_content": null,
            "align_items": null,
            "align_self": null,
            "border": null,
            "bottom": null,
            "display": null,
            "flex": null,
            "flex_flow": null,
            "grid_area": null,
            "grid_auto_columns": null,
            "grid_auto_flow": null,
            "grid_auto_rows": null,
            "grid_column": null,
            "grid_gap": null,
            "grid_row": null,
            "grid_template_areas": null,
            "grid_template_columns": null,
            "grid_template_rows": null,
            "height": null,
            "justify_content": null,
            "justify_items": null,
            "left": null,
            "margin": null,
            "max_height": null,
            "max_width": null,
            "min_height": null,
            "min_width": null,
            "object_fit": null,
            "object_position": null,
            "order": null,
            "overflow": null,
            "overflow_x": null,
            "overflow_y": null,
            "padding": null,
            "right": null,
            "top": null,
            "visibility": null,
            "width": null
          }
        },
        "c17a2f57d5934e15978cf2530e56f810": {
          "model_module": "@jupyter-widgets/controls",
          "model_name": "DescriptionStyleModel",
          "model_module_version": "1.5.0",
          "state": {
            "_model_module": "@jupyter-widgets/controls",
            "_model_module_version": "1.5.0",
            "_model_name": "DescriptionStyleModel",
            "_view_count": null,
            "_view_module": "@jupyter-widgets/base",
            "_view_module_version": "1.2.0",
            "_view_name": "StyleView",
            "description_width": ""
          }
        }
      }
    }
  },
  "nbformat": 4,
  "nbformat_minor": 5
}